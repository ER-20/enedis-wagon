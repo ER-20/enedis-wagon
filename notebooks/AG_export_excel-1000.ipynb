{
 "cells": [
  {
   "cell_type": "code",
   "execution_count": 10,
   "id": "f88d2b68-4ae7-4220-9055-41a63c8c528e",
   "metadata": {},
   "outputs": [
    {
     "name": "stdout",
     "output_type": "stream",
     "text": [
      "Collecting openpyxl\n",
      "  Downloading openpyxl-3.1.4-py2.py3-none-any.whl.metadata (2.5 kB)\n",
      "Collecting et-xmlfile (from openpyxl)\n",
      "  Downloading et_xmlfile-1.1.0-py3-none-any.whl.metadata (1.8 kB)\n",
      "Downloading openpyxl-3.1.4-py2.py3-none-any.whl (251 kB)\n",
      "\u001b[2K   \u001b[90m━━━━━━━━━━━━━━━━━━━━━━━━━━━━━━━━━━━━━━━━\u001b[0m \u001b[32m251.4/251.4 kB\u001b[0m \u001b[31m3.5 MB/s\u001b[0m eta \u001b[36m0:00:00\u001b[0m00:01\u001b[0m0:01\u001b[0m\n",
      "\u001b[?25hDownloading et_xmlfile-1.1.0-py3-none-any.whl (4.7 kB)\n",
      "Installing collected packages: et-xmlfile, openpyxl\n",
      "Successfully installed et-xmlfile-1.1.0 openpyxl-3.1.4\n",
      "Note: you may need to restart the kernel to use updated packages.\n"
     ]
    }
   ],
   "source": [
    "pip install openpyxl"
   ]
  },
  {
   "cell_type": "code",
   "execution_count": 1,
   "id": "0332b60e-dd2a-4748-bef7-9d2c669a25d0",
   "metadata": {},
   "outputs": [],
   "source": [
    "import pandas as pd"
   ]
  },
  {
   "cell_type": "code",
   "execution_count": 2,
   "id": "932aef1e-bba4-426d-827c-b54f4d1f1b3f",
   "metadata": {},
   "outputs": [
    {
     "name": "stderr",
     "output_type": "stream",
     "text": [
      "/var/folders/y9/7s7sqqss253gzk6n0ct2by0r0000gn/T/ipykernel_3275/2477875483.py:1: DtypeWarning: Columns (11,12,29,30,112,190,191,192,193,218,219,220,221,222,226,237) have mixed types. Specify dtype option on import or set low_memory=False.\n",
      "  df_log_existants = pd.read_csv('~/code/enedis-wagon/data/ademe-logements-existants.csv', delimiter=',')\n"
     ]
    }
   ],
   "source": [
    "df_log_existants = pd.read_csv('~/code/enedis-wagon/data/ademe-logements-existants.csv', delimiter=',')"
   ]
  },
  {
   "cell_type": "code",
   "execution_count": 3,
   "id": "920b1429-8d76-4d80-ad9d-9d2c3b81664b",
   "metadata": {},
   "outputs": [],
   "source": [
    "df_enedis = pd.read_csv('~/code/enedis-wagon/data/enedis_13_citycode.csv', delimiter=',')"
   ]
  },
  {
   "cell_type": "code",
   "execution_count": 11,
   "id": "f41043f5-a381-4113-8c09-842f6a20148b",
   "metadata": {},
   "outputs": [],
   "source": [
    "# Assuming df_log_existants is your DataFrame\n",
    "\n",
    "# Sort the DataFrame by 'address' column\n",
    "df_sorted = df_enedis.sort_values(by='adresse')\n",
    "\n",
    "# Select the first 1000 rows\n",
    "df_first_1000 = df_sorted.head(1000)\n",
    "\n",
    "# Export the selected DataFrame to an Excel file\n",
    "df_first_1000.to_excel('sorted_enedis_first_1000.xlsx', index=False)\n"
   ]
  },
  {
   "cell_type": "code",
   "execution_count": 13,
   "id": "f5b6289b-eb31-46a8-b3f8-c76a404b5eca",
   "metadata": {},
   "outputs": [],
   "source": [
    "# Sort the DataFrame by 'address' column\n",
    "df_sorted = df_log_existants.sort_values(by='Adresse_brute')\n",
    "\n",
    "# Select the first 1000 rows\n",
    "df_first_1000 = df_sorted.head(1000)\n",
    "\n",
    "# Export the selected DataFrame to an Excel file\n",
    "df_first_1000.to_excel('sorted_log_existants_first_1000.xlsx', index=False)"
   ]
  },
  {
   "cell_type": "code",
   "execution_count": 12,
   "id": "281d54d0-876f-4e58-bf88-4aa960a893cb",
   "metadata": {},
   "outputs": [
    {
     "data": {
      "text/plain": [
       "0         124 - GARDANNE VELINE I -\\n. AVENUE MAUREL AGR...\n",
       "1                                        ESPLANADE DU PHARO\n",
       "2         204 - LE MERLIN -\\n. CHEMIN DE LA PELOUQUE  - ...\n",
       "3         146 - ARLES BARRIOL -\\n9 RUE DE PISE  - Bat H ...\n",
       "4         154 - LE VAUBAN -\\n. L''AVENUE DU PORT  - Bat ...\n",
       "                                ...                        \n",
       "245862                                   AVENUE DE LA MARNE\n",
       "245863                                          67 du Prado\n",
       "245864                                       Marceau Julien\n",
       "245865                                   RESIDENCE CONSOLAT\n",
       "245866                PARC MONTAIGNE 235 AVENUE JEAN DALMAS\n",
       "Name: Adresse_brute, Length: 245867, dtype: object"
      ]
     },
     "execution_count": 12,
     "metadata": {},
     "output_type": "execute_result"
    }
   ],
   "source": [
    "df_log_existants['Adresse_brute']"
   ]
  },
  {
   "cell_type": "code",
   "execution_count": 15,
   "id": "bf2fa120-75fb-4d61-b04e-8d2672779e9e",
   "metadata": {},
   "outputs": [],
   "source": [
    "# Sort the DataFrame by 'address' column\n",
    "df_sorted = df_enedis.sort_values(by='result_id')\n",
    "\n",
    "# Select the first 1000 rows\n",
    "df_first_1000 = df_sorted.head(1000)\n",
    "\n",
    "# Export the selected DataFrame to an Excel file\n",
    "df_first_1000.to_excel('sorted_enedis_first_1000.xlsx', index=False)\n"
   ]
  },
  {
   "cell_type": "code",
   "execution_count": 16,
   "id": "02983f9d-6f86-482d-9ee7-f2b0b0330ca3",
   "metadata": {},
   "outputs": [],
   "source": [
    "# Sort the DataFrame by 'address' column\n",
    "df_sorted = df_log_existants.sort_values(by='Identifiant__BAN')\n",
    "\n",
    "# Select the first 1000 rows\n",
    "df_first_1000 = df_sorted.head(1000)\n",
    "\n",
    "# Export the selected DataFrame to an Excel file\n",
    "df_first_1000.to_excel('sorted_log_existants_first_1000.xlsx', index=False)"
   ]
  },
  {
   "cell_type": "code",
   "execution_count": null,
   "id": "20f7cd70-d645-4dd3-9e7f-c4b1e999c042",
   "metadata": {},
   "outputs": [],
   "source": []
  }
 ],
 "metadata": {
  "kernelspec": {
   "display_name": "Python 3 (ipykernel)",
   "language": "python",
   "name": "python3"
  },
  "language_info": {
   "codemirror_mode": {
    "name": "ipython",
    "version": 3
   },
   "file_extension": ".py",
   "mimetype": "text/x-python",
   "name": "python",
   "nbconvert_exporter": "python",
   "pygments_lexer": "ipython3",
   "version": "3.12.3"
  }
 },
 "nbformat": 4,
 "nbformat_minor": 5
}
