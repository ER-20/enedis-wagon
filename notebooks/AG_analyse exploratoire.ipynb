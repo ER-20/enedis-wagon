{
 "cells": [
  {
   "cell_type": "code",
   "execution_count": 1,
   "id": "de8e544e-2673-46b7-85a2-2215b1a8b06c",
   "metadata": {},
   "outputs": [
    {
     "name": "stdout",
     "output_type": "stream",
     "text": [
      "Requirement already satisfied: pandas in /opt/miniconda3/lib/python3.12/site-packages (2.2.2)\n",
      "Requirement already satisfied: numpy>=1.26.0 in /opt/miniconda3/lib/python3.12/site-packages (from pandas) (2.0.0)\n",
      "Requirement already satisfied: python-dateutil>=2.8.2 in /opt/miniconda3/lib/python3.12/site-packages (from pandas) (2.9.0.post0)\n",
      "Requirement already satisfied: pytz>=2020.1 in /opt/miniconda3/lib/python3.12/site-packages (from pandas) (2024.1)\n",
      "Requirement already satisfied: tzdata>=2022.7 in /opt/miniconda3/lib/python3.12/site-packages (from pandas) (2024.1)\n",
      "Requirement already satisfied: six>=1.5 in /opt/miniconda3/lib/python3.12/site-packages (from python-dateutil>=2.8.2->pandas) (1.16.0)\n",
      "Note: you may need to restart the kernel to use updated packages.\n"
     ]
    }
   ],
   "source": [
    "pip install pandas"
   ]
  },
  {
   "cell_type": "code",
   "execution_count": 2,
   "id": "8df4433c-c39b-4841-987b-04779a2eb3dd",
   "metadata": {},
   "outputs": [],
   "source": [
    "import pandas as pd"
   ]
  },
  {
   "cell_type": "code",
   "execution_count": 11,
   "id": "3ae170f3-41e1-4510-840c-4990eac1c3ef",
   "metadata": {},
   "outputs": [
    {
     "name": "stderr",
     "output_type": "stream",
     "text": [
      "/var/folders/y9/7s7sqqss253gzk6n0ct2by0r0000gn/T/ipykernel_98557/2477875483.py:1: DtypeWarning: Columns (11,12,29,30,112,190,191,192,193,218,219,220,221,222,226,237) have mixed types. Specify dtype option on import or set low_memory=False.\n",
      "  df_log_existants = pd.read_csv('~/code/enedis-wagon/data/ademe-logements-existants.csv', delimiter=',')\n"
     ]
    }
   ],
   "source": [
    "df_log_existants = pd.read_csv('~/code/enedis-wagon/data/ademe-logements-existants.csv', delimiter=',')"
   ]
  },
  {
   "cell_type": "code",
   "execution_count": 13,
   "id": "b756234f-2d56-47d4-b213-0c28704046a1",
   "metadata": {},
   "outputs": [
    {
     "data": {
      "text/html": [
       "<div>\n",
       "<style scoped>\n",
       "    .dataframe tbody tr th:only-of-type {\n",
       "        vertical-align: middle;\n",
       "    }\n",
       "\n",
       "    .dataframe tbody tr th {\n",
       "        vertical-align: top;\n",
       "    }\n",
       "\n",
       "    .dataframe thead th {\n",
       "        text-align: right;\n",
       "    }\n",
       "</style>\n",
       "<table border=\"1\" class=\"dataframe\">\n",
       "  <thead>\n",
       "    <tr style=\"text-align: right;\">\n",
       "      <th></th>\n",
       "      <th>N°DPE</th>\n",
       "      <th>Date_réception_DPE</th>\n",
       "      <th>Date_établissement_DPE</th>\n",
       "      <th>Date_visite_diagnostiqueur</th>\n",
       "      <th>Modèle_DPE</th>\n",
       "      <th>N°_DPE_remplacé</th>\n",
       "      <th>Date_fin_validité_DPE</th>\n",
       "      <th>Version_DPE</th>\n",
       "      <th>N°_DPE_immeuble_associé</th>\n",
       "      <th>Appartement_non_visité_(0/1)</th>\n",
       "      <th>...</th>\n",
       "      <th>Type_générateur_froid</th>\n",
       "      <th>Surface_climatisée</th>\n",
       "      <th>Type_énergie_climatisation</th>\n",
       "      <th>Catégorie_ENR</th>\n",
       "      <th>Electricité_PV_autoconsommée</th>\n",
       "      <th>Système_production_électricité_origine_renouvelable</th>\n",
       "      <th>Présence_production_PV_(0/1)</th>\n",
       "      <th>Production_électricité_PV_(kWhep/an)</th>\n",
       "      <th>Surface_totale_capteurs_photovoltaïque</th>\n",
       "      <th>Nombre_module</th>\n",
       "    </tr>\n",
       "  </thead>\n",
       "  <tbody>\n",
       "    <tr>\n",
       "      <th>0</th>\n",
       "      <td>2113E1018248X</td>\n",
       "      <td>2022-01-03</td>\n",
       "      <td>2021-11-21</td>\n",
       "      <td>2021-11-21</td>\n",
       "      <td>DPE 3CL 2021 méthode logement</td>\n",
       "      <td>NaN</td>\n",
       "      <td>2031-11-20</td>\n",
       "      <td>1.1</td>\n",
       "      <td>NaN</td>\n",
       "      <td>NaN</td>\n",
       "      <td>...</td>\n",
       "      <td>NaN</td>\n",
       "      <td>NaN</td>\n",
       "      <td>NaN</td>\n",
       "      <td>NaN</td>\n",
       "      <td>1.0</td>\n",
       "      <td>Solaire Photovoltaïque</td>\n",
       "      <td>1.0</td>\n",
       "      <td>0.0</td>\n",
       "      <td>NaN</td>\n",
       "      <td>NaN</td>\n",
       "    </tr>\n",
       "    <tr>\n",
       "      <th>1</th>\n",
       "      <td>2313E1088013G</td>\n",
       "      <td>2023-03-31</td>\n",
       "      <td>2023-03-23</td>\n",
       "      <td>2023-03-23</td>\n",
       "      <td>DPE 3CL 2021 méthode logement</td>\n",
       "      <td>NaN</td>\n",
       "      <td>2033-03-22</td>\n",
       "      <td>2.2</td>\n",
       "      <td>NaN</td>\n",
       "      <td>0.0</td>\n",
       "      <td>...</td>\n",
       "      <td>NaN</td>\n",
       "      <td>NaN</td>\n",
       "      <td>NaN</td>\n",
       "      <td>NaN</td>\n",
       "      <td>NaN</td>\n",
       "      <td>Solaire Photovoltaïque</td>\n",
       "      <td>0.0</td>\n",
       "      <td>0.0</td>\n",
       "      <td>NaN</td>\n",
       "      <td>NaN</td>\n",
       "    </tr>\n",
       "    <tr>\n",
       "      <th>2</th>\n",
       "      <td>2113E1017999I</td>\n",
       "      <td>2022-01-03</td>\n",
       "      <td>2021-11-30</td>\n",
       "      <td>2021-11-30</td>\n",
       "      <td>DPE 3CL 2021 méthode logement</td>\n",
       "      <td>NaN</td>\n",
       "      <td>2031-11-29</td>\n",
       "      <td>1.1</td>\n",
       "      <td>NaN</td>\n",
       "      <td>NaN</td>\n",
       "      <td>...</td>\n",
       "      <td>NaN</td>\n",
       "      <td>NaN</td>\n",
       "      <td>NaN</td>\n",
       "      <td>NaN</td>\n",
       "      <td>1.0</td>\n",
       "      <td>Solaire Photovoltaïque</td>\n",
       "      <td>1.0</td>\n",
       "      <td>0.0</td>\n",
       "      <td>NaN</td>\n",
       "      <td>NaN</td>\n",
       "    </tr>\n",
       "    <tr>\n",
       "      <th>3</th>\n",
       "      <td>2113E1018033Q</td>\n",
       "      <td>2022-01-03</td>\n",
       "      <td>2021-12-04</td>\n",
       "      <td>2021-11-25</td>\n",
       "      <td>DPE 3CL 2021 méthode logement</td>\n",
       "      <td>NaN</td>\n",
       "      <td>2031-12-03</td>\n",
       "      <td>1.1</td>\n",
       "      <td>NaN</td>\n",
       "      <td>NaN</td>\n",
       "      <td>...</td>\n",
       "      <td>NaN</td>\n",
       "      <td>NaN</td>\n",
       "      <td>NaN</td>\n",
       "      <td>NaN</td>\n",
       "      <td>1.0</td>\n",
       "      <td>Solaire Photovoltaïque</td>\n",
       "      <td>1.0</td>\n",
       "      <td>0.0</td>\n",
       "      <td>NaN</td>\n",
       "      <td>NaN</td>\n",
       "    </tr>\n",
       "    <tr>\n",
       "      <th>4</th>\n",
       "      <td>2113E1018028L</td>\n",
       "      <td>2022-01-03</td>\n",
       "      <td>2021-11-30</td>\n",
       "      <td>2021-11-30</td>\n",
       "      <td>DPE 3CL 2021 méthode logement</td>\n",
       "      <td>NaN</td>\n",
       "      <td>2031-11-29</td>\n",
       "      <td>1.1</td>\n",
       "      <td>NaN</td>\n",
       "      <td>NaN</td>\n",
       "      <td>...</td>\n",
       "      <td>NaN</td>\n",
       "      <td>NaN</td>\n",
       "      <td>NaN</td>\n",
       "      <td>NaN</td>\n",
       "      <td>1.0</td>\n",
       "      <td>Solaire Photovoltaïque</td>\n",
       "      <td>1.0</td>\n",
       "      <td>0.0</td>\n",
       "      <td>NaN</td>\n",
       "      <td>NaN</td>\n",
       "    </tr>\n",
       "  </tbody>\n",
       "</table>\n",
       "<p>5 rows × 242 columns</p>\n",
       "</div>"
      ],
      "text/plain": [
       "           N°DPE Date_réception_DPE Date_établissement_DPE  \\\n",
       "0  2113E1018248X         2022-01-03             2021-11-21   \n",
       "1  2313E1088013G         2023-03-31             2023-03-23   \n",
       "2  2113E1017999I         2022-01-03             2021-11-30   \n",
       "3  2113E1018033Q         2022-01-03             2021-12-04   \n",
       "4  2113E1018028L         2022-01-03             2021-11-30   \n",
       "\n",
       "  Date_visite_diagnostiqueur                     Modèle_DPE N°_DPE_remplacé  \\\n",
       "0                 2021-11-21  DPE 3CL 2021 méthode logement             NaN   \n",
       "1                 2023-03-23  DPE 3CL 2021 méthode logement             NaN   \n",
       "2                 2021-11-30  DPE 3CL 2021 méthode logement             NaN   \n",
       "3                 2021-11-25  DPE 3CL 2021 méthode logement             NaN   \n",
       "4                 2021-11-30  DPE 3CL 2021 méthode logement             NaN   \n",
       "\n",
       "  Date_fin_validité_DPE  Version_DPE N°_DPE_immeuble_associé  \\\n",
       "0            2031-11-20          1.1                     NaN   \n",
       "1            2033-03-22          2.2                     NaN   \n",
       "2            2031-11-29          1.1                     NaN   \n",
       "3            2031-12-03          1.1                     NaN   \n",
       "4            2031-11-29          1.1                     NaN   \n",
       "\n",
       "   Appartement_non_visité_(0/1)  ... Type_générateur_froid Surface_climatisée  \\\n",
       "0                           NaN  ...                   NaN                NaN   \n",
       "1                           0.0  ...                   NaN                NaN   \n",
       "2                           NaN  ...                   NaN                NaN   \n",
       "3                           NaN  ...                   NaN                NaN   \n",
       "4                           NaN  ...                   NaN                NaN   \n",
       "\n",
       "  Type_énergie_climatisation  Catégorie_ENR Electricité_PV_autoconsommée  \\\n",
       "0                        NaN            NaN                          1.0   \n",
       "1                        NaN            NaN                          NaN   \n",
       "2                        NaN            NaN                          1.0   \n",
       "3                        NaN            NaN                          1.0   \n",
       "4                        NaN            NaN                          1.0   \n",
       "\n",
       "  Système_production_électricité_origine_renouvelable  \\\n",
       "0                             Solaire Photovoltaïque    \n",
       "1                             Solaire Photovoltaïque    \n",
       "2                             Solaire Photovoltaïque    \n",
       "3                             Solaire Photovoltaïque    \n",
       "4                             Solaire Photovoltaïque    \n",
       "\n",
       "   Présence_production_PV_(0/1) Production_électricité_PV_(kWhep/an)  \\\n",
       "0                           1.0                                  0.0   \n",
       "1                           0.0                                  0.0   \n",
       "2                           1.0                                  0.0   \n",
       "3                           1.0                                  0.0   \n",
       "4                           1.0                                  0.0   \n",
       "\n",
       "  Surface_totale_capteurs_photovoltaïque Nombre_module  \n",
       "0                                    NaN           NaN  \n",
       "1                                    NaN           NaN  \n",
       "2                                    NaN           NaN  \n",
       "3                                    NaN           NaN  \n",
       "4                                    NaN           NaN  \n",
       "\n",
       "[5 rows x 242 columns]"
      ]
     },
     "execution_count": 13,
     "metadata": {},
     "output_type": "execute_result"
    }
   ],
   "source": [
    "df_log_existants.head()"
   ]
  },
  {
   "cell_type": "code",
   "execution_count": 14,
   "id": "396a8b16-1875-4acb-8716-ae43c4a76b4e",
   "metadata": {},
   "outputs": [
    {
     "data": {
      "text/plain": [
       "(245867, 242)"
      ]
     },
     "execution_count": 14,
     "metadata": {},
     "output_type": "execute_result"
    }
   ],
   "source": [
    "df_log_existants.shape"
   ]
  },
  {
   "cell_type": "code",
   "execution_count": 15,
   "id": "0e2ea841-6239-4320-8232-efc139cec2f5",
   "metadata": {},
   "outputs": [],
   "source": [
    "df_enedis = pd.read_csv('~/code/enedis-wagon/data/enedis_13_citycode.csv', delimiter=',')"
   ]
  },
  {
   "cell_type": "code",
   "execution_count": 18,
   "id": "377a9215-eb50-4516-b6b5-a35467f873cb",
   "metadata": {},
   "outputs": [
    {
     "name": "stderr",
     "output_type": "stream",
     "text": [
      "/var/folders/y9/7s7sqqss253gzk6n0ct2by0r0000gn/T/ipykernel_98557/3846441453.py:1: DtypeWarning: Columns (26,27,28,34,111,217,218) have mixed types. Specify dtype option on import or set low_memory=False.\n",
      "  df_log_neufs = pd.read_csv('~/code/enedis-wagon/data/ademe-logements-neufs.csv', delimiter=',')\n"
     ]
    }
   ],
   "source": [
    "df_log_neufs = pd.read_csv('~/code/enedis-wagon/data/ademe-logements-neufs.csv', delimiter=',')"
   ]
  },
  {
   "cell_type": "code",
   "execution_count": 19,
   "id": "ff2d63b7-2735-4232-b10c-1e780037a813",
   "metadata": {},
   "outputs": [
    {
     "data": {
      "text/plain": [
       "(27125, 220)"
      ]
     },
     "execution_count": 19,
     "metadata": {},
     "output_type": "execute_result"
    }
   ],
   "source": [
    "df_log_neufs.shape"
   ]
  },
  {
   "cell_type": "code",
   "execution_count": 20,
   "id": "340d4c1f-cd8e-42f3-9223-15a74c9e8e54",
   "metadata": {},
   "outputs": [
    {
     "data": {
      "text/html": [
       "<div>\n",
       "<style scoped>\n",
       "    .dataframe tbody tr th:only-of-type {\n",
       "        vertical-align: middle;\n",
       "    }\n",
       "\n",
       "    .dataframe tbody tr th {\n",
       "        vertical-align: top;\n",
       "    }\n",
       "\n",
       "    .dataframe thead th {\n",
       "        text-align: right;\n",
       "    }\n",
       "</style>\n",
       "<table border=\"1\" class=\"dataframe\">\n",
       "  <thead>\n",
       "    <tr style=\"text-align: right;\">\n",
       "      <th></th>\n",
       "      <th>annee</th>\n",
       "      <th>code_iris</th>\n",
       "      <th>nom_iris</th>\n",
       "      <th>numero_de_voie</th>\n",
       "      <th>indice_de_repetition</th>\n",
       "      <th>type_de_voie</th>\n",
       "      <th>libelle_de_voie</th>\n",
       "      <th>code_commune</th>\n",
       "      <th>nom_commune</th>\n",
       "      <th>segment_de_client</th>\n",
       "      <th>nombre_de_logements</th>\n",
       "      <th>consommation_annuelle_totale_de_l_adresse_mwh</th>\n",
       "      <th>consommation_annuelle_moyenne_par_site_de_l_adresse_mwh</th>\n",
       "      <th>consommation_annuelle_moyenne_de_la_commune_mwh</th>\n",
       "      <th>adresse</th>\n",
       "      <th>tri_des_adresses</th>\n",
       "      <th>code_epci</th>\n",
       "      <th>code_departement</th>\n",
       "      <th>code_region</th>\n",
       "      <th>result_id</th>\n",
       "    </tr>\n",
       "  </thead>\n",
       "  <tbody>\n",
       "    <tr>\n",
       "      <th>0</th>\n",
       "      <td>2019</td>\n",
       "      <td>130850000</td>\n",
       "      <td>Roquefort-la-Bédoule (commune non irisée)</td>\n",
       "      <td>4.0</td>\n",
       "      <td>NaN</td>\n",
       "      <td>ALLEE</td>\n",
       "      <td>DES MICOCOULIERS</td>\n",
       "      <td>13085</td>\n",
       "      <td>Roquefort-la-Bédoule</td>\n",
       "      <td>RESIDENTIEL</td>\n",
       "      <td>16</td>\n",
       "      <td>29.121</td>\n",
       "      <td>1.820</td>\n",
       "      <td>7.149</td>\n",
       "      <td>4 ALLEE DES MICOCOULIERS</td>\n",
       "      <td>310184</td>\n",
       "      <td>200054807.0</td>\n",
       "      <td>13.0</td>\n",
       "      <td>93.0</td>\n",
       "      <td>13085_0241_00004</td>\n",
       "    </tr>\n",
       "    <tr>\n",
       "      <th>1</th>\n",
       "      <td>2019</td>\n",
       "      <td>130860101</td>\n",
       "      <td>Roquevaire Centre et Abords</td>\n",
       "      <td>352.0</td>\n",
       "      <td>NaN</td>\n",
       "      <td>CHEMIN</td>\n",
       "      <td>DE VALMEJANE</td>\n",
       "      <td>13086</td>\n",
       "      <td>Roquevaire</td>\n",
       "      <td>RESIDENTIEL</td>\n",
       "      <td>10</td>\n",
       "      <td>69.518</td>\n",
       "      <td>6.952</td>\n",
       "      <td>7.217</td>\n",
       "      <td>352 CHEMIN DE VALMEJANE</td>\n",
       "      <td>310251</td>\n",
       "      <td>200054807.0</td>\n",
       "      <td>13.0</td>\n",
       "      <td>93.0</td>\n",
       "      <td>13086_0914_00352</td>\n",
       "    </tr>\n",
       "    <tr>\n",
       "      <th>2</th>\n",
       "      <td>2019</td>\n",
       "      <td>130860101</td>\n",
       "      <td>Roquevaire Centre et Abords</td>\n",
       "      <td>320.0</td>\n",
       "      <td>NaN</td>\n",
       "      <td>CHEMIN</td>\n",
       "      <td>DU VALLON DE FONTETES</td>\n",
       "      <td>13086</td>\n",
       "      <td>Roquevaire</td>\n",
       "      <td>RESIDENTIEL</td>\n",
       "      <td>19</td>\n",
       "      <td>143.778</td>\n",
       "      <td>7.567</td>\n",
       "      <td>7.217</td>\n",
       "      <td>320 CHEMIN DU VALLON DE FONTETES</td>\n",
       "      <td>310254</td>\n",
       "      <td>200054807.0</td>\n",
       "      <td>13.0</td>\n",
       "      <td>93.0</td>\n",
       "      <td>13086_0911_00320</td>\n",
       "    </tr>\n",
       "    <tr>\n",
       "      <th>3</th>\n",
       "      <td>2019</td>\n",
       "      <td>130760000</td>\n",
       "      <td>Plan-d'Orgon (commune non irisée)</td>\n",
       "      <td>594.0</td>\n",
       "      <td>NaN</td>\n",
       "      <td>CHEMIN</td>\n",
       "      <td>MOULIN DU PLAN</td>\n",
       "      <td>13076</td>\n",
       "      <td>Plan-d'Orgon</td>\n",
       "      <td>RESIDENTIEL</td>\n",
       "      <td>22</td>\n",
       "      <td>167.261</td>\n",
       "      <td>7.603</td>\n",
       "      <td>7.322</td>\n",
       "      <td>594 CHEMIN MOULIN DU PLAN</td>\n",
       "      <td>291343</td>\n",
       "      <td>200035087.0</td>\n",
       "      <td>13.0</td>\n",
       "      <td>93.0</td>\n",
       "      <td>13076_0025_00594</td>\n",
       "    </tr>\n",
       "    <tr>\n",
       "      <th>4</th>\n",
       "      <td>2019</td>\n",
       "      <td>130750102</td>\n",
       "      <td>Sud</td>\n",
       "      <td>5.0</td>\n",
       "      <td>NaN</td>\n",
       "      <td>RUE</td>\n",
       "      <td>JEAN BAPTISTE MICHEL</td>\n",
       "      <td>13075</td>\n",
       "      <td>Plan-de-Cuques</td>\n",
       "      <td>RESIDENTIEL</td>\n",
       "      <td>13</td>\n",
       "      <td>51.682</td>\n",
       "      <td>3.976</td>\n",
       "      <td>5.243</td>\n",
       "      <td>5 RUE JEAN BAPTISTE MICHEL</td>\n",
       "      <td>291348</td>\n",
       "      <td>200054807.0</td>\n",
       "      <td>13.0</td>\n",
       "      <td>93.0</td>\n",
       "      <td>13075_3710_00005</td>\n",
       "    </tr>\n",
       "  </tbody>\n",
       "</table>\n",
       "</div>"
      ],
      "text/plain": [
       "   annee  code_iris                                   nom_iris  \\\n",
       "0   2019  130850000  Roquefort-la-Bédoule (commune non irisée)   \n",
       "1   2019  130860101                Roquevaire Centre et Abords   \n",
       "2   2019  130860101                Roquevaire Centre et Abords   \n",
       "3   2019  130760000          Plan-d'Orgon (commune non irisée)   \n",
       "4   2019  130750102                                        Sud   \n",
       "\n",
       "   numero_de_voie indice_de_repetition type_de_voie        libelle_de_voie  \\\n",
       "0             4.0                  NaN        ALLEE       DES MICOCOULIERS   \n",
       "1           352.0                  NaN       CHEMIN           DE VALMEJANE   \n",
       "2           320.0                  NaN       CHEMIN  DU VALLON DE FONTETES   \n",
       "3           594.0                  NaN       CHEMIN         MOULIN DU PLAN   \n",
       "4             5.0                  NaN          RUE   JEAN BAPTISTE MICHEL   \n",
       "\n",
       "   code_commune           nom_commune segment_de_client  nombre_de_logements  \\\n",
       "0         13085  Roquefort-la-Bédoule       RESIDENTIEL                   16   \n",
       "1         13086            Roquevaire       RESIDENTIEL                   10   \n",
       "2         13086            Roquevaire       RESIDENTIEL                   19   \n",
       "3         13076          Plan-d'Orgon       RESIDENTIEL                   22   \n",
       "4         13075        Plan-de-Cuques       RESIDENTIEL                   13   \n",
       "\n",
       "   consommation_annuelle_totale_de_l_adresse_mwh  \\\n",
       "0                                         29.121   \n",
       "1                                         69.518   \n",
       "2                                        143.778   \n",
       "3                                        167.261   \n",
       "4                                         51.682   \n",
       "\n",
       "   consommation_annuelle_moyenne_par_site_de_l_adresse_mwh  \\\n",
       "0                                              1.820         \n",
       "1                                              6.952         \n",
       "2                                              7.567         \n",
       "3                                              7.603         \n",
       "4                                              3.976         \n",
       "\n",
       "   consommation_annuelle_moyenne_de_la_commune_mwh  \\\n",
       "0                                            7.149   \n",
       "1                                            7.217   \n",
       "2                                            7.217   \n",
       "3                                            7.322   \n",
       "4                                            5.243   \n",
       "\n",
       "                            adresse  tri_des_adresses    code_epci  \\\n",
       "0          4 ALLEE DES MICOCOULIERS            310184  200054807.0   \n",
       "1           352 CHEMIN DE VALMEJANE            310251  200054807.0   \n",
       "2  320 CHEMIN DU VALLON DE FONTETES            310254  200054807.0   \n",
       "3         594 CHEMIN MOULIN DU PLAN            291343  200035087.0   \n",
       "4        5 RUE JEAN BAPTISTE MICHEL            291348  200054807.0   \n",
       "\n",
       "   code_departement  code_region         result_id  \n",
       "0              13.0         93.0  13085_0241_00004  \n",
       "1              13.0         93.0  13086_0914_00352  \n",
       "2              13.0         93.0  13086_0911_00320  \n",
       "3              13.0         93.0  13076_0025_00594  \n",
       "4              13.0         93.0  13075_3710_00005  "
      ]
     },
     "execution_count": 20,
     "metadata": {},
     "output_type": "execute_result"
    }
   ],
   "source": [
    "df_enedis.head()"
   ]
  },
  {
   "cell_type": "code",
   "execution_count": 21,
   "id": "834bd793-3cde-44fb-80c1-027f1412b17c",
   "metadata": {},
   "outputs": [
    {
     "data": {
      "text/plain": [
       "(57678, 20)"
      ]
     },
     "execution_count": 21,
     "metadata": {},
     "output_type": "execute_result"
    }
   ],
   "source": [
    "df_enedis.shape"
   ]
  },
  {
   "cell_type": "code",
   "execution_count": 22,
   "id": "75e3d1fd-feaa-4467-869b-998a979cb12d",
   "metadata": {},
   "outputs": [
    {
     "data": {
      "text/plain": [
       "(73609, 242)"
      ]
     },
     "execution_count": 22,
     "metadata": {},
     "output_type": "execute_result"
    }
   ],
   "source": [
    "df_log_existants = df_log_existants.drop_duplicates(subset='Identifiant__BAN')\n",
    "df_log_existants.shape"
   ]
  },
  {
   "cell_type": "code",
   "execution_count": 23,
   "id": "d05dfe8b-13a9-4156-b180-23eaabd3a723",
   "metadata": {},
   "outputs": [
    {
     "data": {
      "text/plain": [
       "(12899, 20)"
      ]
     },
     "execution_count": 23,
     "metadata": {},
     "output_type": "execute_result"
    }
   ],
   "source": [
    "df_enedis = df_enedis.drop_duplicates(subset='result_id')\n",
    "df_enedis.shape"
   ]
  },
  {
   "cell_type": "code",
   "execution_count": 25,
   "id": "1e855e81-c213-46c4-a870-cd7d413f93e1",
   "metadata": {},
   "outputs": [
    {
     "data": {
      "text/plain": [
       "(9397, 262)"
      ]
     },
     "execution_count": 25,
     "metadata": {},
     "output_type": "execute_result"
    }
   ],
   "source": [
    "df_merged_existants = pd.merge(df_log_existants, df_enedis, left_on='Identifiant__BAN', right_on='result_id', how='inner')\n",
    "df_merged_existants.shape"
   ]
  },
  {
   "cell_type": "code",
   "execution_count": 26,
   "id": "1daaaed0-5038-4bb3-9b56-8a554fa40a3e",
   "metadata": {},
   "outputs": [
    {
     "data": {
      "text/plain": [
       "(2483, 220)"
      ]
     },
     "execution_count": 26,
     "metadata": {},
     "output_type": "execute_result"
    }
   ],
   "source": [
    "df_log_neufs = df_log_neufs.drop_duplicates(subset='Identifiant__BAN')\n",
    "df_log_neufs.shape"
   ]
  },
  {
   "cell_type": "code",
   "execution_count": 27,
   "id": "16bfe52e-c361-49ec-9c88-49034a770d69",
   "metadata": {},
   "outputs": [
    {
     "data": {
      "text/plain": [
       "(159, 240)"
      ]
     },
     "execution_count": 27,
     "metadata": {},
     "output_type": "execute_result"
    }
   ],
   "source": [
    "df_merged_neuf = pd.merge(df_log_neufs, df_enedis, left_on='Identifiant__BAN', right_on='result_id', how='inner')\n",
    "df_merged_neuf.shape"
   ]
  },
  {
   "cell_type": "code",
   "execution_count": 28,
   "id": "bd550c36-b5e7-4257-85bd-cbb219db317d",
   "metadata": {},
   "outputs": [],
   "source": [
    "common_cols = df_log_neufs.columns.intersection(df_log_existants.columns)\n",
    "df_log_existants_filtered = df_log_existants[common_cols]\n",
    "df_stacked = pd.concat([df_log_existants_filtered, df_log_neufs], axis=0)\n",
    "\n"
   ]
  },
  {
   "cell_type": "code",
   "execution_count": 29,
   "id": "ab216ed5-bd68-497a-b5b7-4f1e5ba0eb98",
   "metadata": {},
   "outputs": [
    {
     "data": {
      "text/plain": [
       "(76092, 220)"
      ]
     },
     "execution_count": 29,
     "metadata": {},
     "output_type": "execute_result"
    }
   ],
   "source": [
    "df_stacked.shape"
   ]
  },
  {
   "cell_type": "code",
   "execution_count": 30,
   "id": "731d451d-757f-4613-bc6f-8685c6fd1f6a",
   "metadata": {},
   "outputs": [
    {
     "data": {
      "text/plain": [
       "(9556, 240)"
      ]
     },
     "execution_count": 30,
     "metadata": {},
     "output_type": "execute_result"
    }
   ],
   "source": [
    "df_merged_final = pd.merge(df_stacked, df_enedis, left_on='Identifiant__BAN', right_on='result_id', how='inner')\n",
    "df_merged_final.shape"
   ]
  },
  {
   "cell_type": "code",
   "execution_count": null,
   "id": "d2247397-b842-4281-b34f-606ac33a0484",
   "metadata": {},
   "outputs": [],
   "source": []
  }
 ],
 "metadata": {
  "kernelspec": {
   "display_name": "Python 3 (ipykernel)",
   "language": "python",
   "name": "python3"
  },
  "language_info": {
   "codemirror_mode": {
    "name": "ipython",
    "version": 3
   },
   "file_extension": ".py",
   "mimetype": "text/x-python",
   "name": "python",
   "nbconvert_exporter": "python",
   "pygments_lexer": "ipython3",
   "version": "3.12.3"
  }
 },
 "nbformat": 4,
 "nbformat_minor": 5
}
