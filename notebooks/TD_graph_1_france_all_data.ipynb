{
 "cells": [
  {
   "cell_type": "code",
   "execution_count": 2,
   "id": "8c4c7391-a0e6-457b-a4f5-816ec527a5ec",
   "metadata": {},
   "outputs": [],
   "source": [
    "import pandas as pd\n",
    "import numpy as np\n",
    "import plotly.express as px\n",
    "import os"
   ]
  },
  {
   "cell_type": "code",
   "execution_count": 10,
   "id": "ccd8dbba-4d01-4163-bd00-12380b766aa7",
   "metadata": {},
   "outputs": [],
   "source": [
    "d = [\n",
    "    \"Date_réception_DPE\",\n",
    "    \"Modèle_DPE\",\n",
    "    \"N°_DPE_remplacé\",\n",
    "    \"N°_DPE_immeuble_associé\",\n",
    "    \"Méthode_application_DPE\",\n",
    "    \"Etiquette_GES\",\n",
    "    \"Etiquette_DPE\",\n",
    "    \"Année_construction\",\n",
    "    \"Type_bâtiment\",\n",
    "    \"Type_installation_chauffage\",\n",
    "    \"Type_installation_ECS_(général)\",\n",
    "    \"Hauteur_sous-plafond\",\n",
    "    \"Nombre_appartement\",\n",
    "    \"Nombre_niveau_immeuble\",\n",
    "    \"Nombre_niveau_logement\",\n",
    "    \"Surface_habitable_immeuble\",\n",
    "    \"Surface_habitable_logement\",\n",
    "    \"Surface_tertiaire_immeuble\",\n",
    "    \"Classe_inertie_bâtiment\",\n",
    "    \"Position_logement_dans_immeuble\",\n",
    "    \"Zone_climatique_\",\n",
    "    \"Adresse_brute\",\n",
    "    \"Nom__commune_(BAN)\",\n",
    "    \"Code_INSEE_(BAN)\",\n",
    "    \"N°_voie_(BAN)\",\n",
    "    \"Identifiant__BAN\",\n",
    "    \"Adresse_(BAN)\",\n",
    "    \"Code_postal_(BAN)\",\n",
    "    \"Score_BAN\",\n",
    "    \"Nom__rue_(BAN)\",\n",
    "    \"Coordonnée_cartographique_X_(BAN)\",\n",
    "    \"Coordonnée_cartographique_Y_(BAN)\",\n",
    "    \"Code_postal_(brut)\",\n",
    "    \"N°_étage_appartement\",\n",
    "    \"Nom_résidence\",\n",
    "    \"Complément_d'adresse_bâtiment\",\n",
    "    \"Cage_d'escalier\",\n",
    "    \"Complément_d'adresse_logement\",\n",
    "    \"Statut_géocodage\",\n",
    "    \"N°_département_(BAN)\",\n",
    "    \"N°_région_(BAN)\",\n",
    "    \"Conso_5_usages_é_finale\",\n",
    "    \"Conso_5_usages/m²_é_finale\",\n",
    "    \"Conso_chauffage_é_finale\",\n",
    "    \"Conso_chauffage_dépensier_é_finale\",\n",
    "    \"Conso_éclairage_é_finale\",\n",
    "    \"Conso_ECS_é_finale\",\n",
    "    \"Conso_ECS_dépensier_é_finale\",\n",
    "    \"Conso_refroidissement_é_finale\",\n",
    "    \"Conso_refroidissement_dépensier_é_finale\",\n",
    "    \"Conso_auxiliaires_é_finale\",\n",
    "    \"Conso_5_usages_é_primaire\",\n",
    "    \"Conso_5_usages_par_m²_é_primaire\",\n",
    "    \"Conso_chauffage_é_primaire\",\n",
    "    \"Conso_chauffage_dépensier_é_primaire\",\n",
    "    \"Conso_éclairage_é_primaire\",\n",
    "    \"Conso_ECS_é_primaire\",\n",
    "    \"Conso_ECS_dépensier_é_primaire\",\n",
    "    \"Conso_refroidissement_é_primaire\",\n",
    "    \"Conso_refroidissement_dépensier_é_primaire\",\n",
    "    \"Conso_auxiliaires_é_primaire\",\n",
    "    \"Emission_GES_5_usages\",\n",
    "    \"Emission_GES_5_usages_par_m²\",\n",
    "    \"Emission_GES_chauffage\",\n",
    "    \"Emission_GES_chauffage_dépensier\",\n",
    "    \"Emission_GES_éclairage\",\n",
    "    \"Emission_GES_ECS\",\n",
    "    \"Emission_GES_ECS_dépensier\",\n",
    "    \"Emission_GES_refroidissement\",\n",
    "    \"Emission_GES_refroidissement_dépensier\",\n",
    "    \"Emission_GES_auxiliaires\",\n",
    "    \"Conso_chauffage_é_finale_énergie_n°1\",\n",
    "    \"Conso_ECS_é_finale_énergie_n°1\",\n",
    "    \"Coût_total_5_usages_énergie_n°1\",\n",
    "    \"Coût_chauffage_énergie_n°1\",\n",
    "    \"Coût_ECS_énergie_n°1\",\n",
    "    \"Emission_GES_5_usages_énergie_n°1\",\n",
    "    \"Emission_GES_chauffage_énergie_n°1\",\n",
    "    \"Emission_GES_ECS_énergie_n°1\",\n",
    "    \"Type_énergie_n°1\",\n",
    "    \"Conso_5_usages_é_finale_énergie_n°2\",\n",
    "    \"Conso_chauffage_é_finale_énergie_n°2\",\n",
    "    \"Conso_ECS_é_finale_énergie_n°2\",\n",
    "    \"Coût_total_5_usages_énergie_n°2\",\n",
    "    \"Coût_chauffage_énergie_n°2\",\n",
    "    \"Coût_ECS_énergie_n°2\",\n",
    "    \"Emission_GES_5_usages_énergie_n°2\",\n",
    "    \"Emission_GES_chauffage_énergie_n°2\",\n",
    "    \"Emission_GES_ECS_énergie_n°2\",\n",
    "    \"Type_énergie_n°2\",\n",
    "    \"Conso_5_usages_é_finale_énergie_n°3\",\n",
    "    \"Conso_chauffage_é_finale_énergie_n°3\",\n",
    "    \"Conso_ECS_é_finale_énergie_n°3\",\n",
    "    \"Coût_total_5_usages_énergie_n°3\",\n",
    "    \"Coût_chauffage_énergie_n°3\",\n",
    "    \"Coût_ECS_énergie_n°3\",\n",
    "    \"Emission_GES_5_usages_énergie_n°3\",\n",
    "    \"Emission_GES_chauffage_énergie_n°3\",\n",
    "    \"Emission_GES_ECS_énergie_n°3\",\n",
    "    \"Type_énergie_n°3\",\n",
    "    \"Coût_total_5_usages\",\n",
    "    \"Coût_chauffage\",\n",
    "    \"Coût_chauffage_dépensier\",\n",
    "    \"Coût_éclairage\",\n",
    "    \"Coût_ECS\",\n",
    "    \"Coût_ECS_dépensier\",\n",
    "    \"Coût_refroidissement\",\n",
    "    \"Coût_refroidissement_dépensier\",\n",
    "    \"Coût_auxiliaires\",\n",
    "    \"Deperditions_baies_vitrées\",\n",
    "    \"Deperditions_enveloppe\",\n",
    "    \"Déperditions_murs\",\n",
    "    \"Deperditions_planchers_bas\",\n",
    "    \"Deperditions_planchers_hauts\",\n",
    "    \"Déperditions_ponts_thermiques\",\n",
    "    \"Déperditions_portes\",\n",
    "    \"Déperditions_renouvellement_air\",\n",
    "    \"Ubat_W/m²_K\",\n",
    "    \"Besoin_refroidissement_dépensier\",\n",
    "    \"Type_énergie_principale_chauffage\",\n",
    "    \"Type_énergie_principale_ECS\",\n",
    "    \"Conso_é_finale_dépensier_installation_ECS\",\n",
    "    #\"Besoin_ECS_bâtiment\",\n",
    "    #\"Besoin_ECS_logement\",\n",
    "    \"Type_ventilation\",\n",
    "    \"Surface_ventilée\",\n",
    "    \"Conso_refroidissement_annuel\",\n",
    "    \"Surface_climatisée\",\n",
    "    \"Production_électricité_PV_(kWhep/an)\"\n",
    "]"
   ]
  },
  {
   "cell_type": "code",
   "execution_count": 12,
   "id": "035c1615-4949-4eb2-9b57-f71a9a3d4efb",
   "metadata": {},
   "outputs": [
    {
     "name": "stdout",
     "output_type": "stream",
     "text": [
      "           N°DPE Date_réception_DPE                     Modèle_DPE  \\\n",
      "0  2176E1018117H         2022-01-03  DPE 3CL 2021 méthode logement   \n",
      "1  2113E1018248X         2022-01-03  DPE 3CL 2021 méthode logement   \n",
      "2  2113E1017999I         2022-01-03  DPE 3CL 2021 méthode logement   \n",
      "3  2175E1018536J         2022-01-03  DPE 3CL 2021 méthode logement   \n",
      "4  2129E1018790J         2022-01-03  DPE 3CL 2021 méthode logement   \n",
      "\n",
      "  N°_DPE_remplacé N°_DPE_immeuble_associé     Méthode_application_DPE  \\\n",
      "0             NaN                     NaN  dpe appartement individuel   \n",
      "1             NaN                     NaN  dpe appartement individuel   \n",
      "2             NaN                     NaN  dpe appartement individuel   \n",
      "3             NaN                     NaN  dpe appartement individuel   \n",
      "4             NaN                     NaN     dpe maison individuelle   \n",
      "\n",
      "  Etiquette_GES Etiquette_DPE  Année_construction Type_bâtiment  ...  \\\n",
      "0             F             F              1948.0   appartement  ...   \n",
      "1             D             D              1948.0   appartement  ...   \n",
      "2             D             D              1948.0   appartement  ...   \n",
      "3             E             E              1947.0   appartement  ...   \n",
      "4             B             D              1983.0        maison  ...   \n",
      "\n",
      "  Ubat_W/m²_K Besoin_refroidissement_dépensier  \\\n",
      "0        1.88                              0.0   \n",
      "1        1.97                              0.0   \n",
      "2        2.03                              0.0   \n",
      "3        2.57                              0.0   \n",
      "4        0.73                              0.0   \n",
      "\n",
      "   Type_énergie_principale_chauffage  Type_énergie_principale_ECS  \\\n",
      "0                        Électricité                  Gaz naturel   \n",
      "1                        Électricité                  Gaz naturel   \n",
      "2                        Électricité                  Gaz naturel   \n",
      "3                        Électricité                  Gaz naturel   \n",
      "4                        Électricité                  Électricité   \n",
      "\n",
      "   Conso_é_finale_dépensier_installation_ECS  Type_ventilation  \\\n",
      "0                                        1.0               NaN   \n",
      "1                                        1.0               NaN   \n",
      "2                                        1.0               NaN   \n",
      "3                                        1.0               NaN   \n",
      "4                                        1.0               NaN   \n",
      "\n",
      "   Surface_ventilée  Conso_refroidissement_annuel  Surface_climatisée  \\\n",
      "0               NaN                           NaN                 NaN   \n",
      "1               NaN                           NaN                 NaN   \n",
      "2               NaN                           NaN                 NaN   \n",
      "3               NaN                           NaN                 NaN   \n",
      "4               NaN                           NaN                 NaN   \n",
      "\n",
      "  Production_électricité_PV_(kWhep/an)  \n",
      "0                                  0.0  \n",
      "1                                  0.0  \n",
      "2                                  0.0  \n",
      "3                                  0.0  \n",
      "4                                  0.0  \n",
      "\n",
      "[5 rows x 129 columns]\n",
      "Date_réception_DPE: object\n",
      "Modèle_DPE: object\n",
      "N°_DPE_remplacé: object\n",
      "N°_DPE_immeuble_associé: object\n",
      "Méthode_application_DPE: object\n",
      "Etiquette_GES: object\n",
      "Etiquette_DPE: object\n",
      "Année_construction: float64\n",
      "Type_bâtiment: object\n",
      "Type_installation_chauffage: object\n",
      "Type_installation_ECS_(général): object\n",
      "Hauteur_sous-plafond: float64\n",
      "Nombre_appartement: float64\n",
      "Nombre_niveau_immeuble: float64\n",
      "Nombre_niveau_logement: float64\n",
      "Surface_habitable_immeuble: float64\n",
      "Surface_habitable_logement: float64\n",
      "Surface_tertiaire_immeuble: float64\n",
      "Classe_inertie_bâtiment: object\n",
      "Position_logement_dans_immeuble: object\n",
      "Zone_climatique_: object\n",
      "Adresse_brute: object\n",
      "Nom__commune_(BAN): object\n",
      "Code_INSEE_(BAN): object\n",
      "N°_voie_(BAN): object\n",
      "Identifiant__BAN: object\n",
      "Adresse_(BAN): object\n",
      "Code_postal_(BAN): float64\n",
      "Score_BAN: float64\n",
      "Nom__rue_(BAN): object\n",
      "Coordonnée_cartographique_X_(BAN): float64\n",
      "Coordonnée_cartographique_Y_(BAN): float64\n",
      "Code_postal_(brut): int64\n",
      "N°_étage_appartement: float64\n",
      "Nom_résidence: object\n",
      "Complément_d'adresse_bâtiment: object\n",
      "Cage_d'escalier: object\n",
      "Complément_d'adresse_logement: object\n",
      "Statut_géocodage: object\n",
      "N°_département_(BAN): object\n",
      "N°_région_(BAN): float64\n",
      "Conso_5_usages_é_finale: float64\n",
      "Conso_5_usages/m²_é_finale: float64\n",
      "Conso_chauffage_é_finale: float64\n",
      "Conso_chauffage_dépensier_é_finale: float64\n",
      "Conso_éclairage_é_finale: float64\n",
      "Conso_ECS_é_finale: float64\n",
      "Conso_ECS_dépensier_é_finale: float64\n",
      "Conso_refroidissement_é_finale: float64\n",
      "Conso_refroidissement_dépensier_é_finale: float64\n",
      "Conso_auxiliaires_é_finale: float64\n",
      "Conso_5_usages_é_primaire: float64\n",
      "Conso_5_usages_par_m²_é_primaire: float64\n",
      "Conso_chauffage_é_primaire: float64\n",
      "Conso_chauffage_dépensier_é_primaire: float64\n",
      "Conso_éclairage_é_primaire: float64\n",
      "Conso_ECS_é_primaire: float64\n",
      "Conso_ECS_dépensier_é_primaire: float64\n",
      "Conso_refroidissement_é_primaire: float64\n",
      "Conso_refroidissement_dépensier_é_primaire: float64\n",
      "Conso_auxiliaires_é_primaire: float64\n",
      "Emission_GES_5_usages: float64\n",
      "Emission_GES_5_usages_par_m²: float64\n",
      "Emission_GES_chauffage: float64\n",
      "Emission_GES_chauffage_dépensier: float64\n",
      "Emission_GES_éclairage: float64\n",
      "Emission_GES_ECS: float64\n",
      "Emission_GES_ECS_dépensier: float64\n",
      "Emission_GES_refroidissement: float64\n",
      "Emission_GES_refroidissement_dépensier: float64\n",
      "Emission_GES_auxiliaires: float64\n",
      "Conso_chauffage_é_finale_énergie_n°1: float64\n",
      "Conso_ECS_é_finale_énergie_n°1: float64\n",
      "Coût_total_5_usages_énergie_n°1: float64\n",
      "Coût_chauffage_énergie_n°1: float64\n",
      "Coût_ECS_énergie_n°1: float64\n",
      "Emission_GES_5_usages_énergie_n°1: float64\n",
      "Emission_GES_chauffage_énergie_n°1: float64\n",
      "Emission_GES_ECS_énergie_n°1: float64\n",
      "Type_énergie_n°1: object\n",
      "Conso_5_usages_é_finale_énergie_n°2: float64\n",
      "Conso_chauffage_é_finale_énergie_n°2: float64\n",
      "Conso_ECS_é_finale_énergie_n°2: float64\n",
      "Coût_total_5_usages_énergie_n°2: float64\n",
      "Coût_chauffage_énergie_n°2: float64\n",
      "Coût_ECS_énergie_n°2: float64\n",
      "Emission_GES_5_usages_énergie_n°2: float64\n",
      "Emission_GES_chauffage_énergie_n°2: float64\n",
      "Emission_GES_ECS_énergie_n°2: float64\n",
      "Type_énergie_n°2: object\n",
      "Conso_5_usages_é_finale_énergie_n°3: float64\n",
      "Conso_chauffage_é_finale_énergie_n°3: float64\n",
      "Conso_ECS_é_finale_énergie_n°3: float64\n",
      "Coût_total_5_usages_énergie_n°3: float64\n",
      "Coût_chauffage_énergie_n°3: float64\n",
      "Coût_ECS_énergie_n°3: float64\n",
      "Emission_GES_5_usages_énergie_n°3: float64\n",
      "Emission_GES_chauffage_énergie_n°3: float64\n",
      "Emission_GES_ECS_énergie_n°3: float64\n",
      "Type_énergie_n°3: object\n",
      "Coût_total_5_usages: float64\n",
      "Coût_chauffage: float64\n",
      "Coût_chauffage_dépensier: float64\n",
      "Coût_éclairage: float64\n",
      "Coût_ECS: float64\n",
      "Coût_ECS_dépensier: float64\n",
      "Coût_refroidissement: float64\n",
      "Coût_refroidissement_dépensier: float64\n",
      "Coût_auxiliaires: float64\n",
      "Deperditions_baies_vitrées: float64\n",
      "Deperditions_enveloppe: float64\n",
      "Déperditions_murs: float64\n",
      "Deperditions_planchers_bas: float64\n",
      "Deperditions_planchers_hauts: float64\n",
      "Déperditions_ponts_thermiques: float64\n",
      "Déperditions_portes: float64\n",
      "Déperditions_renouvellement_air: float64\n",
      "Ubat_W/m²_K: float64\n",
      "Besoin_refroidissement_dépensier: float64\n",
      "Type_énergie_principale_chauffage: object\n",
      "Type_énergie_principale_ECS: object\n",
      "Conso_é_finale_dépensier_installation_ECS: float64\n",
      "Type_ventilation: object\n",
      "Surface_ventilée: float64\n",
      "Conso_refroidissement_annuel: float64\n",
      "Surface_climatisée: float64\n",
      "Production_électricité_PV_(kWhep/an): float64\n"
     ]
    }
   ],
   "source": [
    "DATA_PATH = '../data/'\n",
    "DATA_CSV = 'DPE_logements_existants_2022.csv'\n",
    "\n",
    "df = pd.read_csv(os.path.join(DATA_PATH, DATA_CSV), low_memory=False)\n",
    "df_filtered = df[d]\n",
    "print(df.head())\n",
    "# Types de chaque colonne dans le DataFrame filtré\n",
    "for col_name, col_type in df_filtered.dtypes.items():\n",
    "    print(f'{col_name}: {col_type}')"
   ]
  },
  {
   "cell_type": "code",
   "execution_count": 16,
   "id": "c9e82104-a0da-4610-8a08-6461d2c4ec86",
   "metadata": {},
   "outputs": [
    {
     "data": {
      "text/plain": [
       "(2408375, 129)"
      ]
     },
     "execution_count": 16,
     "metadata": {},
     "output_type": "execute_result"
    }
   ],
   "source": [
    "df.shape"
   ]
  },
  {
   "cell_type": "code",
   "execution_count": 18,
   "id": "9a157d58-eab3-4eaa-985c-50e591e08be9",
   "metadata": {},
   "outputs": [
    {
     "data": {
      "text/plain": [
       "Type_installation_chauffage\n",
       "individuel    982143\n",
       "Name: count, dtype: int64"
      ]
     },
     "execution_count": 18,
     "metadata": {},
     "output_type": "execute_result"
    }
   ],
   "source": [
    "df_individuel = df[df['Type_installation_chauffage'] == 'individuel']\n",
    "df_individuel['Type_installation_chauffage'].value_counts()"
   ]
  },
  {
   "cell_type": "code",
   "execution_count": 20,
   "id": "2e636312-778b-4f09-ad35-488cf48f4f0b",
   "metadata": {},
   "outputs": [
    {
     "data": {
      "text/plain": [
       "Series([], Name: count, dtype: int64)"
      ]
     },
     "execution_count": 20,
     "metadata": {},
     "output_type": "execute_result"
    }
   ],
   "source": [
    "df_filter = df_individuel[df_individuel['N°_DPE_remplacé'].isna()]\n",
    "df_filter['N°_DPE_remplacé'].value_counts()"
   ]
  },
  {
   "cell_type": "code",
   "execution_count": 68,
   "id": "ecb5836a-f80b-45ce-9a48-6b059684b801",
   "metadata": {},
   "outputs": [
    {
     "data": {
      "text/plain": [
       "22474"
      ]
     },
     "execution_count": 68,
     "metadata": {},
     "output_type": "execute_result"
    }
   ],
   "source": [
    "df['Surface_habitable_logement'].isnull().sum()"
   ]
  },
  {
   "cell_type": "code",
   "execution_count": 112,
   "id": "81cc73a1-f5ea-4791-b251-9cf72273c53c",
   "metadata": {},
   "outputs": [],
   "source": [
    "df['Surface_habitable_logement'] = df['Surface_habitable_logement'].dropna()"
   ]
  },
  {
   "cell_type": "code",
   "execution_count": 114,
   "id": "cadb2cf5-e0c1-4e6b-b676-fa9cac35c9e3",
   "metadata": {},
   "outputs": [
    {
     "data": {
      "text/plain": [
       "22474"
      ]
     },
     "execution_count": 114,
     "metadata": {},
     "output_type": "execute_result"
    }
   ],
   "source": [
    "df['Surface_habitable_logement'].isnull().sum()"
   ]
  },
  {
   "cell_type": "code",
   "execution_count": 22,
   "id": "e25f83d8-3984-4cb1-8ccf-24fe2647f11f",
   "metadata": {},
   "outputs": [
    {
     "name": "stdout",
     "output_type": "stream",
     "text": [
      "                 N°DPE Date_réception_DPE                     Modèle_DPE  \\\n",
      "0        2176E1018117H         2022-01-03  DPE 3CL 2021 méthode logement   \n",
      "1        2113E1018248X         2022-01-03  DPE 3CL 2021 méthode logement   \n",
      "2        2113E1017999I         2022-01-03  DPE 3CL 2021 méthode logement   \n",
      "3        2175E1018536J         2022-01-03  DPE 3CL 2021 méthode logement   \n",
      "4        2129E1018790J         2022-01-03  DPE 3CL 2021 méthode logement   \n",
      "...                ...                ...                            ...   \n",
      "2408370  2244E2441370P         2022-10-19  DPE 3CL 2021 méthode logement   \n",
      "2408371  2244E1107991U         2022-05-20  DPE 3CL 2021 méthode logement   \n",
      "2408372  2286E1259734R         2022-06-08  DPE 3CL 2021 méthode logement   \n",
      "2408373  2220E1777430N         2022-08-03  DPE 3CL 2021 méthode logement   \n",
      "2408374  2236E3074459W         2022-12-17  DPE 3CL 2021 méthode logement   \n",
      "\n",
      "        N°_DPE_remplacé N°_DPE_immeuble_associé  \\\n",
      "0                   NaN                     NaN   \n",
      "1                   NaN                     NaN   \n",
      "2                   NaN                     NaN   \n",
      "3                   NaN                     NaN   \n",
      "4                   NaN                     NaN   \n",
      "...                 ...                     ...   \n",
      "2408370             NaN                     NaN   \n",
      "2408371             NaN                     NaN   \n",
      "2408372             NaN                     NaN   \n",
      "2408373             NaN           2220E1777311Y   \n",
      "2408374   2236E3016890R                     NaN   \n",
      "\n",
      "                                   Méthode_application_DPE Etiquette_GES  \\\n",
      "0                               dpe appartement individuel             F   \n",
      "1                               dpe appartement individuel             D   \n",
      "2                               dpe appartement individuel             D   \n",
      "3                               dpe appartement individuel             E   \n",
      "4                                  dpe maison individuelle             B   \n",
      "...                                                    ...           ...   \n",
      "2408370                             dpe immeuble collectif             B   \n",
      "2408371                            dpe maison individuelle             A   \n",
      "2408372                            dpe maison individuelle             B   \n",
      "2408373  dpe appartement généré à partir des données DP...             A   \n",
      "2408374                            dpe maison individuelle             A   \n",
      "\n",
      "        Etiquette_DPE  Année_construction Type_bâtiment  ...  \\\n",
      "0                   F              1948.0   appartement  ...   \n",
      "1                   D              1948.0   appartement  ...   \n",
      "2                   D              1948.0   appartement  ...   \n",
      "3                   E              1947.0   appartement  ...   \n",
      "4                   D              1983.0        maison  ...   \n",
      "...               ...                 ...           ...  ...   \n",
      "2408370             E              1990.0      immeuble  ...   \n",
      "2408371             A              2017.0        maison  ...   \n",
      "2408372             D              2009.0        maison  ...   \n",
      "2408373             C              2010.0   appartement  ...   \n",
      "2408374             D              1995.0        maison  ...   \n",
      "\n",
      "        Besoin_refroidissement_dépensier Type_énergie_principale_chauffage  \\\n",
      "0                                    0.0                       Électricité   \n",
      "1                                    0.0                       Électricité   \n",
      "2                                    0.0                       Électricité   \n",
      "3                                    0.0                       Électricité   \n",
      "4                                    0.0                       Électricité   \n",
      "...                                  ...                               ...   \n",
      "2408370                              0.0                       Électricité   \n",
      "2408371                              0.0                       Électricité   \n",
      "2408372                              0.0                       Électricité   \n",
      "2408373                              0.0                       Électricité   \n",
      "2408374                              0.0                       Électricité   \n",
      "\n",
      "         Type_énergie_principale_ECS  \\\n",
      "0                        Gaz naturel   \n",
      "1                        Gaz naturel   \n",
      "2                        Gaz naturel   \n",
      "3                        Gaz naturel   \n",
      "4                        Électricité   \n",
      "...                              ...   \n",
      "2408370                  Électricité   \n",
      "2408371                  Électricité   \n",
      "2408372                  Électricité   \n",
      "2408373                  Électricité   \n",
      "2408374                  Électricité   \n",
      "\n",
      "         Conso_é_finale_dépensier_installation_ECS  \\\n",
      "0                                              1.0   \n",
      "1                                              1.0   \n",
      "2                                              1.0   \n",
      "3                                              1.0   \n",
      "4                                              1.0   \n",
      "...                                            ...   \n",
      "2408370                                     2401.5   \n",
      "2408371                                     1117.7   \n",
      "2408372                                     2880.3   \n",
      "2408373                                     1097.1   \n",
      "2408374                                     2416.0   \n",
      "\n",
      "                                          Type_ventilation  Surface_ventilée  \\\n",
      "0                                                      NaN               NaN   \n",
      "1                                                      NaN               NaN   \n",
      "2                                                      NaN               NaN   \n",
      "3                                                      NaN               NaN   \n",
      "4                                                      NaN               NaN   \n",
      "...                                                    ...               ...   \n",
      "2408370                          VMC SF Hygro A après 2012             147.0   \n",
      "2408371  VMC DF individuelle avec échangeur à partir de...             171.0   \n",
      "2408372                      VMC SF Hygro A de 2001 à 2012              85.6   \n",
      "2408373                      VMC SF Hygro B de 2001 à 2012              21.0   \n",
      "2408374                VMC SF Auto réglable de 1982 à 2000              74.0   \n",
      "\n",
      "         Conso_refroidissement_annuel  Surface_climatisée  \\\n",
      "0                                 NaN                 NaN   \n",
      "1                                 NaN                 NaN   \n",
      "2                                 NaN                 NaN   \n",
      "3                                 NaN                 NaN   \n",
      "4                                 NaN                 NaN   \n",
      "...                               ...                 ...   \n",
      "2408370                           NaN                 NaN   \n",
      "2408371                           NaN                 NaN   \n",
      "2408372                           NaN                 NaN   \n",
      "2408373                           NaN                 NaN   \n",
      "2408374                           NaN                 NaN   \n",
      "\n",
      "         Production_électricité_PV_(kWhep/an) coût_moyen_par_m2_en_euros  \n",
      "0                                         0.0                  31.714286  \n",
      "1                                         0.0                  18.274000  \n",
      "2                                         0.0                  14.709632  \n",
      "3                                         0.0                  26.035897  \n",
      "4                                         0.0                  14.474419  \n",
      "...                                       ...                        ...  \n",
      "2408370                                   0.0                        NaN  \n",
      "2408371                                   0.0                   4.847953  \n",
      "2408372                                   0.0                  15.011682  \n",
      "2408373                                   0.0                  16.933333  \n",
      "2408374                                   0.0                  14.013514  \n",
      "\n",
      "[2408375 rows x 130 columns]\n"
     ]
    }
   ],
   "source": [
    "# conditions et les valeurs correspondantes\n",
    "conditions = [\n",
    "    df['Type_énergie_n°1'] == 'Électricité',\n",
    "    df['Type_énergie_n°2'] == 'Électricité',\n",
    "    df['Type_énergie_n°3'] == 'Électricité',\n",
    "]\n",
    "\n",
    "values = [\n",
    "    df['Coût_total_5_usages_énergie_n°1'],\n",
    "    df['Coût_total_5_usages_énergie_n°2'],\n",
    "    df['Coût_total_5_usages_énergie_n°3'],\n",
    "]\n",
    "\n",
    "# Ajouter la colonne\n",
    "df['coût_moyen_par_m2_en_euros'] = np.select(conditions, values, default=0) / df['Surface_habitable_logement']\n",
    "\n",
    "print(df)"
   ]
  },
  {
   "cell_type": "code",
   "execution_count": 50,
   "id": "33e94078-b566-4f76-abf1-d0c12f530be3",
   "metadata": {},
   "outputs": [
    {
     "name": "stdout",
     "output_type": "stream",
     "text": [
      "   Etiquette_DPE Type_bâtiment  coût_moyen_par_m2_en_euros\n",
      "0              A   appartement                   48.389539\n",
      "2              A        maison                    4.505638\n",
      "3              B   appartement                    5.023960\n",
      "5              B        maison                    6.148531\n",
      "6              C   appartement                    6.095621\n",
      "8              C        maison                    6.272312\n",
      "9              D   appartement                    9.277375\n",
      "11             D        maison                    8.366503\n",
      "12             E   appartement                   13.126364\n",
      "14             E        maison                   10.812219\n",
      "15             F   appartement                   17.642634\n",
      "17             F        maison                   11.025699\n",
      "18             G   appartement                   30.383226\n",
      "20             G        maison                   17.484276\n"
     ]
    }
   ],
   "source": [
    "df_grouped_DPE = df.groupby(['Etiquette_DPE', 'Type_bâtiment'])['coût_moyen_par_m2_en_euros'].mean().reset_index()\n",
    "df_filter_without_im = df_grouped_DPE[df_grouped_DPE['Type_bâtiment'].isin(['appartement', 'maison'])]\n",
    "\n",
    "print(df_filter_without_im)"
   ]
  },
  {
   "cell_type": "code",
   "execution_count": null,
   "id": "92b04406-d32e-474e-8156-9006d1f8f436",
   "metadata": {},
   "outputs": [],
   "source": [
    "df_grouped_DPE"
   ]
  },
  {
   "cell_type": "code",
   "execution_count": 52,
   "id": "2d5bfba5-4acb-487c-adc1-50a183a1f9d7",
   "metadata": {},
   "outputs": [
    {
     "data": {
      "application/vnd.plotly.v1+json": {
       "config": {
        "plotlyServerURL": "https://plot.ly"
       },
       "data": [
        {
         "alignmentgroup": "True",
         "hovertemplate": "Type_bâtiment=appartement<br>Etiquette DPE=%{x}<br>Coût moyen/m2 en €=%{y}<extra></extra>",
         "legendgroup": "appartement",
         "marker": {
          "color": "#636efa",
          "pattern": {
           "shape": ""
          }
         },
         "name": "appartement",
         "offsetgroup": "appartement",
         "orientation": "v",
         "showlegend": true,
         "textposition": "auto",
         "type": "bar",
         "x": [
          "A",
          "B",
          "C",
          "D",
          "E",
          "F",
          "G"
         ],
         "xaxis": "x",
         "y": [
          48.38953913259109,
          5.023959545978577,
          6.095621369337199,
          9.277375026792031,
          13.12636435647797,
          17.642634235124827,
          30.383225785217885
         ],
         "yaxis": "y"
        },
        {
         "alignmentgroup": "True",
         "hovertemplate": "Type_bâtiment=maison<br>Etiquette DPE=%{x}<br>Coût moyen/m2 en €=%{y}<extra></extra>",
         "legendgroup": "maison",
         "marker": {
          "color": "#EF553B",
          "pattern": {
           "shape": ""
          }
         },
         "name": "maison",
         "offsetgroup": "maison",
         "orientation": "v",
         "showlegend": true,
         "textposition": "auto",
         "type": "bar",
         "x": [
          "A",
          "B",
          "C",
          "D",
          "E",
          "F",
          "G"
         ],
         "xaxis": "x",
         "y": [
          4.505637853140068,
          6.148530699401443,
          6.272311647457997,
          8.366502751031723,
          10.812218883884281,
          11.025698624025091,
          17.48427626139691
         ],
         "yaxis": "y"
        }
       ],
       "layout": {
        "autosize": true,
        "barmode": "group",
        "legend": {
         "title": {
          "text": "Type_bâtiment"
         },
         "tracegroupgap": 0
        },
        "template": {
         "data": {
          "bar": [
           {
            "error_x": {
             "color": "#2a3f5f"
            },
            "error_y": {
             "color": "#2a3f5f"
            },
            "marker": {
             "line": {
              "color": "#E5ECF6",
              "width": 0.5
             },
             "pattern": {
              "fillmode": "overlay",
              "size": 10,
              "solidity": 0.2
             }
            },
            "type": "bar"
           }
          ],
          "barpolar": [
           {
            "marker": {
             "line": {
              "color": "#E5ECF6",
              "width": 0.5
             },
             "pattern": {
              "fillmode": "overlay",
              "size": 10,
              "solidity": 0.2
             }
            },
            "type": "barpolar"
           }
          ],
          "carpet": [
           {
            "aaxis": {
             "endlinecolor": "#2a3f5f",
             "gridcolor": "white",
             "linecolor": "white",
             "minorgridcolor": "white",
             "startlinecolor": "#2a3f5f"
            },
            "baxis": {
             "endlinecolor": "#2a3f5f",
             "gridcolor": "white",
             "linecolor": "white",
             "minorgridcolor": "white",
             "startlinecolor": "#2a3f5f"
            },
            "type": "carpet"
           }
          ],
          "choropleth": [
           {
            "colorbar": {
             "outlinewidth": 0,
             "ticks": ""
            },
            "type": "choropleth"
           }
          ],
          "contour": [
           {
            "colorbar": {
             "outlinewidth": 0,
             "ticks": ""
            },
            "colorscale": [
             [
              0,
              "#0d0887"
             ],
             [
              0.1111111111111111,
              "#46039f"
             ],
             [
              0.2222222222222222,
              "#7201a8"
             ],
             [
              0.3333333333333333,
              "#9c179e"
             ],
             [
              0.4444444444444444,
              "#bd3786"
             ],
             [
              0.5555555555555556,
              "#d8576b"
             ],
             [
              0.6666666666666666,
              "#ed7953"
             ],
             [
              0.7777777777777778,
              "#fb9f3a"
             ],
             [
              0.8888888888888888,
              "#fdca26"
             ],
             [
              1,
              "#f0f921"
             ]
            ],
            "type": "contour"
           }
          ],
          "contourcarpet": [
           {
            "colorbar": {
             "outlinewidth": 0,
             "ticks": ""
            },
            "type": "contourcarpet"
           }
          ],
          "heatmap": [
           {
            "colorbar": {
             "outlinewidth": 0,
             "ticks": ""
            },
            "colorscale": [
             [
              0,
              "#0d0887"
             ],
             [
              0.1111111111111111,
              "#46039f"
             ],
             [
              0.2222222222222222,
              "#7201a8"
             ],
             [
              0.3333333333333333,
              "#9c179e"
             ],
             [
              0.4444444444444444,
              "#bd3786"
             ],
             [
              0.5555555555555556,
              "#d8576b"
             ],
             [
              0.6666666666666666,
              "#ed7953"
             ],
             [
              0.7777777777777778,
              "#fb9f3a"
             ],
             [
              0.8888888888888888,
              "#fdca26"
             ],
             [
              1,
              "#f0f921"
             ]
            ],
            "type": "heatmap"
           }
          ],
          "heatmapgl": [
           {
            "colorbar": {
             "outlinewidth": 0,
             "ticks": ""
            },
            "colorscale": [
             [
              0,
              "#0d0887"
             ],
             [
              0.1111111111111111,
              "#46039f"
             ],
             [
              0.2222222222222222,
              "#7201a8"
             ],
             [
              0.3333333333333333,
              "#9c179e"
             ],
             [
              0.4444444444444444,
              "#bd3786"
             ],
             [
              0.5555555555555556,
              "#d8576b"
             ],
             [
              0.6666666666666666,
              "#ed7953"
             ],
             [
              0.7777777777777778,
              "#fb9f3a"
             ],
             [
              0.8888888888888888,
              "#fdca26"
             ],
             [
              1,
              "#f0f921"
             ]
            ],
            "type": "heatmapgl"
           }
          ],
          "histogram": [
           {
            "marker": {
             "pattern": {
              "fillmode": "overlay",
              "size": 10,
              "solidity": 0.2
             }
            },
            "type": "histogram"
           }
          ],
          "histogram2d": [
           {
            "colorbar": {
             "outlinewidth": 0,
             "ticks": ""
            },
            "colorscale": [
             [
              0,
              "#0d0887"
             ],
             [
              0.1111111111111111,
              "#46039f"
             ],
             [
              0.2222222222222222,
              "#7201a8"
             ],
             [
              0.3333333333333333,
              "#9c179e"
             ],
             [
              0.4444444444444444,
              "#bd3786"
             ],
             [
              0.5555555555555556,
              "#d8576b"
             ],
             [
              0.6666666666666666,
              "#ed7953"
             ],
             [
              0.7777777777777778,
              "#fb9f3a"
             ],
             [
              0.8888888888888888,
              "#fdca26"
             ],
             [
              1,
              "#f0f921"
             ]
            ],
            "type": "histogram2d"
           }
          ],
          "histogram2dcontour": [
           {
            "colorbar": {
             "outlinewidth": 0,
             "ticks": ""
            },
            "colorscale": [
             [
              0,
              "#0d0887"
             ],
             [
              0.1111111111111111,
              "#46039f"
             ],
             [
              0.2222222222222222,
              "#7201a8"
             ],
             [
              0.3333333333333333,
              "#9c179e"
             ],
             [
              0.4444444444444444,
              "#bd3786"
             ],
             [
              0.5555555555555556,
              "#d8576b"
             ],
             [
              0.6666666666666666,
              "#ed7953"
             ],
             [
              0.7777777777777778,
              "#fb9f3a"
             ],
             [
              0.8888888888888888,
              "#fdca26"
             ],
             [
              1,
              "#f0f921"
             ]
            ],
            "type": "histogram2dcontour"
           }
          ],
          "mesh3d": [
           {
            "colorbar": {
             "outlinewidth": 0,
             "ticks": ""
            },
            "type": "mesh3d"
           }
          ],
          "parcoords": [
           {
            "line": {
             "colorbar": {
              "outlinewidth": 0,
              "ticks": ""
             }
            },
            "type": "parcoords"
           }
          ],
          "pie": [
           {
            "automargin": true,
            "type": "pie"
           }
          ],
          "scatter": [
           {
            "fillpattern": {
             "fillmode": "overlay",
             "size": 10,
             "solidity": 0.2
            },
            "type": "scatter"
           }
          ],
          "scatter3d": [
           {
            "line": {
             "colorbar": {
              "outlinewidth": 0,
              "ticks": ""
             }
            },
            "marker": {
             "colorbar": {
              "outlinewidth": 0,
              "ticks": ""
             }
            },
            "type": "scatter3d"
           }
          ],
          "scattercarpet": [
           {
            "marker": {
             "colorbar": {
              "outlinewidth": 0,
              "ticks": ""
             }
            },
            "type": "scattercarpet"
           }
          ],
          "scattergeo": [
           {
            "marker": {
             "colorbar": {
              "outlinewidth": 0,
              "ticks": ""
             }
            },
            "type": "scattergeo"
           }
          ],
          "scattergl": [
           {
            "marker": {
             "colorbar": {
              "outlinewidth": 0,
              "ticks": ""
             }
            },
            "type": "scattergl"
           }
          ],
          "scattermapbox": [
           {
            "marker": {
             "colorbar": {
              "outlinewidth": 0,
              "ticks": ""
             }
            },
            "type": "scattermapbox"
           }
          ],
          "scatterpolar": [
           {
            "marker": {
             "colorbar": {
              "outlinewidth": 0,
              "ticks": ""
             }
            },
            "type": "scatterpolar"
           }
          ],
          "scatterpolargl": [
           {
            "marker": {
             "colorbar": {
              "outlinewidth": 0,
              "ticks": ""
             }
            },
            "type": "scatterpolargl"
           }
          ],
          "scatterternary": [
           {
            "marker": {
             "colorbar": {
              "outlinewidth": 0,
              "ticks": ""
             }
            },
            "type": "scatterternary"
           }
          ],
          "surface": [
           {
            "colorbar": {
             "outlinewidth": 0,
             "ticks": ""
            },
            "colorscale": [
             [
              0,
              "#0d0887"
             ],
             [
              0.1111111111111111,
              "#46039f"
             ],
             [
              0.2222222222222222,
              "#7201a8"
             ],
             [
              0.3333333333333333,
              "#9c179e"
             ],
             [
              0.4444444444444444,
              "#bd3786"
             ],
             [
              0.5555555555555556,
              "#d8576b"
             ],
             [
              0.6666666666666666,
              "#ed7953"
             ],
             [
              0.7777777777777778,
              "#fb9f3a"
             ],
             [
              0.8888888888888888,
              "#fdca26"
             ],
             [
              1,
              "#f0f921"
             ]
            ],
            "type": "surface"
           }
          ],
          "table": [
           {
            "cells": {
             "fill": {
              "color": "#EBF0F8"
             },
             "line": {
              "color": "white"
             }
            },
            "header": {
             "fill": {
              "color": "#C8D4E3"
             },
             "line": {
              "color": "white"
             }
            },
            "type": "table"
           }
          ]
         },
         "layout": {
          "annotationdefaults": {
           "arrowcolor": "#2a3f5f",
           "arrowhead": 0,
           "arrowwidth": 1
          },
          "autotypenumbers": "strict",
          "coloraxis": {
           "colorbar": {
            "outlinewidth": 0,
            "ticks": ""
           }
          },
          "colorscale": {
           "diverging": [
            [
             0,
             "#8e0152"
            ],
            [
             0.1,
             "#c51b7d"
            ],
            [
             0.2,
             "#de77ae"
            ],
            [
             0.3,
             "#f1b6da"
            ],
            [
             0.4,
             "#fde0ef"
            ],
            [
             0.5,
             "#f7f7f7"
            ],
            [
             0.6,
             "#e6f5d0"
            ],
            [
             0.7,
             "#b8e186"
            ],
            [
             0.8,
             "#7fbc41"
            ],
            [
             0.9,
             "#4d9221"
            ],
            [
             1,
             "#276419"
            ]
           ],
           "sequential": [
            [
             0,
             "#0d0887"
            ],
            [
             0.1111111111111111,
             "#46039f"
            ],
            [
             0.2222222222222222,
             "#7201a8"
            ],
            [
             0.3333333333333333,
             "#9c179e"
            ],
            [
             0.4444444444444444,
             "#bd3786"
            ],
            [
             0.5555555555555556,
             "#d8576b"
            ],
            [
             0.6666666666666666,
             "#ed7953"
            ],
            [
             0.7777777777777778,
             "#fb9f3a"
            ],
            [
             0.8888888888888888,
             "#fdca26"
            ],
            [
             1,
             "#f0f921"
            ]
           ],
           "sequentialminus": [
            [
             0,
             "#0d0887"
            ],
            [
             0.1111111111111111,
             "#46039f"
            ],
            [
             0.2222222222222222,
             "#7201a8"
            ],
            [
             0.3333333333333333,
             "#9c179e"
            ],
            [
             0.4444444444444444,
             "#bd3786"
            ],
            [
             0.5555555555555556,
             "#d8576b"
            ],
            [
             0.6666666666666666,
             "#ed7953"
            ],
            [
             0.7777777777777778,
             "#fb9f3a"
            ],
            [
             0.8888888888888888,
             "#fdca26"
            ],
            [
             1,
             "#f0f921"
            ]
           ]
          },
          "colorway": [
           "#636efa",
           "#EF553B",
           "#00cc96",
           "#ab63fa",
           "#FFA15A",
           "#19d3f3",
           "#FF6692",
           "#B6E880",
           "#FF97FF",
           "#FECB52"
          ],
          "font": {
           "color": "#2a3f5f"
          },
          "geo": {
           "bgcolor": "white",
           "lakecolor": "white",
           "landcolor": "#E5ECF6",
           "showlakes": true,
           "showland": true,
           "subunitcolor": "white"
          },
          "hoverlabel": {
           "align": "left"
          },
          "hovermode": "closest",
          "mapbox": {
           "style": "light"
          },
          "paper_bgcolor": "white",
          "plot_bgcolor": "#E5ECF6",
          "polar": {
           "angularaxis": {
            "gridcolor": "white",
            "linecolor": "white",
            "ticks": ""
           },
           "bgcolor": "#E5ECF6",
           "radialaxis": {
            "gridcolor": "white",
            "linecolor": "white",
            "ticks": ""
           }
          },
          "scene": {
           "xaxis": {
            "backgroundcolor": "#E5ECF6",
            "gridcolor": "white",
            "gridwidth": 2,
            "linecolor": "white",
            "showbackground": true,
            "ticks": "",
            "zerolinecolor": "white"
           },
           "yaxis": {
            "backgroundcolor": "#E5ECF6",
            "gridcolor": "white",
            "gridwidth": 2,
            "linecolor": "white",
            "showbackground": true,
            "ticks": "",
            "zerolinecolor": "white"
           },
           "zaxis": {
            "backgroundcolor": "#E5ECF6",
            "gridcolor": "white",
            "gridwidth": 2,
            "linecolor": "white",
            "showbackground": true,
            "ticks": "",
            "zerolinecolor": "white"
           }
          },
          "shapedefaults": {
           "line": {
            "color": "#2a3f5f"
           }
          },
          "ternary": {
           "aaxis": {
            "gridcolor": "white",
            "linecolor": "white",
            "ticks": ""
           },
           "baxis": {
            "gridcolor": "white",
            "linecolor": "white",
            "ticks": ""
           },
           "bgcolor": "#E5ECF6",
           "caxis": {
            "gridcolor": "white",
            "linecolor": "white",
            "ticks": ""
           }
          },
          "title": {
           "x": 0.05
          },
          "xaxis": {
           "automargin": true,
           "gridcolor": "white",
           "linecolor": "white",
           "ticks": "",
           "title": {
            "standoff": 15
           },
           "zerolinecolor": "white",
           "zerolinewidth": 2
          },
          "yaxis": {
           "automargin": true,
           "gridcolor": "white",
           "linecolor": "white",
           "ticks": "",
           "title": {
            "standoff": 15
           },
           "zerolinecolor": "white",
           "zerolinewidth": 2
          }
         }
        },
        "title": {
         "text": "Coût moyen/m2 par DPE et type de bâtiment"
        },
        "xaxis": {
         "anchor": "y",
         "autorange": true,
         "categoryarray": [
          "A",
          "B",
          "C",
          "D",
          "E",
          "F",
          "G"
         ],
         "categoryorder": "array",
         "domain": [
          0,
          1
         ],
         "range": [
          -0.5,
          6.5
         ],
         "title": {
          "text": "Etiquette DPE"
         },
         "type": "category"
        },
        "yaxis": {
         "anchor": "x",
         "autorange": true,
         "domain": [
          0,
          1
         ],
         "range": [
          0,
          50.936356981674834
         ],
         "title": {
          "text": "Coût moyen/m2 en €"
         },
         "type": "linear"
        }
       }
      },
      "image/png": "[encoded data removed]",
      "text/html": [
       "<div>                            <div id=\"8854c8e2-f241-41d9-8f38-37c61d5f60f2\" class=\"plotly-graph-div\" style=\"height:400px; width:100%;\"></div>            <script type=\"text/javascript\">                require([\"plotly\"], function(Plotly) {                    window.PLOTLYENV=window.PLOTLYENV || {};                                    if (document.getElementById(\"8854c8e2-f241-41d9-8f38-37c61d5f60f2\")) {                    Plotly.newPlot(                        \"8854c8e2-f241-41d9-8f38-37c61d5f60f2\",                        [{\"alignmentgroup\":\"True\",\"hovertemplate\":\"Type_b\\u00e2timent=appartement<br>Etiquette DPE=%{x}<br>Co\\u00fbt moyen/m2 en \\u20ac=%{y}<extra></extra>\",\"legendgroup\":\"appartement\",\"marker\":{\"color\":\"#636efa\",\"pattern\":{\"shape\":\"\"}},\"name\":\"appartement\",\"offsetgroup\":\"appartement\",\"orientation\":\"v\",\"showlegend\":true,\"textposition\":\"auto\",\"x\":[\"A\",\"B\",\"C\",\"D\",\"E\",\"F\",\"G\"],\"xaxis\":\"x\",\"y\":[48.38953913259109,5.023959545978577,6.095621369337199,9.277375026792031,13.12636435647797,17.642634235124827,30.383225785217885],\"yaxis\":\"y\",\"type\":\"bar\"},{\"alignmentgroup\":\"True\",\"hovertemplate\":\"Type_b\\u00e2timent=maison<br>Etiquette DPE=%{x}<br>Co\\u00fbt moyen/m2 en \\u20ac=%{y}<extra></extra>\",\"legendgroup\":\"maison\",\"marker\":{\"color\":\"#EF553B\",\"pattern\":{\"shape\":\"\"}},\"name\":\"maison\",\"offsetgroup\":\"maison\",\"orientation\":\"v\",\"showlegend\":true,\"textposition\":\"auto\",\"x\":[\"A\",\"B\",\"C\",\"D\",\"E\",\"F\",\"G\"],\"xaxis\":\"x\",\"y\":[4.505637853140068,6.148530699401443,6.272311647457997,8.366502751031723,10.812218883884281,11.025698624025091,17.48427626139691],\"yaxis\":\"y\",\"type\":\"bar\"}],                        {\"template\":{\"data\":{\"histogram2dcontour\":[{\"type\":\"histogram2dcontour\",\"colorbar\":{\"outlinewidth\":0,\"ticks\":\"\"},\"colorscale\":[[0.0,\"#0d0887\"],[0.1111111111111111,\"#46039f\"],[0.2222222222222222,\"#7201a8\"],[0.3333333333333333,\"#9c179e\"],[0.4444444444444444,\"#bd3786\"],[0.5555555555555556,\"#d8576b\"],[0.6666666666666666,\"#ed7953\"],[0.7777777777777778,\"#fb9f3a\"],[0.8888888888888888,\"#fdca26\"],[1.0,\"#f0f921\"]]}],\"choropleth\":[{\"type\":\"choropleth\",\"colorbar\":{\"outlinewidth\":0,\"ticks\":\"\"}}],\"histogram2d\":[{\"type\":\"histogram2d\",\"colorbar\":{\"outlinewidth\":0,\"ticks\":\"\"},\"colorscale\":[[0.0,\"#0d0887\"],[0.1111111111111111,\"#46039f\"],[0.2222222222222222,\"#7201a8\"],[0.3333333333333333,\"#9c179e\"],[0.4444444444444444,\"#bd3786\"],[0.5555555555555556,\"#d8576b\"],[0.6666666666666666,\"#ed7953\"],[0.7777777777777778,\"#fb9f3a\"],[0.8888888888888888,\"#fdca26\"],[1.0,\"#f0f921\"]]}],\"heatmap\":[{\"type\":\"heatmap\",\"colorbar\":{\"outlinewidth\":0,\"ticks\":\"\"},\"colorscale\":[[0.0,\"#0d0887\"],[0.1111111111111111,\"#46039f\"],[0.2222222222222222,\"#7201a8\"],[0.3333333333333333,\"#9c179e\"],[0.4444444444444444,\"#bd3786\"],[0.5555555555555556,\"#d8576b\"],[0.6666666666666666,\"#ed7953\"],[0.7777777777777778,\"#fb9f3a\"],[0.8888888888888888,\"#fdca26\"],[1.0,\"#f0f921\"]]}],\"heatmapgl\":[{\"type\":\"heatmapgl\",\"colorbar\":{\"outlinewidth\":0,\"ticks\":\"\"},\"colorscale\":[[0.0,\"#0d0887\"],[0.1111111111111111,\"#46039f\"],[0.2222222222222222,\"#7201a8\"],[0.3333333333333333,\"#9c179e\"],[0.4444444444444444,\"#bd3786\"],[0.5555555555555556,\"#d8576b\"],[0.6666666666666666,\"#ed7953\"],[0.7777777777777778,\"#fb9f3a\"],[0.8888888888888888,\"#fdca26\"],[1.0,\"#f0f921\"]]}],\"contourcarpet\":[{\"type\":\"contourcarpet\",\"colorbar\":{\"outlinewidth\":0,\"ticks\":\"\"}}],\"contour\":[{\"type\":\"contour\",\"colorbar\":{\"outlinewidth\":0,\"ticks\":\"\"},\"colorscale\":[[0.0,\"#0d0887\"],[0.1111111111111111,\"#46039f\"],[0.2222222222222222,\"#7201a8\"],[0.3333333333333333,\"#9c179e\"],[0.4444444444444444,\"#bd3786\"],[0.5555555555555556,\"#d8576b\"],[0.6666666666666666,\"#ed7953\"],[0.7777777777777778,\"#fb9f3a\"],[0.8888888888888888,\"#fdca26\"],[1.0,\"#f0f921\"]]}],\"surface\":[{\"type\":\"surface\",\"colorbar\":{\"outlinewidth\":0,\"ticks\":\"\"},\"colorscale\":[[0.0,\"#0d0887\"],[0.1111111111111111,\"#46039f\"],[0.2222222222222222,\"#7201a8\"],[0.3333333333333333,\"#9c179e\"],[0.4444444444444444,\"#bd3786\"],[0.5555555555555556,\"#d8576b\"],[0.6666666666666666,\"#ed7953\"],[0.7777777777777778,\"#fb9f3a\"],[0.8888888888888888,\"#fdca26\"],[1.0,\"#f0f921\"]]}],\"mesh3d\":[{\"type\":\"mesh3d\",\"colorbar\":{\"outlinewidth\":0,\"ticks\":\"\"}}],\"scatter\":[{\"fillpattern\":{\"fillmode\":\"overlay\",\"size\":10,\"solidity\":0.2},\"type\":\"scatter\"}],\"parcoords\":[{\"type\":\"parcoords\",\"line\":{\"colorbar\":{\"outlinewidth\":0,\"ticks\":\"\"}}}],\"scatterpolargl\":[{\"type\":\"scatterpolargl\",\"marker\":{\"colorbar\":{\"outlinewidth\":0,\"ticks\":\"\"}}}],\"bar\":[{\"error_x\":{\"color\":\"#2a3f5f\"},\"error_y\":{\"color\":\"#2a3f5f\"},\"marker\":{\"line\":{\"color\":\"#E5ECF6\",\"width\":0.5},\"pattern\":{\"fillmode\":\"overlay\",\"size\":10,\"solidity\":0.2}},\"type\":\"bar\"}],\"scattergeo\":[{\"type\":\"scattergeo\",\"marker\":{\"colorbar\":{\"outlinewidth\":0,\"ticks\":\"\"}}}],\"scatterpolar\":[{\"type\":\"scatterpolar\",\"marker\":{\"colorbar\":{\"outlinewidth\":0,\"ticks\":\"\"}}}],\"histogram\":[{\"marker\":{\"pattern\":{\"fillmode\":\"overlay\",\"size\":10,\"solidity\":0.2}},\"type\":\"histogram\"}],\"scattergl\":[{\"type\":\"scattergl\",\"marker\":{\"colorbar\":{\"outlinewidth\":0,\"ticks\":\"\"}}}],\"scatter3d\":[{\"type\":\"scatter3d\",\"line\":{\"colorbar\":{\"outlinewidth\":0,\"ticks\":\"\"}},\"marker\":{\"colorbar\":{\"outlinewidth\":0,\"ticks\":\"\"}}}],\"scattermapbox\":[{\"type\":\"scattermapbox\",\"marker\":{\"colorbar\":{\"outlinewidth\":0,\"ticks\":\"\"}}}],\"scatterternary\":[{\"type\":\"scatterternary\",\"marker\":{\"colorbar\":{\"outlinewidth\":0,\"ticks\":\"\"}}}],\"scattercarpet\":[{\"type\":\"scattercarpet\",\"marker\":{\"colorbar\":{\"outlinewidth\":0,\"ticks\":\"\"}}}],\"carpet\":[{\"aaxis\":{\"endlinecolor\":\"#2a3f5f\",\"gridcolor\":\"white\",\"linecolor\":\"white\",\"minorgridcolor\":\"white\",\"startlinecolor\":\"#2a3f5f\"},\"baxis\":{\"endlinecolor\":\"#2a3f5f\",\"gridcolor\":\"white\",\"linecolor\":\"white\",\"minorgridcolor\":\"white\",\"startlinecolor\":\"#2a3f5f\"},\"type\":\"carpet\"}],\"table\":[{\"cells\":{\"fill\":{\"color\":\"#EBF0F8\"},\"line\":{\"color\":\"white\"}},\"header\":{\"fill\":{\"color\":\"#C8D4E3\"},\"line\":{\"color\":\"white\"}},\"type\":\"table\"}],\"barpolar\":[{\"marker\":{\"line\":{\"color\":\"#E5ECF6\",\"width\":0.5},\"pattern\":{\"fillmode\":\"overlay\",\"size\":10,\"solidity\":0.2}},\"type\":\"barpolar\"}],\"pie\":[{\"automargin\":true,\"type\":\"pie\"}]},\"layout\":{\"autotypenumbers\":\"strict\",\"colorway\":[\"#636efa\",\"#EF553B\",\"#00cc96\",\"#ab63fa\",\"#FFA15A\",\"#19d3f3\",\"#FF6692\",\"#B6E880\",\"#FF97FF\",\"#FECB52\"],\"font\":{\"color\":\"#2a3f5f\"},\"hovermode\":\"closest\",\"hoverlabel\":{\"align\":\"left\"},\"paper_bgcolor\":\"white\",\"plot_bgcolor\":\"#E5ECF6\",\"polar\":{\"bgcolor\":\"#E5ECF6\",\"angularaxis\":{\"gridcolor\":\"white\",\"linecolor\":\"white\",\"ticks\":\"\"},\"radialaxis\":{\"gridcolor\":\"white\",\"linecolor\":\"white\",\"ticks\":\"\"}},\"ternary\":{\"bgcolor\":\"#E5ECF6\",\"aaxis\":{\"gridcolor\":\"white\",\"linecolor\":\"white\",\"ticks\":\"\"},\"baxis\":{\"gridcolor\":\"white\",\"linecolor\":\"white\",\"ticks\":\"\"},\"caxis\":{\"gridcolor\":\"white\",\"linecolor\":\"white\",\"ticks\":\"\"}},\"coloraxis\":{\"colorbar\":{\"outlinewidth\":0,\"ticks\":\"\"}},\"colorscale\":{\"sequential\":[[0.0,\"#0d0887\"],[0.1111111111111111,\"#46039f\"],[0.2222222222222222,\"#7201a8\"],[0.3333333333333333,\"#9c179e\"],[0.4444444444444444,\"#bd3786\"],[0.5555555555555556,\"#d8576b\"],[0.6666666666666666,\"#ed7953\"],[0.7777777777777778,\"#fb9f3a\"],[0.8888888888888888,\"#fdca26\"],[1.0,\"#f0f921\"]],\"sequentialminus\":[[0.0,\"#0d0887\"],[0.1111111111111111,\"#46039f\"],[0.2222222222222222,\"#7201a8\"],[0.3333333333333333,\"#9c179e\"],[0.4444444444444444,\"#bd3786\"],[0.5555555555555556,\"#d8576b\"],[0.6666666666666666,\"#ed7953\"],[0.7777777777777778,\"#fb9f3a\"],[0.8888888888888888,\"#fdca26\"],[1.0,\"#f0f921\"]],\"diverging\":[[0,\"#8e0152\"],[0.1,\"#c51b7d\"],[0.2,\"#de77ae\"],[0.3,\"#f1b6da\"],[0.4,\"#fde0ef\"],[0.5,\"#f7f7f7\"],[0.6,\"#e6f5d0\"],[0.7,\"#b8e186\"],[0.8,\"#7fbc41\"],[0.9,\"#4d9221\"],[1,\"#276419\"]]},\"xaxis\":{\"gridcolor\":\"white\",\"linecolor\":\"white\",\"ticks\":\"\",\"title\":{\"standoff\":15},\"zerolinecolor\":\"white\",\"automargin\":true,\"zerolinewidth\":2},\"yaxis\":{\"gridcolor\":\"white\",\"linecolor\":\"white\",\"ticks\":\"\",\"title\":{\"standoff\":15},\"zerolinecolor\":\"white\",\"automargin\":true,\"zerolinewidth\":2},\"scene\":{\"xaxis\":{\"backgroundcolor\":\"#E5ECF6\",\"gridcolor\":\"white\",\"linecolor\":\"white\",\"showbackground\":true,\"ticks\":\"\",\"zerolinecolor\":\"white\",\"gridwidth\":2},\"yaxis\":{\"backgroundcolor\":\"#E5ECF6\",\"gridcolor\":\"white\",\"linecolor\":\"white\",\"showbackground\":true,\"ticks\":\"\",\"zerolinecolor\":\"white\",\"gridwidth\":2},\"zaxis\":{\"backgroundcolor\":\"#E5ECF6\",\"gridcolor\":\"white\",\"linecolor\":\"white\",\"showbackground\":true,\"ticks\":\"\",\"zerolinecolor\":\"white\",\"gridwidth\":2}},\"shapedefaults\":{\"line\":{\"color\":\"#2a3f5f\"}},\"annotationdefaults\":{\"arrowcolor\":\"#2a3f5f\",\"arrowhead\":0,\"arrowwidth\":1},\"geo\":{\"bgcolor\":\"white\",\"landcolor\":\"#E5ECF6\",\"subunitcolor\":\"white\",\"showland\":true,\"showlakes\":true,\"lakecolor\":\"white\"},\"title\":{\"x\":0.05},\"mapbox\":{\"style\":\"light\"}}},\"xaxis\":{\"anchor\":\"y\",\"domain\":[0.0,1.0],\"title\":{\"text\":\"Etiquette DPE\"},\"categoryorder\":\"array\",\"categoryarray\":[\"A\",\"B\",\"C\",\"D\",\"E\",\"F\",\"G\"]},\"yaxis\":{\"anchor\":\"x\",\"domain\":[0.0,1.0],\"title\":{\"text\":\"Co\\u00fbt moyen/m2 en \\u20ac\"}},\"legend\":{\"title\":{\"text\":\"Type_b\\u00e2timent\"},\"tracegroupgap\":0},\"title\":{\"text\":\"Co\\u00fbt moyen/m2 par DPE et type de b\\u00e2timent\"},\"barmode\":\"group\",\"height\":400},                        {\"responsive\": true}                    ).then(function(){\n",
       "                            \n",
       "var gd = document.getElementById('8854c8e2-f241-41d9-8f38-37c61d5f60f2');\n",
       "var x = new MutationObserver(function (mutations, observer) {{\n",
       "        var display = window.getComputedStyle(gd).display;\n",
       "        if (!display || display === 'none') {{\n",
       "            console.log([gd, 'removed!']);\n",
       "            Plotly.purge(gd);\n",
       "            observer.disconnect();\n",
       "        }}\n",
       "}});\n",
       "\n",
       "// Listen for the removal of the full notebook cells\n",
       "var notebookContainer = gd.closest('#notebook-container');\n",
       "if (notebookContainer) {{\n",
       "    x.observe(notebookContainer, {childList: true});\n",
       "}}\n",
       "\n",
       "// Listen for the clearing of the current output cell\n",
       "var outputEl = gd.closest('.output');\n",
       "if (outputEl) {{\n",
       "    x.observe(outputEl, {childList: true});\n",
       "}}\n",
       "\n",
       "                        })                };                });            </script>        </div>"
      ]
     },
     "metadata": {},
     "output_type": "display_data"
    }
   ],
   "source": [
    "fig = px.bar(df_filter_without_im, x='Etiquette_DPE', y='coût_moyen_par_m2_en_euros', color='Type_bâtiment', barmode='group',\n",
    "             title='Coût moyen/m2 par DPE et type de bâtiment',\n",
    "             labels={'Etiquette_DPE': 'Etiquette DPE', 'coût_moyen_par_m2_en_euros': 'Coût moyen/m2 en €'},\n",
    "             category_orders={'Etiquette_DPE': ['A', 'B', 'C', 'D', 'E', 'F', 'G']},\n",
    "             height=400)\n",
    "\n",
    "fig.show()"
   ]
  },
  {
   "cell_type": "code",
   "execution_count": 28,
   "id": "56b55e34-8761-4d29-9942-17ad29d5740a",
   "metadata": {},
   "outputs": [
    {
     "data": {
      "text/plain": [
       "0           888.0\n",
       "1           913.7\n",
       "2          1038.5\n",
       "3          1015.4\n",
       "4          1556.0\n",
       "            ...  \n",
       "2408370    3029.0\n",
       "2408371     829.0\n",
       "2408372    1285.0\n",
       "2408373     351.2\n",
       "2408374    1037.0\n",
       "Name: Coût_total_5_usages, Length: 2408375, dtype: float64"
      ]
     },
     "execution_count": 28,
     "metadata": {},
     "output_type": "execute_result"
    }
   ],
   "source": [
    "df['Coût_total_5_usages']"
   ]
  },
  {
   "cell_type": "code",
   "execution_count": 30,
   "id": "2b7149b3-726c-480d-95c0-2da555b71865",
   "metadata": {},
   "outputs": [],
   "source": [
    "filtered_data = df[['Etiquette_DPE', 'Année_construction', 'Coût_total_5_usages']]\n",
    "\n",
    "\n"
   ]
  },
  {
   "cell_type": "code",
   "execution_count": 32,
   "id": "e06228f9-38c6-4e5f-a4c7-1db44d700174",
   "metadata": {},
   "outputs": [
    {
     "data": {
      "text/plain": [
       "Etiquette_DPE               0\n",
       "Année_construction     790470\n",
       "Coût_total_5_usages         0\n",
       "dtype: int64"
      ]
     },
     "execution_count": 32,
     "metadata": {},
     "output_type": "execute_result"
    }
   ],
   "source": [
    "filtered_data.isnull().sum()"
   ]
  },
  {
   "cell_type": "code",
   "execution_count": 34,
   "id": "c6622d7a-f329-4592-a750-5f3b40f5d98a",
   "metadata": {},
   "outputs": [],
   "source": [
    "clean_data = filtered_data.dropna()"
   ]
  },
  {
   "cell_type": "code",
   "execution_count": 36,
   "id": "6aa09826-37f4-4f01-b176-d3d91d126481",
   "metadata": {},
   "outputs": [
    {
     "data": {
      "text/plain": [
       "(1617905, 3)"
      ]
     },
     "execution_count": 36,
     "metadata": {},
     "output_type": "execute_result"
    }
   ],
   "source": [
    "clean_data.shape"
   ]
  },
  {
   "cell_type": "code",
   "execution_count": 38,
   "id": "20cf54dc-b079-42db-96f6-5eafa587fc9d",
   "metadata": {},
   "outputs": [
    {
     "data": {
      "text/plain": [
       "Etiquette_DPE          0\n",
       "Année_construction     0\n",
       "Coût_total_5_usages    0\n",
       "dtype: int64"
      ]
     },
     "execution_count": 38,
     "metadata": {},
     "output_type": "execute_result"
    }
   ],
   "source": [
    "clean_data.isnull().sum()"
   ]
  },
  {
   "cell_type": "code",
   "execution_count": 40,
   "id": "ca110965-9097-493c-a8a3-85635c93c8eb",
   "metadata": {},
   "outputs": [],
   "source": [
    "filtered_data = clean_data[['Etiquette_DPE', 'Année_construction', 'Coût_total_5_usages']].copy()\n",
    "\n",
    "# Créer des intervalles pour les périodes de construction\n",
    "bins = [float('-inf'), 1948, 1975, 1978, 1983, 1989, 2001, 2006, 2013, 2022, float('inf')]\n",
    "labels = ['avant 1948', '1949-1974', '1975-1977', '1978-1982', '1983-1988', '1989-2000', '2001-2005', '2006-2012', '2013-2021', 'après 2021']\n",
    "filtered_data['Période_construction'] = pd.cut(filtered_data['Année_construction'], bins=bins, labels=labels)"
   ]
  },
  {
   "cell_type": "code",
   "execution_count": 42,
   "id": "d68a7bb3-ac7b-4fe6-a5b1-ee5c3ec2f449",
   "metadata": {},
   "outputs": [
    {
     "data": {
      "text/html": [
       "<div>\n",
       "<style scoped>\n",
       "    .dataframe tbody tr th:only-of-type {\n",
       "        vertical-align: middle;\n",
       "    }\n",
       "\n",
       "    .dataframe tbody tr th {\n",
       "        vertical-align: top;\n",
       "    }\n",
       "\n",
       "    .dataframe thead th {\n",
       "        text-align: right;\n",
       "    }\n",
       "</style>\n",
       "<table border=\"1\" class=\"dataframe\">\n",
       "  <thead>\n",
       "    <tr style=\"text-align: right;\">\n",
       "      <th></th>\n",
       "      <th>Etiquette_DPE</th>\n",
       "      <th>Année_construction</th>\n",
       "      <th>Coût_total_5_usages</th>\n",
       "      <th>Période_construction</th>\n",
       "    </tr>\n",
       "  </thead>\n",
       "  <tbody>\n",
       "    <tr>\n",
       "      <th>0</th>\n",
       "      <td>F</td>\n",
       "      <td>1948.0</td>\n",
       "      <td>888.0</td>\n",
       "      <td>avant 1948</td>\n",
       "    </tr>\n",
       "    <tr>\n",
       "      <th>1</th>\n",
       "      <td>D</td>\n",
       "      <td>1948.0</td>\n",
       "      <td>913.7</td>\n",
       "      <td>avant 1948</td>\n",
       "    </tr>\n",
       "    <tr>\n",
       "      <th>2</th>\n",
       "      <td>D</td>\n",
       "      <td>1948.0</td>\n",
       "      <td>1038.5</td>\n",
       "      <td>avant 1948</td>\n",
       "    </tr>\n",
       "    <tr>\n",
       "      <th>3</th>\n",
       "      <td>E</td>\n",
       "      <td>1947.0</td>\n",
       "      <td>1015.4</td>\n",
       "      <td>avant 1948</td>\n",
       "    </tr>\n",
       "    <tr>\n",
       "      <th>4</th>\n",
       "      <td>D</td>\n",
       "      <td>1983.0</td>\n",
       "      <td>1556.0</td>\n",
       "      <td>1978-1982</td>\n",
       "    </tr>\n",
       "    <tr>\n",
       "      <th>...</th>\n",
       "      <td>...</td>\n",
       "      <td>...</td>\n",
       "      <td>...</td>\n",
       "      <td>...</td>\n",
       "    </tr>\n",
       "    <tr>\n",
       "      <th>2408370</th>\n",
       "      <td>E</td>\n",
       "      <td>1990.0</td>\n",
       "      <td>3029.0</td>\n",
       "      <td>1989-2000</td>\n",
       "    </tr>\n",
       "    <tr>\n",
       "      <th>2408371</th>\n",
       "      <td>A</td>\n",
       "      <td>2017.0</td>\n",
       "      <td>829.0</td>\n",
       "      <td>2013-2021</td>\n",
       "    </tr>\n",
       "    <tr>\n",
       "      <th>2408372</th>\n",
       "      <td>D</td>\n",
       "      <td>2009.0</td>\n",
       "      <td>1285.0</td>\n",
       "      <td>2006-2012</td>\n",
       "    </tr>\n",
       "    <tr>\n",
       "      <th>2408373</th>\n",
       "      <td>C</td>\n",
       "      <td>2010.0</td>\n",
       "      <td>351.2</td>\n",
       "      <td>2006-2012</td>\n",
       "    </tr>\n",
       "    <tr>\n",
       "      <th>2408374</th>\n",
       "      <td>D</td>\n",
       "      <td>1995.0</td>\n",
       "      <td>1037.0</td>\n",
       "      <td>1989-2000</td>\n",
       "    </tr>\n",
       "  </tbody>\n",
       "</table>\n",
       "<p>1617905 rows × 4 columns</p>\n",
       "</div>"
      ],
      "text/plain": [
       "        Etiquette_DPE  Année_construction  Coût_total_5_usages  \\\n",
       "0                   F              1948.0                888.0   \n",
       "1                   D              1948.0                913.7   \n",
       "2                   D              1948.0               1038.5   \n",
       "3                   E              1947.0               1015.4   \n",
       "4                   D              1983.0               1556.0   \n",
       "...               ...                 ...                  ...   \n",
       "2408370             E              1990.0               3029.0   \n",
       "2408371             A              2017.0                829.0   \n",
       "2408372             D              2009.0               1285.0   \n",
       "2408373             C              2010.0                351.2   \n",
       "2408374             D              1995.0               1037.0   \n",
       "\n",
       "        Période_construction  \n",
       "0                 avant 1948  \n",
       "1                 avant 1948  \n",
       "2                 avant 1948  \n",
       "3                 avant 1948  \n",
       "4                  1978-1982  \n",
       "...                      ...  \n",
       "2408370            1989-2000  \n",
       "2408371            2013-2021  \n",
       "2408372            2006-2012  \n",
       "2408373            2006-2012  \n",
       "2408374            1989-2000  \n",
       "\n",
       "[1617905 rows x 4 columns]"
      ]
     },
     "execution_count": 42,
     "metadata": {},
     "output_type": "execute_result"
    }
   ],
   "source": [
    "filtered_data"
   ]
  },
  {
   "cell_type": "code",
   "execution_count": 44,
   "id": "a5a25ce4-4023-4d33-8449-cb141d878f55",
   "metadata": {},
   "outputs": [
    {
     "name": "stderr",
     "output_type": "stream",
     "text": [
      "/var/folders/_x/4kmsttjn16n_c4g9knprddp40000gn/T/ipykernel_84018/2934534108.py:1: FutureWarning:\n",
      "\n",
      "The default of observed=False is deprecated and will be changed to True in a future version of pandas. Pass observed=False to retain current behavior or observed=True to adopt the future default and silence this warning.\n",
      "\n"
     ]
    },
    {
     "data": {
      "text/html": [
       "<div>\n",
       "<style scoped>\n",
       "    .dataframe tbody tr th:only-of-type {\n",
       "        vertical-align: middle;\n",
       "    }\n",
       "\n",
       "    .dataframe tbody tr th {\n",
       "        vertical-align: top;\n",
       "    }\n",
       "\n",
       "    .dataframe thead th {\n",
       "        text-align: right;\n",
       "    }\n",
       "</style>\n",
       "<table border=\"1\" class=\"dataframe\">\n",
       "  <thead>\n",
       "    <tr style=\"text-align: right;\">\n",
       "      <th></th>\n",
       "      <th>Etiquette_DPE</th>\n",
       "      <th>Période_construction</th>\n",
       "      <th>Coût_total_5_usages</th>\n",
       "    </tr>\n",
       "  </thead>\n",
       "  <tbody>\n",
       "    <tr>\n",
       "      <th>0</th>\n",
       "      <td>A</td>\n",
       "      <td>avant 1948</td>\n",
       "      <td>661.482218</td>\n",
       "    </tr>\n",
       "    <tr>\n",
       "      <th>1</th>\n",
       "      <td>A</td>\n",
       "      <td>1949-1974</td>\n",
       "      <td>613.815056</td>\n",
       "    </tr>\n",
       "    <tr>\n",
       "      <th>2</th>\n",
       "      <td>A</td>\n",
       "      <td>1975-1977</td>\n",
       "      <td>771.661644</td>\n",
       "    </tr>\n",
       "    <tr>\n",
       "      <th>3</th>\n",
       "      <td>A</td>\n",
       "      <td>1978-1982</td>\n",
       "      <td>601.181818</td>\n",
       "    </tr>\n",
       "    <tr>\n",
       "      <th>4</th>\n",
       "      <td>A</td>\n",
       "      <td>1983-1988</td>\n",
       "      <td>546.172000</td>\n",
       "    </tr>\n",
       "    <tr>\n",
       "      <th>...</th>\n",
       "      <td>...</td>\n",
       "      <td>...</td>\n",
       "      <td>...</td>\n",
       "    </tr>\n",
       "    <tr>\n",
       "      <th>65</th>\n",
       "      <td>G</td>\n",
       "      <td>1989-2000</td>\n",
       "      <td>1821.046689</td>\n",
       "    </tr>\n",
       "    <tr>\n",
       "      <th>66</th>\n",
       "      <td>G</td>\n",
       "      <td>2001-2005</td>\n",
       "      <td>2386.413380</td>\n",
       "    </tr>\n",
       "    <tr>\n",
       "      <th>67</th>\n",
       "      <td>G</td>\n",
       "      <td>2006-2012</td>\n",
       "      <td>1527.697143</td>\n",
       "    </tr>\n",
       "    <tr>\n",
       "      <th>68</th>\n",
       "      <td>G</td>\n",
       "      <td>2013-2021</td>\n",
       "      <td>1640.265455</td>\n",
       "    </tr>\n",
       "    <tr>\n",
       "      <th>69</th>\n",
       "      <td>G</td>\n",
       "      <td>après 2021</td>\n",
       "      <td>NaN</td>\n",
       "    </tr>\n",
       "  </tbody>\n",
       "</table>\n",
       "<p>70 rows × 3 columns</p>\n",
       "</div>"
      ],
      "text/plain": [
       "   Etiquette_DPE Période_construction  Coût_total_5_usages\n",
       "0              A           avant 1948           661.482218\n",
       "1              A            1949-1974           613.815056\n",
       "2              A            1975-1977           771.661644\n",
       "3              A            1978-1982           601.181818\n",
       "4              A            1983-1988           546.172000\n",
       "..           ...                  ...                  ...\n",
       "65             G            1989-2000          1821.046689\n",
       "66             G            2001-2005          2386.413380\n",
       "67             G            2006-2012          1527.697143\n",
       "68             G            2013-2021          1640.265455\n",
       "69             G           après 2021                  NaN\n",
       "\n",
       "[70 rows x 3 columns]"
      ]
     },
     "execution_count": 44,
     "metadata": {},
     "output_type": "execute_result"
    }
   ],
   "source": [
    "mean_cost_df = filtered_data.groupby(['Etiquette_DPE', 'Période_construction'])['Coût_total_5_usages'].mean().reset_index()\n",
    "\n",
    "mean_cost_df"
   ]
  },
  {
   "cell_type": "code",
   "execution_count": 46,
   "id": "ec2f5069-c318-4065-84fe-f71a52e830d6",
   "metadata": {},
   "outputs": [
    {
     "data": {
      "application/vnd.plotly.v1+json": {
       "config": {
        "plotlyServerURL": "https://plot.ly"
       },
       "data": [
        {
         "alignmentgroup": "True",
         "hovertemplate": "Etiquette_DPE=A<br>Période_construction=%{x}<br>Coût_total_5_usages=%{y}<extra></extra>",
         "legendgroup": "A",
         "marker": {
          "color": "green",
          "pattern": {
           "shape": ""
          }
         },
         "name": "A",
         "offsetgroup": "A",
         "orientation": "v",
         "showlegend": true,
         "textposition": "auto",
         "type": "bar",
         "x": [
          "avant 1948",
          "1949-1974",
          "1975-1977",
          "1978-1982",
          "1983-1988",
          "1989-2000",
          "2001-2005",
          "2006-2012",
          "2013-2021",
          "après 2021"
         ],
         "xaxis": "x",
         "y": [
          661.4822175732218,
          613.8150557620818,
          771.6616438356165,
          601.1818181818181,
          546.172,
          699.5386792452831,
          791.4764705882352,
          587.9920676890534,
          540.9354544215832,
          577.8
         ],
         "yaxis": "y"
        },
        {
         "alignmentgroup": "True",
         "hovertemplate": "Etiquette_DPE=B<br>Période_construction=%{x}<br>Coût_total_5_usages=%{y}<extra></extra>",
         "legendgroup": "B",
         "marker": {
          "color": "#7FFF00",
          "pattern": {
           "shape": ""
          }
         },
         "name": "B",
         "offsetgroup": "B",
         "orientation": "v",
         "showlegend": true,
         "textposition": "auto",
         "type": "bar",
         "x": [
          "avant 1948",
          "1949-1974",
          "1975-1977",
          "1978-1982",
          "1983-1988",
          "1989-2000",
          "2001-2005",
          "2006-2012",
          "2013-2021",
          "après 2021"
         ],
         "xaxis": "x",
         "y": [
          924.4927383093526,
          953.4682974773397,
          928.6440273037543,
          978.8093749999999,
          721.4132863021752,
          1003.2589502546025,
          928.61400549235,
          849.3215968289921,
          694.8768235793045,
          null
         ],
         "yaxis": "y"
        },
        {
         "alignmentgroup": "True",
         "hovertemplate": "Etiquette_DPE=C<br>Période_construction=%{x}<br>Coût_total_5_usages=%{y}<extra></extra>",
         "legendgroup": "C",
         "marker": {
          "color": "yellow",
          "pattern": {
           "shape": ""
          }
         },
         "name": "C",
         "offsetgroup": "C",
         "orientation": "v",
         "showlegend": true,
         "textposition": "auto",
         "type": "bar",
         "x": [
          "avant 1948",
          "1949-1974",
          "1975-1977",
          "1978-1982",
          "1983-1988",
          "1989-2000",
          "2001-2005",
          "2006-2012",
          "2013-2021",
          "après 2021"
         ],
         "xaxis": "x",
         "y": [
          1167.363797790994,
          1266.2000278914095,
          1257.1776578324943,
          1358.1996840584943,
          1272.6204477030426,
          1184.217789911494,
          1032.0879899170595,
          929.436378941406,
          863.6444399171505,
          1118.4285714285713
         ],
         "yaxis": "y"
        },
        {
         "alignmentgroup": "True",
         "hovertemplate": "Etiquette_DPE=D<br>Période_construction=%{x}<br>Coût_total_5_usages=%{y}<extra></extra>",
         "legendgroup": "D",
         "marker": {
          "color": "#FFD700",
          "pattern": {
           "shape": ""
          }
         },
         "name": "D",
         "offsetgroup": "D",
         "orientation": "v",
         "showlegend": true,
         "textposition": "auto",
         "type": "bar",
         "x": [
          "avant 1948",
          "1949-1974",
          "1975-1977",
          "1978-1982",
          "1983-1988",
          "1989-2000",
          "2001-2005",
          "2006-2012",
          "2013-2021",
          "après 2021"
         ],
         "xaxis": "x",
         "y": [
          1439.8066054707974,
          1585.6990891061419,
          1670.826354907396,
          1572.707857718121,
          1398.1372039567136,
          1263.4893504471731,
          1181.1229650263078,
          1081.9032915669436,
          1027.6652371227592,
          944.3333333333334
         ],
         "yaxis": "y"
        },
        {
         "alignmentgroup": "True",
         "hovertemplate": "Etiquette_DPE=E<br>Période_construction=%{x}<br>Coût_total_5_usages=%{y}<extra></extra>",
         "legendgroup": "E",
         "marker": {
          "color": "orange",
          "pattern": {
           "shape": ""
          }
         },
         "name": "E",
         "offsetgroup": "E",
         "orientation": "v",
         "showlegend": true,
         "textposition": "auto",
         "type": "bar",
         "x": [
          "avant 1948",
          "1949-1974",
          "1975-1977",
          "1978-1982",
          "1983-1988",
          "1989-2000",
          "2001-2005",
          "2006-2012",
          "2013-2021",
          "après 2021"
         ],
         "xaxis": "x",
         "y": [
          1686.4608910788022,
          1850.8572813515918,
          1800.8657597402596,
          1775.138002663116,
          1566.0942313721391,
          1336.2948240935962,
          1254.2850634672232,
          1191.0257625272332,
          1007.2343465045592,
          3133
         ],
         "yaxis": "y"
        },
        {
         "alignmentgroup": "True",
         "hovertemplate": "Etiquette_DPE=F<br>Période_construction=%{x}<br>Coût_total_5_usages=%{y}<extra></extra>",
         "legendgroup": "F",
         "marker": {
          "color": "#FF4500",
          "pattern": {
           "shape": ""
          }
         },
         "name": "F",
         "offsetgroup": "F",
         "orientation": "v",
         "showlegend": true,
         "textposition": "auto",
         "type": "bar",
         "x": [
          "avant 1948",
          "1949-1974",
          "1975-1977",
          "1978-1982",
          "1983-1988",
          "1989-2000",
          "2001-2005",
          "2006-2012",
          "2013-2021",
          "après 2021"
         ],
         "xaxis": "x",
         "y": [
          2071.772360489199,
          2182.4740129217516,
          2051.864843405381,
          1893.075688475706,
          1583.002731591449,
          1406.332500643832,
          1692.939783281734,
          1220.1356,
          963.0741573033708,
          null
         ],
         "yaxis": "y"
        },
        {
         "alignmentgroup": "True",
         "hovertemplate": "Etiquette_DPE=G<br>Période_construction=%{x}<br>Coût_total_5_usages=%{y}<extra></extra>",
         "legendgroup": "G",
         "marker": {
          "color": "red",
          "pattern": {
           "shape": ""
          }
         },
         "name": "G",
         "offsetgroup": "G",
         "orientation": "v",
         "showlegend": true,
         "textposition": "auto",
         "type": "bar",
         "x": [
          "avant 1948",
          "1949-1974",
          "1975-1977",
          "1978-1982",
          "1983-1988",
          "1989-2000",
          "2001-2005",
          "2006-2012",
          "2013-2021",
          "après 2021"
         ],
         "xaxis": "x",
         "y": [
          2291.859510705086,
          3032.4903752192436,
          2462.664652777778,
          2403.4283311772315,
          1777.169081081081,
          1821.046688741722,
          2386.41338028169,
          1527.697142857143,
          1640.2654545454548,
          null
         ],
         "yaxis": "y"
        }
       ],
       "layout": {
        "autosize": true,
        "barmode": "group",
        "legend": {
         "title": {
          "text": "Classe DPE"
         },
         "tracegroupgap": 0
        },
        "margin": {
         "t": 60
        },
        "template": {
         "data": {
          "bar": [
           {
            "error_x": {
             "color": "#2a3f5f"
            },
            "error_y": {
             "color": "#2a3f5f"
            },
            "marker": {
             "line": {
              "color": "#E5ECF6",
              "width": 0.5
             },
             "pattern": {
              "fillmode": "overlay",
              "size": 10,
              "solidity": 0.2
             }
            },
            "type": "bar"
           }
          ],
          "barpolar": [
           {
            "marker": {
             "line": {
              "color": "#E5ECF6",
              "width": 0.5
             },
             "pattern": {
              "fillmode": "overlay",
              "size": 10,
              "solidity": 0.2
             }
            },
            "type": "barpolar"
           }
          ],
          "carpet": [
           {
            "aaxis": {
             "endlinecolor": "#2a3f5f",
             "gridcolor": "white",
             "linecolor": "white",
             "minorgridcolor": "white",
             "startlinecolor": "#2a3f5f"
            },
            "baxis": {
             "endlinecolor": "#2a3f5f",
             "gridcolor": "white",
             "linecolor": "white",
             "minorgridcolor": "white",
             "startlinecolor": "#2a3f5f"
            },
            "type": "carpet"
           }
          ],
          "choropleth": [
           {
            "colorbar": {
             "outlinewidth": 0,
             "ticks": ""
            },
            "type": "choropleth"
           }
          ],
          "contour": [
           {
            "colorbar": {
             "outlinewidth": 0,
             "ticks": ""
            },
            "colorscale": [
             [
              0,
              "#0d0887"
             ],
             [
              0.1111111111111111,
              "#46039f"
             ],
             [
              0.2222222222222222,
              "#7201a8"
             ],
             [
              0.3333333333333333,
              "#9c179e"
             ],
             [
              0.4444444444444444,
              "#bd3786"
             ],
             [
              0.5555555555555556,
              "#d8576b"
             ],
             [
              0.6666666666666666,
              "#ed7953"
             ],
             [
              0.7777777777777778,
              "#fb9f3a"
             ],
             [
              0.8888888888888888,
              "#fdca26"
             ],
             [
              1,
              "#f0f921"
             ]
            ],
            "type": "contour"
           }
          ],
          "contourcarpet": [
           {
            "colorbar": {
             "outlinewidth": 0,
             "ticks": ""
            },
            "type": "contourcarpet"
           }
          ],
          "heatmap": [
           {
            "colorbar": {
             "outlinewidth": 0,
             "ticks": ""
            },
            "colorscale": [
             [
              0,
              "#0d0887"
             ],
             [
              0.1111111111111111,
              "#46039f"
             ],
             [
              0.2222222222222222,
              "#7201a8"
             ],
             [
              0.3333333333333333,
              "#9c179e"
             ],
             [
              0.4444444444444444,
              "#bd3786"
             ],
             [
              0.5555555555555556,
              "#d8576b"
             ],
             [
              0.6666666666666666,
              "#ed7953"
             ],
             [
              0.7777777777777778,
              "#fb9f3a"
             ],
             [
              0.8888888888888888,
              "#fdca26"
             ],
             [
              1,
              "#f0f921"
             ]
            ],
            "type": "heatmap"
           }
          ],
          "heatmapgl": [
           {
            "colorbar": {
             "outlinewidth": 0,
             "ticks": ""
            },
            "colorscale": [
             [
              0,
              "#0d0887"
             ],
             [
              0.1111111111111111,
              "#46039f"
             ],
             [
              0.2222222222222222,
              "#7201a8"
             ],
             [
              0.3333333333333333,
              "#9c179e"
             ],
             [
              0.4444444444444444,
              "#bd3786"
             ],
             [
              0.5555555555555556,
              "#d8576b"
             ],
             [
              0.6666666666666666,
              "#ed7953"
             ],
             [
              0.7777777777777778,
              "#fb9f3a"
             ],
             [
              0.8888888888888888,
              "#fdca26"
             ],
             [
              1,
              "#f0f921"
             ]
            ],
            "type": "heatmapgl"
           }
          ],
          "histogram": [
           {
            "marker": {
             "pattern": {
              "fillmode": "overlay",
              "size": 10,
              "solidity": 0.2
             }
            },
            "type": "histogram"
           }
          ],
          "histogram2d": [
           {
            "colorbar": {
             "outlinewidth": 0,
             "ticks": ""
            },
            "colorscale": [
             [
              0,
              "#0d0887"
             ],
             [
              0.1111111111111111,
              "#46039f"
             ],
             [
              0.2222222222222222,
              "#7201a8"
             ],
             [
              0.3333333333333333,
              "#9c179e"
             ],
             [
              0.4444444444444444,
              "#bd3786"
             ],
             [
              0.5555555555555556,
              "#d8576b"
             ],
             [
              0.6666666666666666,
              "#ed7953"
             ],
             [
              0.7777777777777778,
              "#fb9f3a"
             ],
             [
              0.8888888888888888,
              "#fdca26"
             ],
             [
              1,
              "#f0f921"
             ]
            ],
            "type": "histogram2d"
           }
          ],
          "histogram2dcontour": [
           {
            "colorbar": {
             "outlinewidth": 0,
             "ticks": ""
            },
            "colorscale": [
             [
              0,
              "#0d0887"
             ],
             [
              0.1111111111111111,
              "#46039f"
             ],
             [
              0.2222222222222222,
              "#7201a8"
             ],
             [
              0.3333333333333333,
              "#9c179e"
             ],
             [
              0.4444444444444444,
              "#bd3786"
             ],
             [
              0.5555555555555556,
              "#d8576b"
             ],
             [
              0.6666666666666666,
              "#ed7953"
             ],
             [
              0.7777777777777778,
              "#fb9f3a"
             ],
             [
              0.8888888888888888,
              "#fdca26"
             ],
             [
              1,
              "#f0f921"
             ]
            ],
            "type": "histogram2dcontour"
           }
          ],
          "mesh3d": [
           {
            "colorbar": {
             "outlinewidth": 0,
             "ticks": ""
            },
            "type": "mesh3d"
           }
          ],
          "parcoords": [
           {
            "line": {
             "colorbar": {
              "outlinewidth": 0,
              "ticks": ""
             }
            },
            "type": "parcoords"
           }
          ],
          "pie": [
           {
            "automargin": true,
            "type": "pie"
           }
          ],
          "scatter": [
           {
            "fillpattern": {
             "fillmode": "overlay",
             "size": 10,
             "solidity": 0.2
            },
            "type": "scatter"
           }
          ],
          "scatter3d": [
           {
            "line": {
             "colorbar": {
              "outlinewidth": 0,
              "ticks": ""
             }
            },
            "marker": {
             "colorbar": {
              "outlinewidth": 0,
              "ticks": ""
             }
            },
            "type": "scatter3d"
           }
          ],
          "scattercarpet": [
           {
            "marker": {
             "colorbar": {
              "outlinewidth": 0,
              "ticks": ""
             }
            },
            "type": "scattercarpet"
           }
          ],
          "scattergeo": [
           {
            "marker": {
             "colorbar": {
              "outlinewidth": 0,
              "ticks": ""
             }
            },
            "type": "scattergeo"
           }
          ],
          "scattergl": [
           {
            "marker": {
             "colorbar": {
              "outlinewidth": 0,
              "ticks": ""
             }
            },
            "type": "scattergl"
           }
          ],
          "scattermapbox": [
           {
            "marker": {
             "colorbar": {
              "outlinewidth": 0,
              "ticks": ""
             }
            },
            "type": "scattermapbox"
           }
          ],
          "scatterpolar": [
           {
            "marker": {
             "colorbar": {
              "outlinewidth": 0,
              "ticks": ""
             }
            },
            "type": "scatterpolar"
           }
          ],
          "scatterpolargl": [
           {
            "marker": {
             "colorbar": {
              "outlinewidth": 0,
              "ticks": ""
             }
            },
            "type": "scatterpolargl"
           }
          ],
          "scatterternary": [
           {
            "marker": {
             "colorbar": {
              "outlinewidth": 0,
              "ticks": ""
             }
            },
            "type": "scatterternary"
           }
          ],
          "surface": [
           {
            "colorbar": {
             "outlinewidth": 0,
             "ticks": ""
            },
            "colorscale": [
             [
              0,
              "#0d0887"
             ],
             [
              0.1111111111111111,
              "#46039f"
             ],
             [
              0.2222222222222222,
              "#7201a8"
             ],
             [
              0.3333333333333333,
              "#9c179e"
             ],
             [
              0.4444444444444444,
              "#bd3786"
             ],
             [
              0.5555555555555556,
              "#d8576b"
             ],
             [
              0.6666666666666666,
              "#ed7953"
             ],
             [
              0.7777777777777778,
              "#fb9f3a"
             ],
             [
              0.8888888888888888,
              "#fdca26"
             ],
             [
              1,
              "#f0f921"
             ]
            ],
            "type": "surface"
           }
          ],
          "table": [
           {
            "cells": {
             "fill": {
              "color": "#EBF0F8"
             },
             "line": {
              "color": "white"
             }
            },
            "header": {
             "fill": {
              "color": "#C8D4E3"
             },
             "line": {
              "color": "white"
             }
            },
            "type": "table"
           }
          ]
         },
         "layout": {
          "annotationdefaults": {
           "arrowcolor": "#2a3f5f",
           "arrowhead": 0,
           "arrowwidth": 1
          },
          "autotypenumbers": "strict",
          "coloraxis": {
           "colorbar": {
            "outlinewidth": 0,
            "ticks": ""
           }
          },
          "colorscale": {
           "diverging": [
            [
             0,
             "#8e0152"
            ],
            [
             0.1,
             "#c51b7d"
            ],
            [
             0.2,
             "#de77ae"
            ],
            [
             0.3,
             "#f1b6da"
            ],
            [
             0.4,
             "#fde0ef"
            ],
            [
             0.5,
             "#f7f7f7"
            ],
            [
             0.6,
             "#e6f5d0"
            ],
            [
             0.7,
             "#b8e186"
            ],
            [
             0.8,
             "#7fbc41"
            ],
            [
             0.9,
             "#4d9221"
            ],
            [
             1,
             "#276419"
            ]
           ],
           "sequential": [
            [
             0,
             "#0d0887"
            ],
            [
             0.1111111111111111,
             "#46039f"
            ],
            [
             0.2222222222222222,
             "#7201a8"
            ],
            [
             0.3333333333333333,
             "#9c179e"
            ],
            [
             0.4444444444444444,
             "#bd3786"
            ],
            [
             0.5555555555555556,
             "#d8576b"
            ],
            [
             0.6666666666666666,
             "#ed7953"
            ],
            [
             0.7777777777777778,
             "#fb9f3a"
            ],
            [
             0.8888888888888888,
             "#fdca26"
            ],
            [
             1,
             "#f0f921"
            ]
           ],
           "sequentialminus": [
            [
             0,
             "#0d0887"
            ],
            [
             0.1111111111111111,
             "#46039f"
            ],
            [
             0.2222222222222222,
             "#7201a8"
            ],
            [
             0.3333333333333333,
             "#9c179e"
            ],
            [
             0.4444444444444444,
             "#bd3786"
            ],
            [
             0.5555555555555556,
             "#d8576b"
            ],
            [
             0.6666666666666666,
             "#ed7953"
            ],
            [
             0.7777777777777778,
             "#fb9f3a"
            ],
            [
             0.8888888888888888,
             "#fdca26"
            ],
            [
             1,
             "#f0f921"
            ]
           ]
          },
          "colorway": [
           "#636efa",
           "#EF553B",
           "#00cc96",
           "#ab63fa",
           "#FFA15A",
           "#19d3f3",
           "#FF6692",
           "#B6E880",
           "#FF97FF",
           "#FECB52"
          ],
          "font": {
           "color": "#2a3f5f"
          },
          "geo": {
           "bgcolor": "white",
           "lakecolor": "white",
           "landcolor": "#E5ECF6",
           "showlakes": true,
           "showland": true,
           "subunitcolor": "white"
          },
          "hoverlabel": {
           "align": "left"
          },
          "hovermode": "closest",
          "mapbox": {
           "style": "light"
          },
          "paper_bgcolor": "white",
          "plot_bgcolor": "#E5ECF6",
          "polar": {
           "angularaxis": {
            "gridcolor": "white",
            "linecolor": "white",
            "ticks": ""
           },
           "bgcolor": "#E5ECF6",
           "radialaxis": {
            "gridcolor": "white",
            "linecolor": "white",
            "ticks": ""
           }
          },
          "scene": {
           "xaxis": {
            "backgroundcolor": "#E5ECF6",
            "gridcolor": "white",
            "gridwidth": 2,
            "linecolor": "white",
            "showbackground": true,
            "ticks": "",
            "zerolinecolor": "white"
           },
           "yaxis": {
            "backgroundcolor": "#E5ECF6",
            "gridcolor": "white",
            "gridwidth": 2,
            "linecolor": "white",
            "showbackground": true,
            "ticks": "",
            "zerolinecolor": "white"
           },
           "zaxis": {
            "backgroundcolor": "#E5ECF6",
            "gridcolor": "white",
            "gridwidth": 2,
            "linecolor": "white",
            "showbackground": true,
            "ticks": "",
            "zerolinecolor": "white"
           }
          },
          "shapedefaults": {
           "line": {
            "color": "#2a3f5f"
           }
          },
          "ternary": {
           "aaxis": {
            "gridcolor": "white",
            "linecolor": "white",
            "ticks": ""
           },
           "baxis": {
            "gridcolor": "white",
            "linecolor": "white",
            "ticks": ""
           },
           "bgcolor": "#E5ECF6",
           "caxis": {
            "gridcolor": "white",
            "linecolor": "white",
            "ticks": ""
           }
          },
          "title": {
           "x": 0.05
          },
          "xaxis": {
           "automargin": true,
           "gridcolor": "white",
           "linecolor": "white",
           "ticks": "",
           "title": {
            "standoff": 15
           },
           "zerolinecolor": "white",
           "zerolinewidth": 2
          },
          "yaxis": {
           "automargin": true,
           "gridcolor": "white",
           "linecolor": "white",
           "ticks": "",
           "title": {
            "standoff": 15
           },
           "zerolinecolor": "white",
           "zerolinewidth": 2
          }
         }
        },
        "title": {
         "text": "Coût total moyen en € par période de construction selon le DPE"
        },
        "xaxis": {
         "anchor": "y",
         "autorange": true,
         "domain": [
          0,
          1
         ],
         "range": [
          -0.5,
          9.5
         ],
         "title": {
          "text": "Période de construction"
         },
         "type": "category"
        },
        "yaxis": {
         "anchor": "x",
         "autorange": true,
         "domain": [
          0,
          1
         ],
         "range": [
          0,
          3297.8947368421054
         ],
         "title": {
          "text": "Coût total moyen en €"
         },
         "type": "linear"
        }
       }
      },
      "image/png": "[encoded data removed]",
      "text/html": [
       "<div>                            <div id=\"a218c024-ffc8-40f0-a797-cf9425eff63b\" class=\"plotly-graph-div\" style=\"height:400px; width:100%;\"></div>            <script type=\"text/javascript\">                require([\"plotly\"], function(Plotly) {                    window.PLOTLYENV=window.PLOTLYENV || {};                                    if (document.getElementById(\"a218c024-ffc8-40f0-a797-cf9425eff63b\")) {                    Plotly.newPlot(                        \"a218c024-ffc8-40f0-a797-cf9425eff63b\",                        [{\"alignmentgroup\":\"True\",\"hovertemplate\":\"Etiquette_DPE=A<br>P\\u00e9riode_construction=%{x}<br>Co\\u00fbt_total_5_usages=%{y}<extra></extra>\",\"legendgroup\":\"A\",\"marker\":{\"color\":\"green\",\"pattern\":{\"shape\":\"\"}},\"name\":\"A\",\"offsetgroup\":\"A\",\"orientation\":\"v\",\"showlegend\":true,\"textposition\":\"auto\",\"x\":[\"avant 1948\",\"1949-1974\",\"1975-1977\",\"1978-1982\",\"1983-1988\",\"1989-2000\",\"2001-2005\",\"2006-2012\",\"2013-2021\",\"apr\\u00e8s 2021\"],\"xaxis\":\"x\",\"y\":[661.4822175732218,613.8150557620818,771.6616438356165,601.1818181818181,546.172,699.5386792452831,791.4764705882352,587.9920676890534,540.9354544215832,577.8],\"yaxis\":\"y\",\"type\":\"bar\"},{\"alignmentgroup\":\"True\",\"hovertemplate\":\"Etiquette_DPE=B<br>P\\u00e9riode_construction=%{x}<br>Co\\u00fbt_total_5_usages=%{y}<extra></extra>\",\"legendgroup\":\"B\",\"marker\":{\"color\":\"#7FFF00\",\"pattern\":{\"shape\":\"\"}},\"name\":\"B\",\"offsetgroup\":\"B\",\"orientation\":\"v\",\"showlegend\":true,\"textposition\":\"auto\",\"x\":[\"avant 1948\",\"1949-1974\",\"1975-1977\",\"1978-1982\",\"1983-1988\",\"1989-2000\",\"2001-2005\",\"2006-2012\",\"2013-2021\",\"apr\\u00e8s 2021\"],\"xaxis\":\"x\",\"y\":[924.4927383093526,953.4682974773397,928.6440273037543,978.8093749999999,721.4132863021752,1003.2589502546025,928.61400549235,849.3215968289921,694.8768235793045,null],\"yaxis\":\"y\",\"type\":\"bar\"},{\"alignmentgroup\":\"True\",\"hovertemplate\":\"Etiquette_DPE=C<br>P\\u00e9riode_construction=%{x}<br>Co\\u00fbt_total_5_usages=%{y}<extra></extra>\",\"legendgroup\":\"C\",\"marker\":{\"color\":\"yellow\",\"pattern\":{\"shape\":\"\"}},\"name\":\"C\",\"offsetgroup\":\"C\",\"orientation\":\"v\",\"showlegend\":true,\"textposition\":\"auto\",\"x\":[\"avant 1948\",\"1949-1974\",\"1975-1977\",\"1978-1982\",\"1983-1988\",\"1989-2000\",\"2001-2005\",\"2006-2012\",\"2013-2021\",\"apr\\u00e8s 2021\"],\"xaxis\":\"x\",\"y\":[1167.363797790994,1266.2000278914095,1257.1776578324943,1358.1996840584943,1272.6204477030426,1184.217789911494,1032.0879899170595,929.436378941406,863.6444399171505,1118.4285714285713],\"yaxis\":\"y\",\"type\":\"bar\"},{\"alignmentgroup\":\"True\",\"hovertemplate\":\"Etiquette_DPE=D<br>P\\u00e9riode_construction=%{x}<br>Co\\u00fbt_total_5_usages=%{y}<extra></extra>\",\"legendgroup\":\"D\",\"marker\":{\"color\":\"#FFD700\",\"pattern\":{\"shape\":\"\"}},\"name\":\"D\",\"offsetgroup\":\"D\",\"orientation\":\"v\",\"showlegend\":true,\"textposition\":\"auto\",\"x\":[\"avant 1948\",\"1949-1974\",\"1975-1977\",\"1978-1982\",\"1983-1988\",\"1989-2000\",\"2001-2005\",\"2006-2012\",\"2013-2021\",\"apr\\u00e8s 2021\"],\"xaxis\":\"x\",\"y\":[1439.8066054707974,1585.6990891061419,1670.826354907396,1572.707857718121,1398.1372039567136,1263.4893504471731,1181.1229650263078,1081.9032915669436,1027.6652371227592,944.3333333333334],\"yaxis\":\"y\",\"type\":\"bar\"},{\"alignmentgroup\":\"True\",\"hovertemplate\":\"Etiquette_DPE=E<br>P\\u00e9riode_construction=%{x}<br>Co\\u00fbt_total_5_usages=%{y}<extra></extra>\",\"legendgroup\":\"E\",\"marker\":{\"color\":\"orange\",\"pattern\":{\"shape\":\"\"}},\"name\":\"E\",\"offsetgroup\":\"E\",\"orientation\":\"v\",\"showlegend\":true,\"textposition\":\"auto\",\"x\":[\"avant 1948\",\"1949-1974\",\"1975-1977\",\"1978-1982\",\"1983-1988\",\"1989-2000\",\"2001-2005\",\"2006-2012\",\"2013-2021\",\"apr\\u00e8s 2021\"],\"xaxis\":\"x\",\"y\":[1686.4608910788022,1850.8572813515918,1800.8657597402596,1775.138002663116,1566.0942313721391,1336.2948240935962,1254.2850634672232,1191.0257625272332,1007.2343465045592,3133.0],\"yaxis\":\"y\",\"type\":\"bar\"},{\"alignmentgroup\":\"True\",\"hovertemplate\":\"Etiquette_DPE=F<br>P\\u00e9riode_construction=%{x}<br>Co\\u00fbt_total_5_usages=%{y}<extra></extra>\",\"legendgroup\":\"F\",\"marker\":{\"color\":\"#FF4500\",\"pattern\":{\"shape\":\"\"}},\"name\":\"F\",\"offsetgroup\":\"F\",\"orientation\":\"v\",\"showlegend\":true,\"textposition\":\"auto\",\"x\":[\"avant 1948\",\"1949-1974\",\"1975-1977\",\"1978-1982\",\"1983-1988\",\"1989-2000\",\"2001-2005\",\"2006-2012\",\"2013-2021\",\"apr\\u00e8s 2021\"],\"xaxis\":\"x\",\"y\":[2071.772360489199,2182.4740129217516,2051.864843405381,1893.075688475706,1583.002731591449,1406.332500643832,1692.939783281734,1220.1356,963.0741573033708,null],\"yaxis\":\"y\",\"type\":\"bar\"},{\"alignmentgroup\":\"True\",\"hovertemplate\":\"Etiquette_DPE=G<br>P\\u00e9riode_construction=%{x}<br>Co\\u00fbt_total_5_usages=%{y}<extra></extra>\",\"legendgroup\":\"G\",\"marker\":{\"color\":\"red\",\"pattern\":{\"shape\":\"\"}},\"name\":\"G\",\"offsetgroup\":\"G\",\"orientation\":\"v\",\"showlegend\":true,\"textposition\":\"auto\",\"x\":[\"avant 1948\",\"1949-1974\",\"1975-1977\",\"1978-1982\",\"1983-1988\",\"1989-2000\",\"2001-2005\",\"2006-2012\",\"2013-2021\",\"apr\\u00e8s 2021\"],\"xaxis\":\"x\",\"y\":[2291.859510705086,3032.4903752192436,2462.664652777778,2403.4283311772315,1777.169081081081,1821.046688741722,2386.41338028169,1527.697142857143,1640.2654545454548,null],\"yaxis\":\"y\",\"type\":\"bar\"}],                        {\"template\":{\"data\":{\"histogram2dcontour\":[{\"type\":\"histogram2dcontour\",\"colorbar\":{\"outlinewidth\":0,\"ticks\":\"\"},\"colorscale\":[[0.0,\"#0d0887\"],[0.1111111111111111,\"#46039f\"],[0.2222222222222222,\"#7201a8\"],[0.3333333333333333,\"#9c179e\"],[0.4444444444444444,\"#bd3786\"],[0.5555555555555556,\"#d8576b\"],[0.6666666666666666,\"#ed7953\"],[0.7777777777777778,\"#fb9f3a\"],[0.8888888888888888,\"#fdca26\"],[1.0,\"#f0f921\"]]}],\"choropleth\":[{\"type\":\"choropleth\",\"colorbar\":{\"outlinewidth\":0,\"ticks\":\"\"}}],\"histogram2d\":[{\"type\":\"histogram2d\",\"colorbar\":{\"outlinewidth\":0,\"ticks\":\"\"},\"colorscale\":[[0.0,\"#0d0887\"],[0.1111111111111111,\"#46039f\"],[0.2222222222222222,\"#7201a8\"],[0.3333333333333333,\"#9c179e\"],[0.4444444444444444,\"#bd3786\"],[0.5555555555555556,\"#d8576b\"],[0.6666666666666666,\"#ed7953\"],[0.7777777777777778,\"#fb9f3a\"],[0.8888888888888888,\"#fdca26\"],[1.0,\"#f0f921\"]]}],\"heatmap\":[{\"type\":\"heatmap\",\"colorbar\":{\"outlinewidth\":0,\"ticks\":\"\"},\"colorscale\":[[0.0,\"#0d0887\"],[0.1111111111111111,\"#46039f\"],[0.2222222222222222,\"#7201a8\"],[0.3333333333333333,\"#9c179e\"],[0.4444444444444444,\"#bd3786\"],[0.5555555555555556,\"#d8576b\"],[0.6666666666666666,\"#ed7953\"],[0.7777777777777778,\"#fb9f3a\"],[0.8888888888888888,\"#fdca26\"],[1.0,\"#f0f921\"]]}],\"heatmapgl\":[{\"type\":\"heatmapgl\",\"colorbar\":{\"outlinewidth\":0,\"ticks\":\"\"},\"colorscale\":[[0.0,\"#0d0887\"],[0.1111111111111111,\"#46039f\"],[0.2222222222222222,\"#7201a8\"],[0.3333333333333333,\"#9c179e\"],[0.4444444444444444,\"#bd3786\"],[0.5555555555555556,\"#d8576b\"],[0.6666666666666666,\"#ed7953\"],[0.7777777777777778,\"#fb9f3a\"],[0.8888888888888888,\"#fdca26\"],[1.0,\"#f0f921\"]]}],\"contourcarpet\":[{\"type\":\"contourcarpet\",\"colorbar\":{\"outlinewidth\":0,\"ticks\":\"\"}}],\"contour\":[{\"type\":\"contour\",\"colorbar\":{\"outlinewidth\":0,\"ticks\":\"\"},\"colorscale\":[[0.0,\"#0d0887\"],[0.1111111111111111,\"#46039f\"],[0.2222222222222222,\"#7201a8\"],[0.3333333333333333,\"#9c179e\"],[0.4444444444444444,\"#bd3786\"],[0.5555555555555556,\"#d8576b\"],[0.6666666666666666,\"#ed7953\"],[0.7777777777777778,\"#fb9f3a\"],[0.8888888888888888,\"#fdca26\"],[1.0,\"#f0f921\"]]}],\"surface\":[{\"type\":\"surface\",\"colorbar\":{\"outlinewidth\":0,\"ticks\":\"\"},\"colorscale\":[[0.0,\"#0d0887\"],[0.1111111111111111,\"#46039f\"],[0.2222222222222222,\"#7201a8\"],[0.3333333333333333,\"#9c179e\"],[0.4444444444444444,\"#bd3786\"],[0.5555555555555556,\"#d8576b\"],[0.6666666666666666,\"#ed7953\"],[0.7777777777777778,\"#fb9f3a\"],[0.8888888888888888,\"#fdca26\"],[1.0,\"#f0f921\"]]}],\"mesh3d\":[{\"type\":\"mesh3d\",\"colorbar\":{\"outlinewidth\":0,\"ticks\":\"\"}}],\"scatter\":[{\"fillpattern\":{\"fillmode\":\"overlay\",\"size\":10,\"solidity\":0.2},\"type\":\"scatter\"}],\"parcoords\":[{\"type\":\"parcoords\",\"line\":{\"colorbar\":{\"outlinewidth\":0,\"ticks\":\"\"}}}],\"scatterpolargl\":[{\"type\":\"scatterpolargl\",\"marker\":{\"colorbar\":{\"outlinewidth\":0,\"ticks\":\"\"}}}],\"bar\":[{\"error_x\":{\"color\":\"#2a3f5f\"},\"error_y\":{\"color\":\"#2a3f5f\"},\"marker\":{\"line\":{\"color\":\"#E5ECF6\",\"width\":0.5},\"pattern\":{\"fillmode\":\"overlay\",\"size\":10,\"solidity\":0.2}},\"type\":\"bar\"}],\"scattergeo\":[{\"type\":\"scattergeo\",\"marker\":{\"colorbar\":{\"outlinewidth\":0,\"ticks\":\"\"}}}],\"scatterpolar\":[{\"type\":\"scatterpolar\",\"marker\":{\"colorbar\":{\"outlinewidth\":0,\"ticks\":\"\"}}}],\"histogram\":[{\"marker\":{\"pattern\":{\"fillmode\":\"overlay\",\"size\":10,\"solidity\":0.2}},\"type\":\"histogram\"}],\"scattergl\":[{\"type\":\"scattergl\",\"marker\":{\"colorbar\":{\"outlinewidth\":0,\"ticks\":\"\"}}}],\"scatter3d\":[{\"type\":\"scatter3d\",\"line\":{\"colorbar\":{\"outlinewidth\":0,\"ticks\":\"\"}},\"marker\":{\"colorbar\":{\"outlinewidth\":0,\"ticks\":\"\"}}}],\"scattermapbox\":[{\"type\":\"scattermapbox\",\"marker\":{\"colorbar\":{\"outlinewidth\":0,\"ticks\":\"\"}}}],\"scatterternary\":[{\"type\":\"scatterternary\",\"marker\":{\"colorbar\":{\"outlinewidth\":0,\"ticks\":\"\"}}}],\"scattercarpet\":[{\"type\":\"scattercarpet\",\"marker\":{\"colorbar\":{\"outlinewidth\":0,\"ticks\":\"\"}}}],\"carpet\":[{\"aaxis\":{\"endlinecolor\":\"#2a3f5f\",\"gridcolor\":\"white\",\"linecolor\":\"white\",\"minorgridcolor\":\"white\",\"startlinecolor\":\"#2a3f5f\"},\"baxis\":{\"endlinecolor\":\"#2a3f5f\",\"gridcolor\":\"white\",\"linecolor\":\"white\",\"minorgridcolor\":\"white\",\"startlinecolor\":\"#2a3f5f\"},\"type\":\"carpet\"}],\"table\":[{\"cells\":{\"fill\":{\"color\":\"#EBF0F8\"},\"line\":{\"color\":\"white\"}},\"header\":{\"fill\":{\"color\":\"#C8D4E3\"},\"line\":{\"color\":\"white\"}},\"type\":\"table\"}],\"barpolar\":[{\"marker\":{\"line\":{\"color\":\"#E5ECF6\",\"width\":0.5},\"pattern\":{\"fillmode\":\"overlay\",\"size\":10,\"solidity\":0.2}},\"type\":\"barpolar\"}],\"pie\":[{\"automargin\":true,\"type\":\"pie\"}]},\"layout\":{\"autotypenumbers\":\"strict\",\"colorway\":[\"#636efa\",\"#EF553B\",\"#00cc96\",\"#ab63fa\",\"#FFA15A\",\"#19d3f3\",\"#FF6692\",\"#B6E880\",\"#FF97FF\",\"#FECB52\"],\"font\":{\"color\":\"#2a3f5f\"},\"hovermode\":\"closest\",\"hoverlabel\":{\"align\":\"left\"},\"paper_bgcolor\":\"white\",\"plot_bgcolor\":\"#E5ECF6\",\"polar\":{\"bgcolor\":\"#E5ECF6\",\"angularaxis\":{\"gridcolor\":\"white\",\"linecolor\":\"white\",\"ticks\":\"\"},\"radialaxis\":{\"gridcolor\":\"white\",\"linecolor\":\"white\",\"ticks\":\"\"}},\"ternary\":{\"bgcolor\":\"#E5ECF6\",\"aaxis\":{\"gridcolor\":\"white\",\"linecolor\":\"white\",\"ticks\":\"\"},\"baxis\":{\"gridcolor\":\"white\",\"linecolor\":\"white\",\"ticks\":\"\"},\"caxis\":{\"gridcolor\":\"white\",\"linecolor\":\"white\",\"ticks\":\"\"}},\"coloraxis\":{\"colorbar\":{\"outlinewidth\":0,\"ticks\":\"\"}},\"colorscale\":{\"sequential\":[[0.0,\"#0d0887\"],[0.1111111111111111,\"#46039f\"],[0.2222222222222222,\"#7201a8\"],[0.3333333333333333,\"#9c179e\"],[0.4444444444444444,\"#bd3786\"],[0.5555555555555556,\"#d8576b\"],[0.6666666666666666,\"#ed7953\"],[0.7777777777777778,\"#fb9f3a\"],[0.8888888888888888,\"#fdca26\"],[1.0,\"#f0f921\"]],\"sequentialminus\":[[0.0,\"#0d0887\"],[0.1111111111111111,\"#46039f\"],[0.2222222222222222,\"#7201a8\"],[0.3333333333333333,\"#9c179e\"],[0.4444444444444444,\"#bd3786\"],[0.5555555555555556,\"#d8576b\"],[0.6666666666666666,\"#ed7953\"],[0.7777777777777778,\"#fb9f3a\"],[0.8888888888888888,\"#fdca26\"],[1.0,\"#f0f921\"]],\"diverging\":[[0,\"#8e0152\"],[0.1,\"#c51b7d\"],[0.2,\"#de77ae\"],[0.3,\"#f1b6da\"],[0.4,\"#fde0ef\"],[0.5,\"#f7f7f7\"],[0.6,\"#e6f5d0\"],[0.7,\"#b8e186\"],[0.8,\"#7fbc41\"],[0.9,\"#4d9221\"],[1,\"#276419\"]]},\"xaxis\":{\"gridcolor\":\"white\",\"linecolor\":\"white\",\"ticks\":\"\",\"title\":{\"standoff\":15},\"zerolinecolor\":\"white\",\"automargin\":true,\"zerolinewidth\":2},\"yaxis\":{\"gridcolor\":\"white\",\"linecolor\":\"white\",\"ticks\":\"\",\"title\":{\"standoff\":15},\"zerolinecolor\":\"white\",\"automargin\":true,\"zerolinewidth\":2},\"scene\":{\"xaxis\":{\"backgroundcolor\":\"#E5ECF6\",\"gridcolor\":\"white\",\"linecolor\":\"white\",\"showbackground\":true,\"ticks\":\"\",\"zerolinecolor\":\"white\",\"gridwidth\":2},\"yaxis\":{\"backgroundcolor\":\"#E5ECF6\",\"gridcolor\":\"white\",\"linecolor\":\"white\",\"showbackground\":true,\"ticks\":\"\",\"zerolinecolor\":\"white\",\"gridwidth\":2},\"zaxis\":{\"backgroundcolor\":\"#E5ECF6\",\"gridcolor\":\"white\",\"linecolor\":\"white\",\"showbackground\":true,\"ticks\":\"\",\"zerolinecolor\":\"white\",\"gridwidth\":2}},\"shapedefaults\":{\"line\":{\"color\":\"#2a3f5f\"}},\"annotationdefaults\":{\"arrowcolor\":\"#2a3f5f\",\"arrowhead\":0,\"arrowwidth\":1},\"geo\":{\"bgcolor\":\"white\",\"landcolor\":\"#E5ECF6\",\"subunitcolor\":\"white\",\"showland\":true,\"showlakes\":true,\"lakecolor\":\"white\"},\"title\":{\"x\":0.05},\"mapbox\":{\"style\":\"light\"}}},\"xaxis\":{\"anchor\":\"y\",\"domain\":[0.0,1.0],\"title\":{\"text\":\"P\\u00e9riode de construction\"}},\"yaxis\":{\"anchor\":\"x\",\"domain\":[0.0,1.0],\"title\":{\"text\":\"Co\\u00fbt total moyen en \\u20ac\"}},\"legend\":{\"title\":{\"text\":\"Classe DPE\"},\"tracegroupgap\":0},\"margin\":{\"t\":60},\"barmode\":\"group\",\"title\":{\"text\":\"Co\\u00fbt total moyen en \\u20ac par p\\u00e9riode de construction selon le DPE\"},\"height\":400},                        {\"responsive\": true}                    ).then(function(){\n",
       "                            \n",
       "var gd = document.getElementById('a218c024-ffc8-40f0-a797-cf9425eff63b');\n",
       "var x = new MutationObserver(function (mutations, observer) {{\n",
       "        var display = window.getComputedStyle(gd).display;\n",
       "        if (!display || display === 'none') {{\n",
       "            console.log([gd, 'removed!']);\n",
       "            Plotly.purge(gd);\n",
       "            observer.disconnect();\n",
       "        }}\n",
       "}});\n",
       "\n",
       "// Listen for the removal of the full notebook cells\n",
       "var notebookContainer = gd.closest('#notebook-container');\n",
       "if (notebookContainer) {{\n",
       "    x.observe(notebookContainer, {childList: true});\n",
       "}}\n",
       "\n",
       "// Listen for the clearing of the current output cell\n",
       "var outputEl = gd.closest('.output');\n",
       "if (outputEl) {{\n",
       "    x.observe(outputEl, {childList: true});\n",
       "}}\n",
       "\n",
       "                        })                };                });            </script>        </div>"
      ]
     },
     "metadata": {},
     "output_type": "display_data"
    }
   ],
   "source": [
    "dpe_colors = {\n",
    "    'A': 'green',\n",
    "    'B': '#7FFF00',\n",
    "    'C': 'yellow',\n",
    "    'D': '#FFD700',\n",
    "    'E': 'orange',\n",
    "    'F': '#FF4500',\n",
    "    'G': 'red'\n",
    "}\n",
    "\n",
    "fig2 = px.bar(mean_cost_df, y='Coût_total_5_usages', x='Période_construction', color='Etiquette_DPE', barmode='group',\n",
    "              color_discrete_map=dpe_colors)\n",
    "\n",
    "fig2.update_layout(\n",
    "    title='Coût total moyen en € par période de construction selon le DPE',\n",
    "    xaxis_title='Période de construction',\n",
    "    yaxis_title='Coût total moyen en €',\n",
    "    legend_title='Classe DPE',\n",
    "    height=400\n",
    ")\n",
    "\n",
    "fig2.show()"
   ]
  },
  {
   "cell_type": "code",
   "execution_count": null,
   "id": "d96848d4-f227-41bb-809f-4f7503157413",
   "metadata": {},
   "outputs": [],
   "source": []
  }
 ],
 "metadata": {
  "kernelspec": {
   "display_name": "Python 3 (ipykernel)",
   "language": "python",
   "name": "python3"
  },
  "language_info": {
   "codemirror_mode": {
    "name": "ipython",
    "version": 3
   },
   "file_extension": ".py",
   "mimetype": "text/x-python",
   "name": "python",
   "nbconvert_exporter": "python",
   "pygments_lexer": "ipython3",
   "version": "3.11.7"
  }
 },
 "nbformat": 4,
 "nbformat_minor": 5
}
