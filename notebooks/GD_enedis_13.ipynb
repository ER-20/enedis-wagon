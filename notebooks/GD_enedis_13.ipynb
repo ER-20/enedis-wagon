{
 "cells": [
  {
   "cell_type": "markdown",
   "metadata": {
    "id": "7pCyXAJDiGKA"
   },
   "source": [
    "# Enedis 13, import, clean, ban formated"
   ]
  },
  {
   "cell_type": "code",
   "execution_count": 345,
   "metadata": {
    "colab": {
     "base_uri": "https://localhost:8080/"
    },
    "id": "OgG68XYYDaqB",
    "outputId": "63421fb8-b646-44e0-bc50-f868f9a490ef"
   },
   "outputs": [
    {
     "data": {
      "text/plain": [
       "{'annee': 'float32',\n",
       " 'code_iris': 'float32',\n",
       " 'nom_iris': 'float32',\n",
       " 'numero_de_voie': 'float32',\n",
       " 'indice_de_repetition': 'float32',\n",
       " 'type_de_voie': 'float32',\n",
       " 'libelle_de_voie': 'float32',\n",
       " 'code_commune': 'float32',\n",
       " 'nom_commune': 'float32',\n",
       " 'segment_de_client': 'float32',\n",
       " 'nombre_de_logements': 'float32',\n",
       " 'consommation_annuelle_totale_de_l_adresse_mwh': 'float32',\n",
       " 'consommation_annuelle_moyenne_par_site_de_l_adresse_mwh': 'float32',\n",
       " 'consommation_annuelle_moyenne_de_la_commune_mwh': 'float32',\n",
       " 'adresse': 'float32',\n",
       " 'tri_des_adresses': 'float32',\n",
       " 'code_epci': 'float32',\n",
       " 'code_departement': 'float32',\n",
       " 'code_region': 'float32'}"
      ]
     },
     "execution_count": 345,
     "metadata": {},
     "output_type": "execute_result"
    }
   ],
   "source": [
    "# import libraries\n",
    "import pandas as pd\n",
    "import numpy as np\n",
    "import os\n",
    "# chemin du dataset deja filtré sur le 13\n",
    "DATA_PATH = ''\n",
    "DATA_CSV = 'enedis_13.csv'\n",
    "# import du csv pour l'exploration\n",
    "df = pd.read_csv(os.path.join(DATA_PATH, DATA_CSV))\n",
    "# Pour générer un dictionnaire de base à modifier\n",
    "{k : 'float32' for k in df.columns}"
   ]
  },
  {
   "cell_type": "code",
   "execution_count": 346,
   "metadata": {
    "id": "nXmS71g1YhVk"
   },
   "outputs": [],
   "source": [
    "# convertir le type des columns\n",
    "d = {\n",
    "    'annee': 'int64', # de 2018 a 2022\n",
    "    #'code_iris': 'str', # inutile?\n",
    "    #'nom_iris': 'str', # inutile?\n",
    "    #'numero_de_voie': 'str', # redondance\n",
    "    #'indice_de_repetition': 'str', # drop indice_de_repetition: 56080 / 57678\n",
    "    #'type_de_voie': 'str', # redondance\n",
    "    #'libelle_de_voie': 'str', # redondance\n",
    "    'code_commune': 'str',\n",
    "    'nom_commune': 'category',\n",
    "    #'segment_de_client': 'category', # inutile ils sont tous RESIDENTIEL\n",
    "    'nombre_de_logements': 'int64',\n",
    "    'consommation_annuelle_totale_de_l_adresse_mwh': 'float64',\n",
    "    'consommation_annuelle_moyenne_par_site_de_l_adresse_mwh': 'float64',\n",
    "    'consommation_annuelle_moyenne_de_la_commune_mwh': 'float64',\n",
    "    'adresse': 'str',\n",
    "    #'tri_des_adresses': 'int64', # inutile?\n",
    "    #'code_epci': 'int64', # inutile?\n",
    "    #'code_departement': 'int64', # redondance\n",
    "    #'code_region': 'int64'  # inutile?\n",
    " }\n",
    "df = pd.read_csv(os.path.join(DATA_PATH, DATA_CSV), usecols=d.keys(), dtype=d)"
   ]
  },
  {
   "cell_type": "code",
   "execution_count": 347,
   "metadata": {
    "colab": {
     "base_uri": "https://localhost:8080/"
    },
    "id": "Vkj_r84L5iDZ",
    "outputId": "5d5697a5-f4f8-4fb4-d36e-d8d5337fe3bc"
   },
   "outputs": [
    {
     "data": {
      "text/plain": [
       "annee                                                      0\n",
       "code_commune                                               0\n",
       "nom_commune                                                0\n",
       "nombre_de_logements                                        0\n",
       "consommation_annuelle_totale_de_l_adresse_mwh              0\n",
       "consommation_annuelle_moyenne_par_site_de_l_adresse_mwh    0\n",
       "consommation_annuelle_moyenne_de_la_commune_mwh            0\n",
       "adresse                                                    0\n",
       "dtype: int64"
      ]
     },
     "execution_count": 347,
     "metadata": {},
     "output_type": "execute_result"
    }
   ],
   "source": [
    "# verification des null\n",
    "df.isna().sum()"
   ]
  },
  {
   "cell_type": "code",
   "execution_count": 348,
   "metadata": {
    "id": "YwkbsGxP6xrA"
   },
   "outputs": [],
   "source": [
    "# to_csv du pres clean\n",
    "df.to_csv('enedis_13_clean.csv', index=False)"
   ]
  },
  {
   "cell_type": "code",
   "execution_count": 349,
   "metadata": {
    "id": "CdDwX4Lv-eNc"
   },
   "outputs": [],
   "source": [
    "# load the clean enedis\n",
    "df_clean = pd.read_csv('enedis_13_clean.csv')"
   ]
  },
  {
   "cell_type": "code",
   "execution_count": 350,
   "metadata": {
    "id": "VcKZ4o05wrVo"
   },
   "outputs": [],
   "source": [
    "# fonction pour l'utilisation de l'api du gouv pour identifier identifiant ban par rapport a l'adresse, nom et code commune\n",
    "import requests\n",
    "from io import BytesIO\n",
    "\n",
    "input_filepath = 'enedis_13_clean.csv'\n",
    "url_csv = 'https://api-adresse.data.gouv.fr/search/csv/'\n",
    "data = {'result_columns': ['result_id', 'result_score'],\n",
    "        'columns': ['adresse', 'nom_commune'],\n",
    "        'citycode': 'code_commune'}\n",
    "\n",
    "def get_ban_id_from_csv(input_filepath,\n",
    "                        output_filepath='enedis_13_clean_ban_formated.csv',\n",
    "                        url=url_csv,\n",
    "                        data=data):\n",
    "\n",
    "    with open(input_filepath, \"rb\") as csv_file:\n",
    "        files = {'data': csv_file}\n",
    "        r = requests.post(url, files=files, data=data)\n",
    "        pd.read_csv(BytesIO(r.content)).to_csv(output_filepath, index=False)"
   ]
  },
  {
   "cell_type": "code",
   "execution_count": 351,
   "metadata": {
    "colab": {
     "base_uri": "https://localhost:8080/"
    },
    "id": "YghELRW3zUVR",
    "outputId": "88d78614-375a-47a4-86b1-993aa16cf4f1"
   },
   "outputs": [
    {
     "name": "stdout",
     "output_type": "stream",
     "text": [
      "CPU times: user 1.78 s, sys: 213 ms, total: 1.99 s\n",
      "Wall time: 3min 4s\n"
     ]
    }
   ],
   "source": [
    "# appel de la fonction\n",
    "%%time\n",
    "get_ban_id_from_csv('enedis_13_clean.csv')"
   ]
  },
  {
   "cell_type": "code",
   "execution_count": 352,
   "metadata": {
    "id": "vHfzJvAi3TAI"
   },
   "outputs": [],
   "source": [
    "df_clean_ban_formated = pd.read_csv('enedis_13_clean_ban_formated.csv')"
   ]
  },
  {
   "cell_type": "code",
   "execution_count": 353,
   "metadata": {
    "id": "n5rhYny8CQUK"
   },
   "outputs": [],
   "source": [
    "# le test du status: resolution impossible\n",
    "# df_final['result_status'].value_counts()#.isna().sum()\n",
    "result_status = \"Correspondance Identifiant BAN:\\nok: 57641\\nnot-found: 34\\nerror: 3\""
   ]
  },
  {
   "cell_type": "code",
   "execution_count": 354,
   "metadata": {
    "id": "qaJDYA6hK8eE"
   },
   "outputs": [],
   "source": [
    "# filtre de la fiabilitée de la correspondance\n",
    "# definis le threshold value de correspondance\n",
    "threshold = 0.75\n",
    "\n",
    "# filtrer le DataFrame base sur le threshold\n",
    "df_clean_ban_formated = df_clean_ban_formated[df_clean_ban_formated['result_score'] >= threshold]\n",
    "#df_final['result_id'].count()"
   ]
  },
  {
   "cell_type": "code",
   "execution_count": 355,
   "metadata": {
    "colab": {
     "base_uri": "https://localhost:8080/"
    },
    "id": "AXndCUIKigl6",
    "outputId": "961abe2d-51d1-4d5f-bca1-7f10502c682c"
   },
   "outputs": [
    {
     "name": "stdout",
     "output_type": "stream",
     "text": [
      "Nombre de ligne du dataset original sur le dep13:\n",
      "57678\n",
      "\n",
      "Correspondance Identifiant BAN:\n",
      "ok: 57641\n",
      "not-found: 34\n",
      "error: 3\n",
      "\n",
      "Concordance avec 0.75 de score:\n",
      "55304\n",
      "\n",
      "Nombre d'adresse unique:\n",
      "12477\n",
      "\n",
      "Adresses perdues:\n",
      "2374 / 57678\n"
     ]
    }
   ],
   "source": [
    "# Compte rendu\n",
    "print(\"Nombre de ligne du dataset original sur le dep13:\\n57678\\n\")\n",
    "print(result_status)\n",
    "print(f\"\\nConcordance avec {threshold} de score:\\n{df_clean_ban_formated['result_id'].count()}\")\n",
    "print(f\"\\nNombre d'adresse unique:\\n{df_clean_ban_formated['result_id'].nunique()}\")\n",
    "print(f\"\\nAdresses perdues:\\n{57678 - df_clean_ban_formated['result_id'].count()} / 57678\")"
   ]
  },
  {
   "cell_type": "code",
   "execution_count": 356,
   "metadata": {
    "id": "eDIrp9fZnN1Q"
   },
   "outputs": [],
   "source": [
    "# nettoyage final\n",
    "# drop column code_commune, nom_commune, adresse et result_score (plus utile, servaient pour recuperer l'identifiant BAN et result score)\n",
    "co = ['code_commune', 'nom_commune', 'adresse', 'result_score']\n",
    "df_clean_ban_formated.drop(columns=co, inplace=True)"
   ]
  },
  {
   "cell_type": "code",
   "execution_count": 357,
   "metadata": {
    "id": "ZfQJu4Kqo9iC"
   },
   "outputs": [],
   "source": [
    "# renommage des columns\n",
    "df_clean_ban_formated.rename(columns={'result_id': 'Identifiant__BAN'}, inplace=True)"
   ]
  },
  {
   "cell_type": "code",
   "execution_count": 359,
   "metadata": {
    "id": "c3m3il9LqD8r"
   },
   "outputs": [],
   "source": [
    "# export enedis 13 final\n",
    "df_clean_ban_formated.to_csv('enedis_13_final.csv', index=False)"
   ]
  },
  {
   "cell_type": "code",
   "execution_count": 360,
   "metadata": {
    "colab": {
     "base_uri": "https://localhost:8080/",
     "height": 443
    },
    "id": "Ib3m4aDqqLDt",
    "outputId": "9a0287a1-1461-4746-ca97-de34f52c199d"
   },
   "outputs": [
    {
     "data": {
      "application/vnd.google.colaboratory.intrinsic+json": {
       "summary": "{\n  \"name\": \"df_clean_ban_formated\",\n  \"rows\": 55304,\n  \"fields\": [\n    {\n      \"column\": \"annee\",\n      \"properties\": {\n        \"dtype\": \"number\",\n        \"std\": 1,\n        \"min\": 2018,\n        \"max\": 2022,\n        \"num_unique_values\": 5,\n        \"samples\": [\n          2020,\n          2018,\n          2021\n        ],\n        \"semantic_type\": \"\",\n        \"description\": \"\"\n      }\n    },\n    {\n      \"column\": \"nombre_de_logements\",\n      \"properties\": {\n        \"dtype\": \"number\",\n        \"std\": 44,\n        \"min\": 10,\n        \"max\": 1435,\n        \"num_unique_values\": 461,\n        \"samples\": [\n          293,\n          106,\n          33\n        ],\n        \"semantic_type\": \"\",\n        \"description\": \"\"\n      }\n    },\n    {\n      \"column\": \"consommation_annuelle_totale_de_l_adresse_mwh\",\n      \"properties\": {\n        \"dtype\": \"number\",\n        \"std\": 133.12156713516444,\n        \"min\": 0.224,\n        \"max\": 3990.484,\n        \"num_unique_values\": 44615,\n        \"samples\": [\n          494.633,\n          62.704,\n          37.455\n        ],\n        \"semantic_type\": \"\",\n        \"description\": \"\"\n      }\n    },\n    {\n      \"column\": \"consommation_annuelle_moyenne_par_site_de_l_adresse_mwh\",\n      \"properties\": {\n        \"dtype\": \"number\",\n        \"std\": 1.9430597475423759,\n        \"min\": 0.015,\n        \"max\": 28.463,\n        \"num_unique_values\": 8330,\n        \"samples\": [\n          7.978,\n          10.246,\n          3.737\n        ],\n        \"semantic_type\": \"\",\n        \"description\": \"\"\n      }\n    },\n    {\n      \"column\": \"consommation_annuelle_moyenne_de_la_commune_mwh\",\n      \"properties\": {\n        \"dtype\": \"number\",\n        \"std\": 0.863309819867159,\n        \"min\": 3.471,\n        \"max\": 11.877,\n        \"num_unique_values\": 460,\n        \"samples\": [\n          8.219,\n          6.692,\n          4.887\n        ],\n        \"semantic_type\": \"\",\n        \"description\": \"\"\n      }\n    },\n    {\n      \"column\": \"Identifiant__BAN\",\n      \"properties\": {\n        \"dtype\": \"category\",\n        \"num_unique_values\": 12477,\n        \"samples\": [\n          \"13203_6745_00004\",\n          \"13204_6813_00031\",\n          \"13001_2670_00046\"\n        ],\n        \"semantic_type\": \"\",\n        \"description\": \"\"\n      }\n    }\n  ]\n}",
       "type": "dataframe",
       "variable_name": "df_clean_ban_formated"
      },
      "text/html": [
       "\n",
       "  <div id=\"df-3f696761-caa9-4c62-a76d-8361916ca343\" class=\"colab-df-container\">\n",
       "    <div>\n",
       "<style scoped>\n",
       "    .dataframe tbody tr th:only-of-type {\n",
       "        vertical-align: middle;\n",
       "    }\n",
       "\n",
       "    .dataframe tbody tr th {\n",
       "        vertical-align: top;\n",
       "    }\n",
       "\n",
       "    .dataframe thead th {\n",
       "        text-align: right;\n",
       "    }\n",
       "</style>\n",
       "<table border=\"1\" class=\"dataframe\">\n",
       "  <thead>\n",
       "    <tr style=\"text-align: right;\">\n",
       "      <th></th>\n",
       "      <th>annee</th>\n",
       "      <th>nombre_de_logements</th>\n",
       "      <th>consommation_annuelle_totale_de_l_adresse_mwh</th>\n",
       "      <th>consommation_annuelle_moyenne_par_site_de_l_adresse_mwh</th>\n",
       "      <th>consommation_annuelle_moyenne_de_la_commune_mwh</th>\n",
       "      <th>Identifiant__BAN</th>\n",
       "    </tr>\n",
       "  </thead>\n",
       "  <tbody>\n",
       "    <tr>\n",
       "      <th>0</th>\n",
       "      <td>2019</td>\n",
       "      <td>16</td>\n",
       "      <td>29.121</td>\n",
       "      <td>1.820</td>\n",
       "      <td>7.149</td>\n",
       "      <td>13085_0241_00004</td>\n",
       "    </tr>\n",
       "    <tr>\n",
       "      <th>1</th>\n",
       "      <td>2019</td>\n",
       "      <td>10</td>\n",
       "      <td>69.518</td>\n",
       "      <td>6.952</td>\n",
       "      <td>7.217</td>\n",
       "      <td>13086_0914_00352</td>\n",
       "    </tr>\n",
       "    <tr>\n",
       "      <th>2</th>\n",
       "      <td>2019</td>\n",
       "      <td>19</td>\n",
       "      <td>143.778</td>\n",
       "      <td>7.567</td>\n",
       "      <td>7.217</td>\n",
       "      <td>13086_0911_00320</td>\n",
       "    </tr>\n",
       "    <tr>\n",
       "      <th>3</th>\n",
       "      <td>2019</td>\n",
       "      <td>22</td>\n",
       "      <td>167.261</td>\n",
       "      <td>7.603</td>\n",
       "      <td>7.322</td>\n",
       "      <td>13076_0025_00594</td>\n",
       "    </tr>\n",
       "    <tr>\n",
       "      <th>4</th>\n",
       "      <td>2019</td>\n",
       "      <td>13</td>\n",
       "      <td>51.682</td>\n",
       "      <td>3.976</td>\n",
       "      <td>5.243</td>\n",
       "      <td>13075_3710_00005</td>\n",
       "    </tr>\n",
       "    <tr>\n",
       "      <th>...</th>\n",
       "      <td>...</td>\n",
       "      <td>...</td>\n",
       "      <td>...</td>\n",
       "      <td>...</td>\n",
       "      <td>...</td>\n",
       "      <td>...</td>\n",
       "    </tr>\n",
       "    <tr>\n",
       "      <th>57673</th>\n",
       "      <td>2021</td>\n",
       "      <td>43</td>\n",
       "      <td>27.335</td>\n",
       "      <td>0.636</td>\n",
       "      <td>4.361</td>\n",
       "      <td>13001_3080_00002</td>\n",
       "    </tr>\n",
       "    <tr>\n",
       "      <th>57674</th>\n",
       "      <td>2021</td>\n",
       "      <td>10</td>\n",
       "      <td>15.843</td>\n",
       "      <td>1.584</td>\n",
       "      <td>4.361</td>\n",
       "      <td>13001_3117</td>\n",
       "    </tr>\n",
       "    <tr>\n",
       "      <th>57675</th>\n",
       "      <td>2021</td>\n",
       "      <td>42</td>\n",
       "      <td>225.278</td>\n",
       "      <td>5.364</td>\n",
       "      <td>7.077</td>\n",
       "      <td>13002_1770_00009</td>\n",
       "    </tr>\n",
       "    <tr>\n",
       "      <th>57676</th>\n",
       "      <td>2021</td>\n",
       "      <td>47</td>\n",
       "      <td>93.977</td>\n",
       "      <td>2.000</td>\n",
       "      <td>7.077</td>\n",
       "      <td>13002_1340_00314</td>\n",
       "    </tr>\n",
       "    <tr>\n",
       "      <th>57677</th>\n",
       "      <td>2021</td>\n",
       "      <td>12</td>\n",
       "      <td>119.153</td>\n",
       "      <td>9.929</td>\n",
       "      <td>7.077</td>\n",
       "      <td>13002_1750_00945</td>\n",
       "    </tr>\n",
       "  </tbody>\n",
       "</table>\n",
       "<p>55304 rows × 6 columns</p>\n",
       "</div>\n",
       "    <div class=\"colab-df-buttons\">\n",
       "\n",
       "  <div class=\"colab-df-container\">\n",
       "    <button class=\"colab-df-convert\" onclick=\"convertToInteractive('df-3f696761-caa9-4c62-a76d-8361916ca343')\"\n",
       "            title=\"Convert this dataframe to an interactive table.\"\n",
       "            style=\"display:none;\">\n",
       "\n",
       "  <svg xmlns=\"http://www.w3.org/2000/svg\" height=\"24px\" viewBox=\"0 -960 960 960\">\n",
       "    <path d=\"M120-120v-720h720v720H120Zm60-500h600v-160H180v160Zm220 220h160v-160H400v160Zm0 220h160v-160H400v160ZM180-400h160v-160H180v160Zm440 0h160v-160H620v160ZM180-180h160v-160H180v160Zm440 0h160v-160H620v160Z\"/>\n",
       "  </svg>\n",
       "    </button>\n",
       "\n",
       "  <style>\n",
       "    .colab-df-container {\n",
       "      display:flex;\n",
       "      gap: 12px;\n",
       "    }\n",
       "\n",
       "    .colab-df-convert {\n",
       "      background-color: #E8F0FE;\n",
       "      border: none;\n",
       "      border-radius: 50%;\n",
       "      cursor: pointer;\n",
       "      display: none;\n",
       "      fill: #1967D2;\n",
       "      height: 32px;\n",
       "      padding: 0 0 0 0;\n",
       "      width: 32px;\n",
       "    }\n",
       "\n",
       "    .colab-df-convert:hover {\n",
       "      background-color: #E2EBFA;\n",
       "      box-shadow: 0px 1px 2px rgba(60, 64, 67, 0.3), 0px 1px 3px 1px rgba(60, 64, 67, 0.15);\n",
       "      fill: #174EA6;\n",
       "    }\n",
       "\n",
       "    .colab-df-buttons div {\n",
       "      margin-bottom: 4px;\n",
       "    }\n",
       "\n",
       "    [theme=dark] .colab-df-convert {\n",
       "      background-color: #3B4455;\n",
       "      fill: #D2E3FC;\n",
       "    }\n",
       "\n",
       "    [theme=dark] .colab-df-convert:hover {\n",
       "      background-color: #434B5C;\n",
       "      box-shadow: 0px 1px 3px 1px rgba(0, 0, 0, 0.15);\n",
       "      filter: drop-shadow(0px 1px 2px rgba(0, 0, 0, 0.3));\n",
       "      fill: #FFFFFF;\n",
       "    }\n",
       "  </style>\n",
       "\n",
       "    <script>\n",
       "      const buttonEl =\n",
       "        document.querySelector('#df-3f696761-caa9-4c62-a76d-8361916ca343 button.colab-df-convert');\n",
       "      buttonEl.style.display =\n",
       "        google.colab.kernel.accessAllowed ? 'block' : 'none';\n",
       "\n",
       "      async function convertToInteractive(key) {\n",
       "        const element = document.querySelector('#df-3f696761-caa9-4c62-a76d-8361916ca343');\n",
       "        const dataTable =\n",
       "          await google.colab.kernel.invokeFunction('convertToInteractive',\n",
       "                                                    [key], {});\n",
       "        if (!dataTable) return;\n",
       "\n",
       "        const docLinkHtml = 'Like what you see? Visit the ' +\n",
       "          '<a target=\"_blank\" href=https://colab.research.google.com/notebooks/data_table.ipynb>data table notebook</a>'\n",
       "          + ' to learn more about interactive tables.';\n",
       "        element.innerHTML = '';\n",
       "        dataTable['output_type'] = 'display_data';\n",
       "        await google.colab.output.renderOutput(dataTable, element);\n",
       "        const docLink = document.createElement('div');\n",
       "        docLink.innerHTML = docLinkHtml;\n",
       "        element.appendChild(docLink);\n",
       "      }\n",
       "    </script>\n",
       "  </div>\n",
       "\n",
       "\n",
       "<div id=\"df-917bd389-2c93-4719-8dd0-060676b65990\">\n",
       "  <button class=\"colab-df-quickchart\" onclick=\"quickchart('df-917bd389-2c93-4719-8dd0-060676b65990')\"\n",
       "            title=\"Suggest charts\"\n",
       "            style=\"display:none;\">\n",
       "\n",
       "<svg xmlns=\"http://www.w3.org/2000/svg\" height=\"24px\"viewBox=\"0 0 24 24\"\n",
       "     width=\"24px\">\n",
       "    <g>\n",
       "        <path d=\"M19 3H5c-1.1 0-2 .9-2 2v14c0 1.1.9 2 2 2h14c1.1 0 2-.9 2-2V5c0-1.1-.9-2-2-2zM9 17H7v-7h2v7zm4 0h-2V7h2v10zm4 0h-2v-4h2v4z\"/>\n",
       "    </g>\n",
       "</svg>\n",
       "  </button>\n",
       "\n",
       "<style>\n",
       "  .colab-df-quickchart {\n",
       "      --bg-color: #E8F0FE;\n",
       "      --fill-color: #1967D2;\n",
       "      --hover-bg-color: #E2EBFA;\n",
       "      --hover-fill-color: #174EA6;\n",
       "      --disabled-fill-color: #AAA;\n",
       "      --disabled-bg-color: #DDD;\n",
       "  }\n",
       "\n",
       "  [theme=dark] .colab-df-quickchart {\n",
       "      --bg-color: #3B4455;\n",
       "      --fill-color: #D2E3FC;\n",
       "      --hover-bg-color: #434B5C;\n",
       "      --hover-fill-color: #FFFFFF;\n",
       "      --disabled-bg-color: #3B4455;\n",
       "      --disabled-fill-color: #666;\n",
       "  }\n",
       "\n",
       "  .colab-df-quickchart {\n",
       "    background-color: var(--bg-color);\n",
       "    border: none;\n",
       "    border-radius: 50%;\n",
       "    cursor: pointer;\n",
       "    display: none;\n",
       "    fill: var(--fill-color);\n",
       "    height: 32px;\n",
       "    padding: 0;\n",
       "    width: 32px;\n",
       "  }\n",
       "\n",
       "  .colab-df-quickchart:hover {\n",
       "    background-color: var(--hover-bg-color);\n",
       "    box-shadow: 0 1px 2px rgba(60, 64, 67, 0.3), 0 1px 3px 1px rgba(60, 64, 67, 0.15);\n",
       "    fill: var(--button-hover-fill-color);\n",
       "  }\n",
       "\n",
       "  .colab-df-quickchart-complete:disabled,\n",
       "  .colab-df-quickchart-complete:disabled:hover {\n",
       "    background-color: var(--disabled-bg-color);\n",
       "    fill: var(--disabled-fill-color);\n",
       "    box-shadow: none;\n",
       "  }\n",
       "\n",
       "  .colab-df-spinner {\n",
       "    border: 2px solid var(--fill-color);\n",
       "    border-color: transparent;\n",
       "    border-bottom-color: var(--fill-color);\n",
       "    animation:\n",
       "      spin 1s steps(1) infinite;\n",
       "  }\n",
       "\n",
       "  @keyframes spin {\n",
       "    0% {\n",
       "      border-color: transparent;\n",
       "      border-bottom-color: var(--fill-color);\n",
       "      border-left-color: var(--fill-color);\n",
       "    }\n",
       "    20% {\n",
       "      border-color: transparent;\n",
       "      border-left-color: var(--fill-color);\n",
       "      border-top-color: var(--fill-color);\n",
       "    }\n",
       "    30% {\n",
       "      border-color: transparent;\n",
       "      border-left-color: var(--fill-color);\n",
       "      border-top-color: var(--fill-color);\n",
       "      border-right-color: var(--fill-color);\n",
       "    }\n",
       "    40% {\n",
       "      border-color: transparent;\n",
       "      border-right-color: var(--fill-color);\n",
       "      border-top-color: var(--fill-color);\n",
       "    }\n",
       "    60% {\n",
       "      border-color: transparent;\n",
       "      border-right-color: var(--fill-color);\n",
       "    }\n",
       "    80% {\n",
       "      border-color: transparent;\n",
       "      border-right-color: var(--fill-color);\n",
       "      border-bottom-color: var(--fill-color);\n",
       "    }\n",
       "    90% {\n",
       "      border-color: transparent;\n",
       "      border-bottom-color: var(--fill-color);\n",
       "    }\n",
       "  }\n",
       "</style>\n",
       "\n",
       "  <script>\n",
       "    async function quickchart(key) {\n",
       "      const quickchartButtonEl =\n",
       "        document.querySelector('#' + key + ' button');\n",
       "      quickchartButtonEl.disabled = true;  // To prevent multiple clicks.\n",
       "      quickchartButtonEl.classList.add('colab-df-spinner');\n",
       "      try {\n",
       "        const charts = await google.colab.kernel.invokeFunction(\n",
       "            'suggestCharts', [key], {});\n",
       "      } catch (error) {\n",
       "        console.error('Error during call to suggestCharts:', error);\n",
       "      }\n",
       "      quickchartButtonEl.classList.remove('colab-df-spinner');\n",
       "      quickchartButtonEl.classList.add('colab-df-quickchart-complete');\n",
       "    }\n",
       "    (() => {\n",
       "      let quickchartButtonEl =\n",
       "        document.querySelector('#df-917bd389-2c93-4719-8dd0-060676b65990 button');\n",
       "      quickchartButtonEl.style.display =\n",
       "        google.colab.kernel.accessAllowed ? 'block' : 'none';\n",
       "    })();\n",
       "  </script>\n",
       "</div>\n",
       "\n",
       "  <div id=\"id_1d339aa2-1975-47d2-b22a-e6522f05e466\">\n",
       "    <style>\n",
       "      .colab-df-generate {\n",
       "        background-color: #E8F0FE;\n",
       "        border: none;\n",
       "        border-radius: 50%;\n",
       "        cursor: pointer;\n",
       "        display: none;\n",
       "        fill: #1967D2;\n",
       "        height: 32px;\n",
       "        padding: 0 0 0 0;\n",
       "        width: 32px;\n",
       "      }\n",
       "\n",
       "      .colab-df-generate:hover {\n",
       "        background-color: #E2EBFA;\n",
       "        box-shadow: 0px 1px 2px rgba(60, 64, 67, 0.3), 0px 1px 3px 1px rgba(60, 64, 67, 0.15);\n",
       "        fill: #174EA6;\n",
       "      }\n",
       "\n",
       "      [theme=dark] .colab-df-generate {\n",
       "        background-color: #3B4455;\n",
       "        fill: #D2E3FC;\n",
       "      }\n",
       "\n",
       "      [theme=dark] .colab-df-generate:hover {\n",
       "        background-color: #434B5C;\n",
       "        box-shadow: 0px 1px 3px 1px rgba(0, 0, 0, 0.15);\n",
       "        filter: drop-shadow(0px 1px 2px rgba(0, 0, 0, 0.3));\n",
       "        fill: #FFFFFF;\n",
       "      }\n",
       "    </style>\n",
       "    <button class=\"colab-df-generate\" onclick=\"generateWithVariable('df_clean_ban_formated')\"\n",
       "            title=\"Generate code using this dataframe.\"\n",
       "            style=\"display:none;\">\n",
       "\n",
       "  <svg xmlns=\"http://www.w3.org/2000/svg\" height=\"24px\"viewBox=\"0 0 24 24\"\n",
       "       width=\"24px\">\n",
       "    <path d=\"M7,19H8.4L18.45,9,17,7.55,7,17.6ZM5,21V16.75L18.45,3.32a2,2,0,0,1,2.83,0l1.4,1.43a1.91,1.91,0,0,1,.58,1.4,1.91,1.91,0,0,1-.58,1.4L9.25,21ZM18.45,9,17,7.55Zm-12,3A5.31,5.31,0,0,0,4.9,8.1,5.31,5.31,0,0,0,1,6.5,5.31,5.31,0,0,0,4.9,4.9,5.31,5.31,0,0,0,6.5,1,5.31,5.31,0,0,0,8.1,4.9,5.31,5.31,0,0,0,12,6.5,5.46,5.46,0,0,0,6.5,12Z\"/>\n",
       "  </svg>\n",
       "    </button>\n",
       "    <script>\n",
       "      (() => {\n",
       "      const buttonEl =\n",
       "        document.querySelector('#id_1d339aa2-1975-47d2-b22a-e6522f05e466 button.colab-df-generate');\n",
       "      buttonEl.style.display =\n",
       "        google.colab.kernel.accessAllowed ? 'block' : 'none';\n",
       "\n",
       "      buttonEl.onclick = () => {\n",
       "        google.colab.notebook.generateWithVariable('df_clean_ban_formated');\n",
       "      }\n",
       "      })();\n",
       "    </script>\n",
       "  </div>\n",
       "\n",
       "    </div>\n",
       "  </div>\n"
      ],
      "text/plain": [
       "       annee  nombre_de_logements  \\\n",
       "0       2019                   16   \n",
       "1       2019                   10   \n",
       "2       2019                   19   \n",
       "3       2019                   22   \n",
       "4       2019                   13   \n",
       "...      ...                  ...   \n",
       "57673   2021                   43   \n",
       "57674   2021                   10   \n",
       "57675   2021                   42   \n",
       "57676   2021                   47   \n",
       "57677   2021                   12   \n",
       "\n",
       "       consommation_annuelle_totale_de_l_adresse_mwh  \\\n",
       "0                                             29.121   \n",
       "1                                             69.518   \n",
       "2                                            143.778   \n",
       "3                                            167.261   \n",
       "4                                             51.682   \n",
       "...                                              ...   \n",
       "57673                                         27.335   \n",
       "57674                                         15.843   \n",
       "57675                                        225.278   \n",
       "57676                                         93.977   \n",
       "57677                                        119.153   \n",
       "\n",
       "       consommation_annuelle_moyenne_par_site_de_l_adresse_mwh  \\\n",
       "0                                                  1.820         \n",
       "1                                                  6.952         \n",
       "2                                                  7.567         \n",
       "3                                                  7.603         \n",
       "4                                                  3.976         \n",
       "...                                                  ...         \n",
       "57673                                              0.636         \n",
       "57674                                              1.584         \n",
       "57675                                              5.364         \n",
       "57676                                              2.000         \n",
       "57677                                              9.929         \n",
       "\n",
       "       consommation_annuelle_moyenne_de_la_commune_mwh  Identifiant__BAN  \n",
       "0                                                7.149  13085_0241_00004  \n",
       "1                                                7.217  13086_0914_00352  \n",
       "2                                                7.217  13086_0911_00320  \n",
       "3                                                7.322  13076_0025_00594  \n",
       "4                                                5.243  13075_3710_00005  \n",
       "...                                                ...               ...  \n",
       "57673                                            4.361  13001_3080_00002  \n",
       "57674                                            4.361        13001_3117  \n",
       "57675                                            7.077  13002_1770_00009  \n",
       "57676                                            7.077  13002_1340_00314  \n",
       "57677                                            7.077  13002_1750_00945  \n",
       "\n",
       "[55304 rows x 6 columns]"
      ]
     },
     "execution_count": 360,
     "metadata": {},
     "output_type": "execute_result"
    }
   ],
   "source": [
    "df_clean_ban_formated"
   ]
  },
  {
   "cell_type": "markdown",
   "metadata": {
    "id": "JTynwwNbiVXW"
   },
   "source": [
    "# Resource code (au cas ou)"
   ]
  },
  {
   "cell_type": "code",
   "execution_count": 336,
   "metadata": {
    "id": "xKRg67dzHRS0"
   },
   "outputs": [],
   "source": [
    "# nombre d'adesse unique\n",
    "#df_final['result_id'].nunique()"
   ]
  },
  {
   "cell_type": "code",
   "execution_count": 283,
   "metadata": {
    "colab": {
     "base_uri": "https://localhost:8080/",
     "height": 72
    },
    "id": "4m8OZgOGBKEi",
    "outputId": "2cc0a51f-f234-4f45-fd43-8c2e47725f1b"
   },
   "outputs": [
    {
     "data": {
      "application/vnd.google.colaboratory.intrinsic+json": {
       "type": "string"
      },
      "text/plain": [
       "\"\\ndf_final[[ 'result_label', 'result_score',\\n       'result_score_next', 'result_type', 'result_id', 'result_housenumber',\\n       'result_name', 'result_street', 'result_postcode', 'result_city',\\n       'result_context', 'result_citycode', 'result_oldcitycode',\\n       'result_oldcity', 'result_district', 'result_status']].head(3)\\n\""
      ]
     },
     "execution_count": 283,
     "metadata": {},
     "output_type": "execute_result"
    }
   ],
   "source": [
    "# selection result au cas ou on doit recuperer de nouvelles columns dans la fonction\n",
    "'''\n",
    "df_final[[ 'result_label', 'result_score',\n",
    "       'result_score_next', 'result_type', 'result_id', 'result_housenumber',\n",
    "       'result_name', 'result_street', 'result_postcode', 'result_city',\n",
    "       'result_context', 'result_citycode', 'result_oldcitycode',\n",
    "       'result_oldcity', 'result_district', 'result_status']].head(3)\n",
    "'''"
   ]
  }
 ],
 "metadata": {
  "colab": {
   "collapsed_sections": [
    "JTynwwNbiVXW"
   ],
   "provenance": []
  },
  "kernelspec": {
   "display_name": "Python 3 (ipykernel)",
   "language": "python",
   "name": "python3"
  },
  "language_info": {
   "codemirror_mode": {
    "name": "ipython",
    "version": 3
   },
   "file_extension": ".py",
   "mimetype": "text/x-python",
   "name": "python",
   "nbconvert_exporter": "python",
   "pygments_lexer": "ipython3",
   "version": "3.11.7"
  }
 },
 "nbformat": 4,
 "nbformat_minor": 4
}
