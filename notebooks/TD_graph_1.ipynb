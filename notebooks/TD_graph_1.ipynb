{
 "cells": [
  {
   "cell_type": "code",
   "execution_count": 5,
   "id": "8c4c7391-a0e6-457b-a4f5-816ec527a5ec",
   "metadata": {},
   "outputs": [],
   "source": [
    "import pandas as pd\n",
    "import numpy as np\n",
    "import plotly.express as px\n",
    "import os"
   ]
  },
  {
   "cell_type": "code",
   "execution_count": 27,
   "id": "ccd8dbba-4d01-4163-bd00-12380b766aa7",
   "metadata": {},
   "outputs": [],
   "source": [
    "d = [\n",
    "    \"Date_réception_DPE\",\n",
    "    \"Modèle_DPE\",\n",
    "    \"N°_DPE_remplacé\",\n",
    "    \"N°_DPE_immeuble_associé\",\n",
    "    \"Méthode_application_DPE\",\n",
    "    \"Etiquette_GES\",\n",
    "    \"Etiquette_DPE\",\n",
    "    \"Année_construction\",\n",
    "    \"Type_bâtiment\",\n",
    "    \"Type_installation_chauffage\",\n",
    "    \"Type_installation_ECS_(général)\",\n",
    "    \"Hauteur_sous-plafond\",\n",
    "    \"Nombre_appartement\",\n",
    "    \"Nombre_niveau_immeuble\",\n",
    "    \"Nombre_niveau_logement\",\n",
    "    \"Surface_habitable_immeuble\",\n",
    "    \"Surface_habitable_logement\",\n",
    "    \"Surface_tertiaire_immeuble\",\n",
    "    \"Classe_inertie_bâtiment\",\n",
    "    \"Position_logement_dans_immeuble\",\n",
    "    \"Zone_climatique_\",\n",
    "    \"Adresse_brute\",\n",
    "    \"Nom__commune_(BAN)\",\n",
    "    \"Code_INSEE_(BAN)\",\n",
    "    \"N°_voie_(BAN)\",\n",
    "    \"Identifiant__BAN\",\n",
    "    \"Adresse_(BAN)\",\n",
    "    \"Code_postal_(BAN)\",\n",
    "    \"Score_BAN\",\n",
    "    \"Nom__rue_(BAN)\",\n",
    "    \"Coordonnée_cartographique_X_(BAN)\",\n",
    "    \"Coordonnée_cartographique_Y_(BAN)\",\n",
    "    \"Code_postal_(brut)\",\n",
    "    \"N°_étage_appartement\",\n",
    "    \"Nom_résidence\",\n",
    "    \"Complément_d'adresse_bâtiment\",\n",
    "    \"Cage_d'escalier\",\n",
    "    \"Complément_d'adresse_logement\",\n",
    "    \"Statut_géocodage\",\n",
    "    \"N°_département_(BAN)\",\n",
    "    \"N°_région_(BAN)\",\n",
    "    \"Conso_5_usages_é_finale\",\n",
    "    \"Conso_5_usages/m²_é_finale\",\n",
    "    \"Conso_chauffage_é_finale\",\n",
    "    \"Conso_chauffage_dépensier_é_finale\",\n",
    "    \"Conso_éclairage_é_finale\",\n",
    "    \"Conso_ECS_é_finale\",\n",
    "    \"Conso_ECS_dépensier_é_finale\",\n",
    "    \"Conso_refroidissement_é_finale\",\n",
    "    \"Conso_refroidissement_dépensier_é_finale\",\n",
    "    \"Conso_auxiliaires_é_finale\",\n",
    "    \"Conso_5_usages_é_primaire\",\n",
    "    \"Conso_5_usages_par_m²_é_primaire\",\n",
    "    \"Conso_chauffage_é_primaire\",\n",
    "    \"Conso_chauffage_dépensier_é_primaire\",\n",
    "    \"Conso_éclairage_é_primaire\",\n",
    "    \"Conso_ECS_é_primaire\",\n",
    "    \"Conso_ECS_dépensier_é_primaire\",\n",
    "    \"Conso_refroidissement_é_primaire\",\n",
    "    \"Conso_refroidissement_dépensier_é_primaire\",\n",
    "    \"Conso_auxiliaires_é_primaire\",\n",
    "    \"Emission_GES_5_usages\",\n",
    "    \"Emission_GES_5_usages_par_m²\",\n",
    "    \"Emission_GES_chauffage\",\n",
    "    \"Emission_GES_chauffage_dépensier\",\n",
    "    \"Emission_GES_éclairage\",\n",
    "    \"Emission_GES_ECS\",\n",
    "    \"Emission_GES_ECS_dépensier\",\n",
    "    \"Emission_GES_refroidissement\",\n",
    "    \"Emission_GES_refroidissement_dépensier\",\n",
    "    \"Emission_GES_auxiliaires\",\n",
    "    \"Conso_chauffage_é_finale_énergie_n°1\",\n",
    "    \"Conso_ECS_é_finale_énergie_n°1\",\n",
    "    \"Coût_total_5_usages_énergie_n°1\",\n",
    "    \"Coût_chauffage_énergie_n°1\",\n",
    "    \"Coût_ECS_énergie_n°1\",\n",
    "    \"Emission_GES_5_usages_énergie_n°1\",\n",
    "    \"Emission_GES_chauffage_énergie_n°1\",\n",
    "    \"Emission_GES_ECS_énergie_n°1\",\n",
    "    \"Type_énergie_n°1\",\n",
    "    \"Conso_5_usages_é_finale_énergie_n°2\",\n",
    "    \"Conso_chauffage_é_finale_énergie_n°2\",\n",
    "    \"Conso_ECS_é_finale_énergie_n°2\",\n",
    "    \"Coût_total_5_usages_énergie_n°2\",\n",
    "    \"Coût_chauffage_énergie_n°2\",\n",
    "    \"Coût_ECS_énergie_n°2\",\n",
    "    \"Emission_GES_5_usages_énergie_n°2\",\n",
    "    \"Emission_GES_chauffage_énergie_n°2\",\n",
    "    \"Emission_GES_ECS_énergie_n°2\",\n",
    "    \"Type_énergie_n°2\",\n",
    "    \"Conso_5_usages_é_finale_énergie_n°3\",\n",
    "    \"Conso_chauffage_é_finale_énergie_n°3\",\n",
    "    \"Conso_ECS_é_finale_énergie_n°3\",\n",
    "    \"Coût_total_5_usages_énergie_n°3\",\n",
    "    \"Coût_chauffage_énergie_n°3\",\n",
    "    \"Coût_ECS_énergie_n°3\",\n",
    "    \"Emission_GES_5_usages_énergie_n°3\",\n",
    "    \"Emission_GES_chauffage_énergie_n°3\",\n",
    "    \"Emission_GES_ECS_énergie_n°3\",\n",
    "    \"Type_énergie_n°3\",\n",
    "    \"Coût_total_5_usages\",\n",
    "    \"Coût_chauffage\",\n",
    "    \"Coût_chauffage_dépensier\",\n",
    "    \"Coût_éclairage\",\n",
    "    \"Coût_ECS\",\n",
    "    \"Coût_ECS_dépensier\",\n",
    "    \"Coût_refroidissement\",\n",
    "    \"Coût_refroidissement_dépensier\",\n",
    "    \"Coût_auxiliaires\",\n",
    "    \"Deperditions_baies_vitrées\",\n",
    "    \"Deperditions_enveloppe\",\n",
    "    \"Déperditions_murs\",\n",
    "    \"Deperditions_planchers_bas\",\n",
    "    \"Deperditions_planchers_hauts\",\n",
    "    \"Déperditions_ponts_thermiques\",\n",
    "    \"Déperditions_portes\",\n",
    "    \"Déperditions_renouvellement_air\",\n",
    "    \"Ubat_W/m²_K\",\n",
    "    \"Besoin_refroidissement_dépensier\",\n",
    "    \"Type_énergie_principale_chauffage\",\n",
    "    \"Type_énergie_principale_ECS\",\n",
    "    \"Conso_é_finale_dépensier_installation_ECS\",\n",
    "    \"Besoin_ECS_bâtiment\",\n",
    "    \"Besoin_ECS_logement\",\n",
    "    \"Type_ventilation\",\n",
    "    \"Surface_ventilée\",\n",
    "    \"Conso_refroidissement_annuel\",\n",
    "    \"Surface_climatisée\",\n",
    "    \"Production_électricité_PV_(kWhep/an)\"\n",
    "]"
   ]
  },
  {
   "cell_type": "code",
   "execution_count": 29,
   "id": "035c1615-4949-4eb2-9b57-f71a9a3d4efb",
   "metadata": {},
   "outputs": [
    {
     "name": "stdout",
     "output_type": "stream",
     "text": [
      "  Date_réception_DPE                     Modèle_DPE N°_DPE_remplacé  \\\n",
      "0         2022-01-03  DPE 3CL 2021 méthode logement             NaN   \n",
      "1         2023-03-31  DPE 3CL 2021 méthode logement             NaN   \n",
      "2         2022-01-03  DPE 3CL 2021 méthode logement             NaN   \n",
      "3         2022-01-03  DPE 3CL 2021 méthode logement             NaN   \n",
      "4         2022-01-03  DPE 3CL 2021 méthode logement             NaN   \n",
      "\n",
      "  N°_DPE_immeuble_associé     Méthode_application_DPE Etiquette_GES  \\\n",
      "0                     NaN  dpe appartement individuel             D   \n",
      "1                     NaN  dpe appartement individuel             D   \n",
      "2                     NaN  dpe appartement individuel             D   \n",
      "3                     NaN  dpe appartement individuel             D   \n",
      "4                     NaN  dpe appartement individuel             C   \n",
      "\n",
      "  Etiquette_DPE  Année_construction Type_bâtiment  \\\n",
      "0             D              1948.0   appartement   \n",
      "1             D              1950.0   appartement   \n",
      "2             D              1948.0   appartement   \n",
      "3             D              1948.0   appartement   \n",
      "4             C              1948.0   appartement   \n",
      "\n",
      "    Type_installation_chauffage  ... Type_énergie_principale_chauffage  \\\n",
      "0                    individuel  ...                       Électricité   \n",
      "1  mixte (collectif-individuel)  ...                       Gaz naturel   \n",
      "2                     collectif  ...                       Électricité   \n",
      "3                    individuel  ...                       Électricité   \n",
      "4                    individuel  ...                       Électricité   \n",
      "\n",
      "   Type_énergie_principale_ECS  Conso_é_finale_dépensier_installation_ECS  \\\n",
      "0                  Gaz naturel                                        1.0   \n",
      "1                  Gaz naturel                                     2257.1   \n",
      "2                  Gaz naturel                                        1.0   \n",
      "3                  Gaz naturel                                        1.0   \n",
      "4                  Gaz naturel                                        1.0   \n",
      "\n",
      "   Besoin_ECS_bâtiment  Besoin_ECS_logement  \\\n",
      "0                  NaN                  NaN   \n",
      "1                  NaN                  NaN   \n",
      "2                  NaN                  NaN   \n",
      "3                  NaN                  NaN   \n",
      "4                  NaN                  NaN   \n",
      "\n",
      "                                    Type_ventilation  Surface_ventilée  \\\n",
      "0                                                NaN               NaN   \n",
      "1  Ventilation naturelle par conduit avec entrées...              87.0   \n",
      "2                                                NaN               NaN   \n",
      "3                                                NaN               NaN   \n",
      "4                                                NaN               NaN   \n",
      "\n",
      "   Conso_refroidissement_annuel Surface_climatisée  \\\n",
      "0                           NaN                NaN   \n",
      "1                           NaN                NaN   \n",
      "2                           NaN                NaN   \n",
      "3                           NaN                NaN   \n",
      "4                           NaN                NaN   \n",
      "\n",
      "  Production_électricité_PV_(kWhep/an)  \n",
      "0                                  0.0  \n",
      "1                                  0.0  \n",
      "2                                  0.0  \n",
      "3                                  0.0  \n",
      "4                                  0.0  \n",
      "\n",
      "[5 rows x 129 columns]\n",
      "Date_réception_DPE: object\n",
      "Modèle_DPE: object\n",
      "N°_DPE_remplacé: object\n",
      "N°_DPE_immeuble_associé: object\n",
      "Méthode_application_DPE: object\n",
      "Etiquette_GES: object\n",
      "Etiquette_DPE: object\n",
      "Année_construction: float64\n",
      "Type_bâtiment: object\n",
      "Type_installation_chauffage: object\n",
      "Type_installation_ECS_(général): object\n",
      "Hauteur_sous-plafond: float64\n",
      "Nombre_appartement: float64\n",
      "Nombre_niveau_immeuble: float64\n",
      "Nombre_niveau_logement: float64\n",
      "Surface_habitable_immeuble: float64\n",
      "Surface_habitable_logement: float64\n",
      "Surface_tertiaire_immeuble: float64\n",
      "Classe_inertie_bâtiment: object\n",
      "Position_logement_dans_immeuble: object\n",
      "Zone_climatique_: object\n",
      "Adresse_brute: object\n",
      "Nom__commune_(BAN): object\n",
      "Code_INSEE_(BAN): int64\n",
      "N°_voie_(BAN): object\n",
      "Identifiant__BAN: object\n",
      "Adresse_(BAN): object\n",
      "Code_postal_(BAN): int64\n",
      "Score_BAN: float64\n",
      "Nom__rue_(BAN): object\n",
      "Coordonnée_cartographique_X_(BAN): float64\n",
      "Coordonnée_cartographique_Y_(BAN): float64\n",
      "Code_postal_(brut): int64\n",
      "N°_étage_appartement: float64\n",
      "Nom_résidence: object\n",
      "Complément_d'adresse_bâtiment: object\n",
      "Cage_d'escalier: object\n",
      "Complément_d'adresse_logement: object\n",
      "Statut_géocodage: object\n",
      "N°_département_(BAN): int64\n",
      "N°_région_(BAN): int64\n",
      "Conso_5_usages_é_finale: float64\n",
      "Conso_5_usages/m²_é_finale: float64\n",
      "Conso_chauffage_é_finale: float64\n",
      "Conso_chauffage_dépensier_é_finale: float64\n",
      "Conso_éclairage_é_finale: float64\n",
      "Conso_ECS_é_finale: float64\n",
      "Conso_ECS_dépensier_é_finale: float64\n",
      "Conso_refroidissement_é_finale: float64\n",
      "Conso_refroidissement_dépensier_é_finale: float64\n",
      "Conso_auxiliaires_é_finale: float64\n",
      "Conso_5_usages_é_primaire: float64\n",
      "Conso_5_usages_par_m²_é_primaire: float64\n",
      "Conso_chauffage_é_primaire: float64\n",
      "Conso_chauffage_dépensier_é_primaire: float64\n",
      "Conso_éclairage_é_primaire: float64\n",
      "Conso_ECS_é_primaire: float64\n",
      "Conso_ECS_dépensier_é_primaire: float64\n",
      "Conso_refroidissement_é_primaire: float64\n",
      "Conso_refroidissement_dépensier_é_primaire: float64\n",
      "Conso_auxiliaires_é_primaire: float64\n",
      "Emission_GES_5_usages: float64\n",
      "Emission_GES_5_usages_par_m²: float64\n",
      "Emission_GES_chauffage: float64\n",
      "Emission_GES_chauffage_dépensier: float64\n",
      "Emission_GES_éclairage: float64\n",
      "Emission_GES_ECS: float64\n",
      "Emission_GES_ECS_dépensier: float64\n",
      "Emission_GES_refroidissement: float64\n",
      "Emission_GES_refroidissement_dépensier: float64\n",
      "Emission_GES_auxiliaires: float64\n",
      "Conso_chauffage_é_finale_énergie_n°1: float64\n",
      "Conso_ECS_é_finale_énergie_n°1: float64\n",
      "Coût_total_5_usages_énergie_n°1: float64\n",
      "Coût_chauffage_énergie_n°1: float64\n",
      "Coût_ECS_énergie_n°1: float64\n",
      "Emission_GES_5_usages_énergie_n°1: float64\n",
      "Emission_GES_chauffage_énergie_n°1: float64\n",
      "Emission_GES_ECS_énergie_n°1: float64\n",
      "Type_énergie_n°1: object\n",
      "Conso_5_usages_é_finale_énergie_n°2: float64\n",
      "Conso_chauffage_é_finale_énergie_n°2: float64\n",
      "Conso_ECS_é_finale_énergie_n°2: float64\n",
      "Coût_total_5_usages_énergie_n°2: float64\n",
      "Coût_chauffage_énergie_n°2: float64\n",
      "Coût_ECS_énergie_n°2: float64\n",
      "Emission_GES_5_usages_énergie_n°2: float64\n",
      "Emission_GES_chauffage_énergie_n°2: float64\n",
      "Emission_GES_ECS_énergie_n°2: float64\n",
      "Type_énergie_n°2: object\n",
      "Conso_5_usages_é_finale_énergie_n°3: float64\n",
      "Conso_chauffage_é_finale_énergie_n°3: float64\n",
      "Conso_ECS_é_finale_énergie_n°3: float64\n",
      "Coût_total_5_usages_énergie_n°3: float64\n",
      "Coût_chauffage_énergie_n°3: float64\n",
      "Coût_ECS_énergie_n°3: float64\n",
      "Emission_GES_5_usages_énergie_n°3: float64\n",
      "Emission_GES_chauffage_énergie_n°3: float64\n",
      "Emission_GES_ECS_énergie_n°3: float64\n",
      "Type_énergie_n°3: object\n",
      "Coût_total_5_usages: float64\n",
      "Coût_chauffage: float64\n",
      "Coût_chauffage_dépensier: float64\n",
      "Coût_éclairage: float64\n",
      "Coût_ECS: float64\n",
      "Coût_ECS_dépensier: float64\n",
      "Coût_refroidissement: float64\n",
      "Coût_refroidissement_dépensier: float64\n",
      "Coût_auxiliaires: float64\n",
      "Deperditions_baies_vitrées: float64\n",
      "Deperditions_enveloppe: float64\n",
      "Déperditions_murs: float64\n",
      "Deperditions_planchers_bas: float64\n",
      "Deperditions_planchers_hauts: float64\n",
      "Déperditions_ponts_thermiques: float64\n",
      "Déperditions_portes: float64\n",
      "Déperditions_renouvellement_air: float64\n",
      "Ubat_W/m²_K: float64\n",
      "Besoin_refroidissement_dépensier: float64\n",
      "Type_énergie_principale_chauffage: object\n",
      "Type_énergie_principale_ECS: object\n",
      "Conso_é_finale_dépensier_installation_ECS: float64\n",
      "Besoin_ECS_bâtiment: float64\n",
      "Besoin_ECS_logement: float64\n",
      "Type_ventilation: object\n",
      "Surface_ventilée: float64\n",
      "Conso_refroidissement_annuel: float64\n",
      "Surface_climatisée: float64\n",
      "Production_électricité_PV_(kWhep/an): float64\n"
     ]
    }
   ],
   "source": [
    "DATA_PATH = '../data/'\n",
    "DATA_CSV = 'logements_existants_v2_DPE.csv'\n",
    "\n",
    "df = pd.read_csv(os.path.join(DATA_PATH, DATA_CSV), low_memory=False, usecols=d)\n",
    "df_filtered = df[d]\n",
    "print(df.head())\n",
    "# Types de chaque colonne dans le DataFrame filtré\n",
    "for col_name, col_type in df_filtered.dtypes.items():\n",
    "    print(f'{col_name}: {col_type}')"
   ]
  },
  {
   "cell_type": "code",
   "execution_count": 31,
   "id": "c9e82104-a0da-4610-8a08-6461d2c4ec86",
   "metadata": {},
   "outputs": [
    {
     "data": {
      "text/html": [
       "<div>\n",
       "<style scoped>\n",
       "    .dataframe tbody tr th:only-of-type {\n",
       "        vertical-align: middle;\n",
       "    }\n",
       "\n",
       "    .dataframe tbody tr th {\n",
       "        vertical-align: top;\n",
       "    }\n",
       "\n",
       "    .dataframe thead th {\n",
       "        text-align: right;\n",
       "    }\n",
       "</style>\n",
       "<table border=\"1\" class=\"dataframe\">\n",
       "  <thead>\n",
       "    <tr style=\"text-align: right;\">\n",
       "      <th></th>\n",
       "      <th>Date_réception_DPE</th>\n",
       "      <th>Modèle_DPE</th>\n",
       "      <th>N°_DPE_remplacé</th>\n",
       "      <th>N°_DPE_immeuble_associé</th>\n",
       "      <th>Méthode_application_DPE</th>\n",
       "      <th>Etiquette_GES</th>\n",
       "      <th>Etiquette_DPE</th>\n",
       "      <th>Année_construction</th>\n",
       "      <th>Type_bâtiment</th>\n",
       "      <th>Type_installation_chauffage</th>\n",
       "      <th>...</th>\n",
       "      <th>Type_énergie_principale_chauffage</th>\n",
       "      <th>Type_énergie_principale_ECS</th>\n",
       "      <th>Conso_é_finale_dépensier_installation_ECS</th>\n",
       "      <th>Besoin_ECS_bâtiment</th>\n",
       "      <th>Besoin_ECS_logement</th>\n",
       "      <th>Type_ventilation</th>\n",
       "      <th>Surface_ventilée</th>\n",
       "      <th>Conso_refroidissement_annuel</th>\n",
       "      <th>Surface_climatisée</th>\n",
       "      <th>Production_électricité_PV_(kWhep/an)</th>\n",
       "    </tr>\n",
       "  </thead>\n",
       "  <tbody>\n",
       "    <tr>\n",
       "      <th>0</th>\n",
       "      <td>2022-01-03</td>\n",
       "      <td>DPE 3CL 2021 méthode logement</td>\n",
       "      <td>NaN</td>\n",
       "      <td>NaN</td>\n",
       "      <td>dpe appartement individuel</td>\n",
       "      <td>D</td>\n",
       "      <td>D</td>\n",
       "      <td>1948.0</td>\n",
       "      <td>appartement</td>\n",
       "      <td>individuel</td>\n",
       "      <td>...</td>\n",
       "      <td>Électricité</td>\n",
       "      <td>Gaz naturel</td>\n",
       "      <td>1.0</td>\n",
       "      <td>NaN</td>\n",
       "      <td>NaN</td>\n",
       "      <td>NaN</td>\n",
       "      <td>NaN</td>\n",
       "      <td>NaN</td>\n",
       "      <td>NaN</td>\n",
       "      <td>0.0</td>\n",
       "    </tr>\n",
       "    <tr>\n",
       "      <th>1</th>\n",
       "      <td>2023-03-31</td>\n",
       "      <td>DPE 3CL 2021 méthode logement</td>\n",
       "      <td>NaN</td>\n",
       "      <td>NaN</td>\n",
       "      <td>dpe appartement individuel</td>\n",
       "      <td>D</td>\n",
       "      <td>D</td>\n",
       "      <td>1950.0</td>\n",
       "      <td>appartement</td>\n",
       "      <td>mixte (collectif-individuel)</td>\n",
       "      <td>...</td>\n",
       "      <td>Gaz naturel</td>\n",
       "      <td>Gaz naturel</td>\n",
       "      <td>2257.1</td>\n",
       "      <td>NaN</td>\n",
       "      <td>NaN</td>\n",
       "      <td>Ventilation naturelle par conduit avec entrées...</td>\n",
       "      <td>87.0</td>\n",
       "      <td>NaN</td>\n",
       "      <td>NaN</td>\n",
       "      <td>0.0</td>\n",
       "    </tr>\n",
       "    <tr>\n",
       "      <th>2</th>\n",
       "      <td>2022-01-03</td>\n",
       "      <td>DPE 3CL 2021 méthode logement</td>\n",
       "      <td>NaN</td>\n",
       "      <td>NaN</td>\n",
       "      <td>dpe appartement individuel</td>\n",
       "      <td>D</td>\n",
       "      <td>D</td>\n",
       "      <td>1948.0</td>\n",
       "      <td>appartement</td>\n",
       "      <td>collectif</td>\n",
       "      <td>...</td>\n",
       "      <td>Électricité</td>\n",
       "      <td>Gaz naturel</td>\n",
       "      <td>1.0</td>\n",
       "      <td>NaN</td>\n",
       "      <td>NaN</td>\n",
       "      <td>NaN</td>\n",
       "      <td>NaN</td>\n",
       "      <td>NaN</td>\n",
       "      <td>NaN</td>\n",
       "      <td>0.0</td>\n",
       "    </tr>\n",
       "    <tr>\n",
       "      <th>3</th>\n",
       "      <td>2022-01-03</td>\n",
       "      <td>DPE 3CL 2021 méthode logement</td>\n",
       "      <td>NaN</td>\n",
       "      <td>NaN</td>\n",
       "      <td>dpe appartement individuel</td>\n",
       "      <td>D</td>\n",
       "      <td>D</td>\n",
       "      <td>1948.0</td>\n",
       "      <td>appartement</td>\n",
       "      <td>individuel</td>\n",
       "      <td>...</td>\n",
       "      <td>Électricité</td>\n",
       "      <td>Gaz naturel</td>\n",
       "      <td>1.0</td>\n",
       "      <td>NaN</td>\n",
       "      <td>NaN</td>\n",
       "      <td>NaN</td>\n",
       "      <td>NaN</td>\n",
       "      <td>NaN</td>\n",
       "      <td>NaN</td>\n",
       "      <td>0.0</td>\n",
       "    </tr>\n",
       "    <tr>\n",
       "      <th>4</th>\n",
       "      <td>2022-01-03</td>\n",
       "      <td>DPE 3CL 2021 méthode logement</td>\n",
       "      <td>NaN</td>\n",
       "      <td>NaN</td>\n",
       "      <td>dpe appartement individuel</td>\n",
       "      <td>C</td>\n",
       "      <td>C</td>\n",
       "      <td>1948.0</td>\n",
       "      <td>appartement</td>\n",
       "      <td>individuel</td>\n",
       "      <td>...</td>\n",
       "      <td>Électricité</td>\n",
       "      <td>Gaz naturel</td>\n",
       "      <td>1.0</td>\n",
       "      <td>NaN</td>\n",
       "      <td>NaN</td>\n",
       "      <td>NaN</td>\n",
       "      <td>NaN</td>\n",
       "      <td>NaN</td>\n",
       "      <td>NaN</td>\n",
       "      <td>0.0</td>\n",
       "    </tr>\n",
       "  </tbody>\n",
       "</table>\n",
       "<p>5 rows × 129 columns</p>\n",
       "</div>"
      ],
      "text/plain": [
       "  Date_réception_DPE                     Modèle_DPE N°_DPE_remplacé  \\\n",
       "0         2022-01-03  DPE 3CL 2021 méthode logement             NaN   \n",
       "1         2023-03-31  DPE 3CL 2021 méthode logement             NaN   \n",
       "2         2022-01-03  DPE 3CL 2021 méthode logement             NaN   \n",
       "3         2022-01-03  DPE 3CL 2021 méthode logement             NaN   \n",
       "4         2022-01-03  DPE 3CL 2021 méthode logement             NaN   \n",
       "\n",
       "  N°_DPE_immeuble_associé     Méthode_application_DPE Etiquette_GES  \\\n",
       "0                     NaN  dpe appartement individuel             D   \n",
       "1                     NaN  dpe appartement individuel             D   \n",
       "2                     NaN  dpe appartement individuel             D   \n",
       "3                     NaN  dpe appartement individuel             D   \n",
       "4                     NaN  dpe appartement individuel             C   \n",
       "\n",
       "  Etiquette_DPE  Année_construction Type_bâtiment  \\\n",
       "0             D              1948.0   appartement   \n",
       "1             D              1950.0   appartement   \n",
       "2             D              1948.0   appartement   \n",
       "3             D              1948.0   appartement   \n",
       "4             C              1948.0   appartement   \n",
       "\n",
       "    Type_installation_chauffage  ... Type_énergie_principale_chauffage  \\\n",
       "0                    individuel  ...                       Électricité   \n",
       "1  mixte (collectif-individuel)  ...                       Gaz naturel   \n",
       "2                     collectif  ...                       Électricité   \n",
       "3                    individuel  ...                       Électricité   \n",
       "4                    individuel  ...                       Électricité   \n",
       "\n",
       "   Type_énergie_principale_ECS  Conso_é_finale_dépensier_installation_ECS  \\\n",
       "0                  Gaz naturel                                        1.0   \n",
       "1                  Gaz naturel                                     2257.1   \n",
       "2                  Gaz naturel                                        1.0   \n",
       "3                  Gaz naturel                                        1.0   \n",
       "4                  Gaz naturel                                        1.0   \n",
       "\n",
       "   Besoin_ECS_bâtiment  Besoin_ECS_logement  \\\n",
       "0                  NaN                  NaN   \n",
       "1                  NaN                  NaN   \n",
       "2                  NaN                  NaN   \n",
       "3                  NaN                  NaN   \n",
       "4                  NaN                  NaN   \n",
       "\n",
       "                                    Type_ventilation  Surface_ventilée  \\\n",
       "0                                                NaN               NaN   \n",
       "1  Ventilation naturelle par conduit avec entrées...              87.0   \n",
       "2                                                NaN               NaN   \n",
       "3                                                NaN               NaN   \n",
       "4                                                NaN               NaN   \n",
       "\n",
       "   Conso_refroidissement_annuel Surface_climatisée  \\\n",
       "0                           NaN                NaN   \n",
       "1                           NaN                NaN   \n",
       "2                           NaN                NaN   \n",
       "3                           NaN                NaN   \n",
       "4                           NaN                NaN   \n",
       "\n",
       "  Production_électricité_PV_(kWhep/an)  \n",
       "0                                  0.0  \n",
       "1                                  0.0  \n",
       "2                                  0.0  \n",
       "3                                  0.0  \n",
       "4                                  0.0  \n",
       "\n",
       "[5 rows x 129 columns]"
      ]
     },
     "execution_count": 31,
     "metadata": {},
     "output_type": "execute_result"
    }
   ],
   "source": [
    "df.head()"
   ]
  },
  {
   "cell_type": "code",
   "execution_count": 33,
   "id": "9a157d58-eab3-4eaa-985c-50e591e08be9",
   "metadata": {},
   "outputs": [
    {
     "data": {
      "text/plain": [
       "Type_installation_chauffage\n",
       "individuel    131079\n",
       "Name: count, dtype: int64"
      ]
     },
     "execution_count": 33,
     "metadata": {},
     "output_type": "execute_result"
    }
   ],
   "source": [
    "df_individuel = df[df['Type_installation_chauffage'] == 'individuel']\n",
    "df_individuel['Type_installation_chauffage'].value_counts()"
   ]
  },
  {
   "cell_type": "code",
   "execution_count": 37,
   "id": "2e636312-778b-4f09-ad35-488cf48f4f0b",
   "metadata": {},
   "outputs": [
    {
     "data": {
      "text/plain": [
       "Series([], Name: count, dtype: int64)"
      ]
     },
     "execution_count": 37,
     "metadata": {},
     "output_type": "execute_result"
    }
   ],
   "source": [
    "df_filter = df_individuel[df_individuel['N°_DPE_remplacé'].isna()]\n",
    "df_filter['N°_DPE_remplacé'].value_counts()"
   ]
  },
  {
   "cell_type": "code",
   "execution_count": 40,
   "id": "e25f83d8-3984-4cb1-8ccf-24fe2647f11f",
   "metadata": {},
   "outputs": [
    {
     "name": "stdout",
     "output_type": "stream",
     "text": [
      "       Date_réception_DPE                     Modèle_DPE N°_DPE_remplacé  \\\n",
      "0              2022-01-03  DPE 3CL 2021 méthode logement             NaN   \n",
      "1              2023-03-31  DPE 3CL 2021 méthode logement             NaN   \n",
      "2              2022-01-03  DPE 3CL 2021 méthode logement             NaN   \n",
      "3              2022-01-03  DPE 3CL 2021 méthode logement             NaN   \n",
      "4              2022-01-03  DPE 3CL 2021 méthode logement             NaN   \n",
      "...                   ...                            ...             ...   \n",
      "245862         2022-09-06  DPE 3CL 2021 méthode logement             NaN   \n",
      "245863         2022-06-29  DPE 3CL 2021 méthode logement             NaN   \n",
      "245864         2022-12-01  DPE 3CL 2021 méthode logement             NaN   \n",
      "245865         2022-11-10  DPE 3CL 2021 méthode logement             NaN   \n",
      "245866         2022-07-11  DPE 3CL 2021 méthode logement             NaN   \n",
      "\n",
      "       N°_DPE_immeuble_associé  \\\n",
      "0                          NaN   \n",
      "1                          NaN   \n",
      "2                          NaN   \n",
      "3                          NaN   \n",
      "4                          NaN   \n",
      "...                        ...   \n",
      "245862           2213E2013182Q   \n",
      "245863                     NaN   \n",
      "245864           2213E2861507N   \n",
      "245865           2213E2665182O   \n",
      "245866                     NaN   \n",
      "\n",
      "                                  Méthode_application_DPE Etiquette_GES  \\\n",
      "0                              dpe appartement individuel             D   \n",
      "1                              dpe appartement individuel             D   \n",
      "2                              dpe appartement individuel             D   \n",
      "3                              dpe appartement individuel             D   \n",
      "4                              dpe appartement individuel             C   \n",
      "...                                                   ...           ...   \n",
      "245862  dpe appartement généré à partir des données DP...             A   \n",
      "245863                         dpe appartement individuel             A   \n",
      "245864  dpe appartement généré à partir des données DP...             A   \n",
      "245865  dpe appartement généré à partir des données DP...             C   \n",
      "245866                         dpe appartement individuel             A   \n",
      "\n",
      "       Etiquette_DPE  Année_construction Type_bâtiment  \\\n",
      "0                  D              1948.0   appartement   \n",
      "1                  D              1950.0   appartement   \n",
      "2                  D              1948.0   appartement   \n",
      "3                  D              1948.0   appartement   \n",
      "4                  C              1948.0   appartement   \n",
      "...              ...                 ...           ...   \n",
      "245862             C              1983.0   appartement   \n",
      "245863             B              1985.0   appartement   \n",
      "245864             C              1989.0   appartement   \n",
      "245865             C              1948.0   appartement   \n",
      "245866             C              1992.0   appartement   \n",
      "\n",
      "         Type_installation_chauffage  ... Type_énergie_principale_ECS  \\\n",
      "0                         individuel  ...                 Gaz naturel   \n",
      "1       mixte (collectif-individuel)  ...                 Gaz naturel   \n",
      "2                          collectif  ...                 Gaz naturel   \n",
      "3                         individuel  ...                 Gaz naturel   \n",
      "4                         individuel  ...                 Gaz naturel   \n",
      "...                              ...  ...                         ...   \n",
      "245862  mixte (collectif-individuel)  ...                 Électricité   \n",
      "245863  mixte (collectif-individuel)  ...                 Électricité   \n",
      "245864  mixte (collectif-individuel)  ...                 Électricité   \n",
      "245865  mixte (collectif-individuel)  ...                 Gaz naturel   \n",
      "245866  mixte (collectif-individuel)  ...                 Électricité   \n",
      "\n",
      "        Conso_é_finale_dépensier_installation_ECS  Besoin_ECS_bâtiment  \\\n",
      "0                                             1.0                  NaN   \n",
      "1                                          2257.1                  NaN   \n",
      "2                                             1.0                  NaN   \n",
      "3                                             1.0                  NaN   \n",
      "4                                             1.0                  NaN   \n",
      "...                                           ...                  ...   \n",
      "245862                                     1316.8                  NaN   \n",
      "245863                                      861.3                  NaN   \n",
      "245864                                     2469.3                  NaN   \n",
      "245865                                     1811.4                  NaN   \n",
      "245866                                     2531.8                  NaN   \n",
      "\n",
      "        Besoin_ECS_logement  \\\n",
      "0                       NaN   \n",
      "1                       NaN   \n",
      "2                       NaN   \n",
      "3                       NaN   \n",
      "4                       NaN   \n",
      "...                     ...   \n",
      "245862                  NaN   \n",
      "245863                  NaN   \n",
      "245864                  NaN   \n",
      "245865                  NaN   \n",
      "245866                  NaN   \n",
      "\n",
      "                                         Type_ventilation  Surface_ventilée  \\\n",
      "0                                                     NaN               NaN   \n",
      "1       Ventilation naturelle par conduit avec entrées...              87.0   \n",
      "2                                                     NaN               NaN   \n",
      "3                                                     NaN               NaN   \n",
      "4                                                     NaN               NaN   \n",
      "...                                                   ...               ...   \n",
      "245862                VMC SF Auto réglable de 1982 à 2000              49.0   \n",
      "245863                          VMC SF Hygro A après 2012              36.5   \n",
      "245864                VMC SF Auto réglable de 1982 à 2000              85.0   \n",
      "245865                          VMC SF Hygro A après 2012              59.0   \n",
      "245866                VMC SF Auto réglable de 1982 à 2000              74.0   \n",
      "\n",
      "        Conso_refroidissement_annuel  Surface_climatisée  \\\n",
      "0                                NaN                 NaN   \n",
      "1                                NaN                 NaN   \n",
      "2                                NaN                 NaN   \n",
      "3                                NaN                 NaN   \n",
      "4                                NaN                 NaN   \n",
      "...                              ...                 ...   \n",
      "245862                           NaN                 NaN   \n",
      "245863                           NaN                 NaN   \n",
      "245864                           NaN                 NaN   \n",
      "245865                           NaN                 NaN   \n",
      "245866                           NaN                 NaN   \n",
      "\n",
      "       Production_électricité_PV_(kWhep/an) coût_moyen_par_m2_en_euros  \n",
      "0                                       0.0                  18.274000  \n",
      "1                                       0.0                   3.609195  \n",
      "2                                       0.0                  14.709632  \n",
      "3                                       0.0                  12.791538  \n",
      "4                                       0.0                  12.304189  \n",
      "...                                     ...                        ...  \n",
      "245862                                  0.0                  14.267347  \n",
      "245863                                  0.0                   6.904110  \n",
      "245864                                  0.0                   9.465882  \n",
      "245865                                  0.0                   4.076271  \n",
      "245866                                  0.0                  10.337838  \n",
      "\n",
      "[245867 rows x 130 columns]\n"
     ]
    }
   ],
   "source": [
    "# conditions et les valeurs correspondantes\n",
    "conditions = [\n",
    "    df['Type_énergie_n°1'] == 'Électricité',\n",
    "    df['Type_énergie_n°2'] == 'Électricité',\n",
    "    df['Type_énergie_n°3'] == 'Électricité',\n",
    "]\n",
    "\n",
    "values = [\n",
    "    df['Coût_total_5_usages_énergie_n°1'],\n",
    "    df['Coût_total_5_usages_énergie_n°2'],\n",
    "    df['Coût_total_5_usages_énergie_n°3'],\n",
    "]\n",
    "\n",
    "# Ajouter la colonne\n",
    "df['coût_moyen_par_m2_en_euros'] = np.select(conditions, values, default=0) / df['Surface_habitable_logement']\n",
    "\n",
    "print(df)"
   ]
  },
  {
   "cell_type": "code",
   "execution_count": 57,
   "id": "33e94078-b566-4f76-abf1-d0c12f530be3",
   "metadata": {},
   "outputs": [
    {
     "name": "stdout",
     "output_type": "stream",
     "text": [
      "   Etiquette_DPE Type_bâtiment  coût_moyen_par_m2_en_euros\n",
      "0              A   appartement                    5.380792\n",
      "2              A        maison                    4.457638\n",
      "3              B   appartement                    6.450198\n",
      "5              B        maison                    6.677535\n",
      "6              C   appartement                    7.052829\n",
      "8              C        maison                    8.426963\n",
      "9              D   appartement                   10.341732\n",
      "11             D        maison                   11.007678\n",
      "12             E   appartement                   16.314926\n",
      "14             E        maison                   13.241651\n",
      "15             F   appartement                   22.101221\n",
      "17             F        maison                   16.799387\n",
      "18             G   appartement                   33.120750\n",
      "20             G        maison                   28.158436\n"
     ]
    }
   ],
   "source": [
    "df_grouped_DPE = df.groupby(['Etiquette_DPE', 'Type_bâtiment'])['coût_moyen_par_m2_en_euros'].mean().reset_index()\n",
    "df_filter_without_im = df_grouped_DPE[df_grouped_DPE['Type_bâtiment'].isin(['appartement', 'maison'])]\n",
    "\n",
    "print(df_filter_without_im)"
   ]
  },
  {
   "cell_type": "code",
   "execution_count": 59,
   "id": "2d5bfba5-4acb-487c-adc1-50a183a1f9d7",
   "metadata": {},
   "outputs": [
    {
     "data": {
      "application/vnd.plotly.v1+json": {
       "config": {
        "plotlyServerURL": "https://plot.ly"
       },
       "data": [
        {
         "alignmentgroup": "True",
         "hovertemplate": "Type_bâtiment=appartement<br>Etiquette DPE=%{x}<br>Coût moyen/m2 en €=%{y}<extra></extra>",
         "legendgroup": "appartement",
         "marker": {
          "color": "#636efa",
          "pattern": {
           "shape": ""
          }
         },
         "name": "appartement",
         "offsetgroup": "appartement",
         "orientation": "v",
         "showlegend": true,
         "textposition": "auto",
         "type": "bar",
         "x": [
          "A",
          "B",
          "C",
          "D",
          "E",
          "F",
          "G"
         ],
         "xaxis": "x",
         "y": [
          5.380792097536687,
          6.450198092477499,
          7.052828876263052,
          10.341731707813933,
          16.314925891962005,
          22.10122101858776,
          33.12074958542452
         ],
         "yaxis": "y"
        },
        {
         "alignmentgroup": "True",
         "hovertemplate": "Type_bâtiment=maison<br>Etiquette DPE=%{x}<br>Coût moyen/m2 en €=%{y}<extra></extra>",
         "legendgroup": "maison",
         "marker": {
          "color": "#EF553B",
          "pattern": {
           "shape": ""
          }
         },
         "name": "maison",
         "offsetgroup": "maison",
         "orientation": "v",
         "showlegend": true,
         "textposition": "auto",
         "type": "bar",
         "x": [
          "A",
          "B",
          "C",
          "D",
          "E",
          "F",
          "G"
         ],
         "xaxis": "x",
         "y": [
          4.457637969426754,
          6.677535277095024,
          8.426963455531453,
          11.007677860886972,
          13.241651125870806,
          16.799386518224352,
          28.158435886745487
         ],
         "yaxis": "y"
        }
       ],
       "layout": {
        "autosize": true,
        "barmode": "group",
        "legend": {
         "title": {
          "text": "Type_bâtiment"
         },
         "tracegroupgap": 0
        },
        "template": {
         "data": {
          "bar": [
           {
            "error_x": {
             "color": "#2a3f5f"
            },
            "error_y": {
             "color": "#2a3f5f"
            },
            "marker": {
             "line": {
              "color": "#E5ECF6",
              "width": 0.5
             },
             "pattern": {
              "fillmode": "overlay",
              "size": 10,
              "solidity": 0.2
             }
            },
            "type": "bar"
           }
          ],
          "barpolar": [
           {
            "marker": {
             "line": {
              "color": "#E5ECF6",
              "width": 0.5
             },
             "pattern": {
              "fillmode": "overlay",
              "size": 10,
              "solidity": 0.2
             }
            },
            "type": "barpolar"
           }
          ],
          "carpet": [
           {
            "aaxis": {
             "endlinecolor": "#2a3f5f",
             "gridcolor": "white",
             "linecolor": "white",
             "minorgridcolor": "white",
             "startlinecolor": "#2a3f5f"
            },
            "baxis": {
             "endlinecolor": "#2a3f5f",
             "gridcolor": "white",
             "linecolor": "white",
             "minorgridcolor": "white",
             "startlinecolor": "#2a3f5f"
            },
            "type": "carpet"
           }
          ],
          "choropleth": [
           {
            "colorbar": {
             "outlinewidth": 0,
             "ticks": ""
            },
            "type": "choropleth"
           }
          ],
          "contour": [
           {
            "colorbar": {
             "outlinewidth": 0,
             "ticks": ""
            },
            "colorscale": [
             [
              0,
              "#0d0887"
             ],
             [
              0.1111111111111111,
              "#46039f"
             ],
             [
              0.2222222222222222,
              "#7201a8"
             ],
             [
              0.3333333333333333,
              "#9c179e"
             ],
             [
              0.4444444444444444,
              "#bd3786"
             ],
             [
              0.5555555555555556,
              "#d8576b"
             ],
             [
              0.6666666666666666,
              "#ed7953"
             ],
             [
              0.7777777777777778,
              "#fb9f3a"
             ],
             [
              0.8888888888888888,
              "#fdca26"
             ],
             [
              1,
              "#f0f921"
             ]
            ],
            "type": "contour"
           }
          ],
          "contourcarpet": [
           {
            "colorbar": {
             "outlinewidth": 0,
             "ticks": ""
            },
            "type": "contourcarpet"
           }
          ],
          "heatmap": [
           {
            "colorbar": {
             "outlinewidth": 0,
             "ticks": ""
            },
            "colorscale": [
             [
              0,
              "#0d0887"
             ],
             [
              0.1111111111111111,
              "#46039f"
             ],
             [
              0.2222222222222222,
              "#7201a8"
             ],
             [
              0.3333333333333333,
              "#9c179e"
             ],
             [
              0.4444444444444444,
              "#bd3786"
             ],
             [
              0.5555555555555556,
              "#d8576b"
             ],
             [
              0.6666666666666666,
              "#ed7953"
             ],
             [
              0.7777777777777778,
              "#fb9f3a"
             ],
             [
              0.8888888888888888,
              "#fdca26"
             ],
             [
              1,
              "#f0f921"
             ]
            ],
            "type": "heatmap"
           }
          ],
          "heatmapgl": [
           {
            "colorbar": {
             "outlinewidth": 0,
             "ticks": ""
            },
            "colorscale": [
             [
              0,
              "#0d0887"
             ],
             [
              0.1111111111111111,
              "#46039f"
             ],
             [
              0.2222222222222222,
              "#7201a8"
             ],
             [
              0.3333333333333333,
              "#9c179e"
             ],
             [
              0.4444444444444444,
              "#bd3786"
             ],
             [
              0.5555555555555556,
              "#d8576b"
             ],
             [
              0.6666666666666666,
              "#ed7953"
             ],
             [
              0.7777777777777778,
              "#fb9f3a"
             ],
             [
              0.8888888888888888,
              "#fdca26"
             ],
             [
              1,
              "#f0f921"
             ]
            ],
            "type": "heatmapgl"
           }
          ],
          "histogram": [
           {
            "marker": {
             "pattern": {
              "fillmode": "overlay",
              "size": 10,
              "solidity": 0.2
             }
            },
            "type": "histogram"
           }
          ],
          "histogram2d": [
           {
            "colorbar": {
             "outlinewidth": 0,
             "ticks": ""
            },
            "colorscale": [
             [
              0,
              "#0d0887"
             ],
             [
              0.1111111111111111,
              "#46039f"
             ],
             [
              0.2222222222222222,
              "#7201a8"
             ],
             [
              0.3333333333333333,
              "#9c179e"
             ],
             [
              0.4444444444444444,
              "#bd3786"
             ],
             [
              0.5555555555555556,
              "#d8576b"
             ],
             [
              0.6666666666666666,
              "#ed7953"
             ],
             [
              0.7777777777777778,
              "#fb9f3a"
             ],
             [
              0.8888888888888888,
              "#fdca26"
             ],
             [
              1,
              "#f0f921"
             ]
            ],
            "type": "histogram2d"
           }
          ],
          "histogram2dcontour": [
           {
            "colorbar": {
             "outlinewidth": 0,
             "ticks": ""
            },
            "colorscale": [
             [
              0,
              "#0d0887"
             ],
             [
              0.1111111111111111,
              "#46039f"
             ],
             [
              0.2222222222222222,
              "#7201a8"
             ],
             [
              0.3333333333333333,
              "#9c179e"
             ],
             [
              0.4444444444444444,
              "#bd3786"
             ],
             [
              0.5555555555555556,
              "#d8576b"
             ],
             [
              0.6666666666666666,
              "#ed7953"
             ],
             [
              0.7777777777777778,
              "#fb9f3a"
             ],
             [
              0.8888888888888888,
              "#fdca26"
             ],
             [
              1,
              "#f0f921"
             ]
            ],
            "type": "histogram2dcontour"
           }
          ],
          "mesh3d": [
           {
            "colorbar": {
             "outlinewidth": 0,
             "ticks": ""
            },
            "type": "mesh3d"
           }
          ],
          "parcoords": [
           {
            "line": {
             "colorbar": {
              "outlinewidth": 0,
              "ticks": ""
             }
            },
            "type": "parcoords"
           }
          ],
          "pie": [
           {
            "automargin": true,
            "type": "pie"
           }
          ],
          "scatter": [
           {
            "fillpattern": {
             "fillmode": "overlay",
             "size": 10,
             "solidity": 0.2
            },
            "type": "scatter"
           }
          ],
          "scatter3d": [
           {
            "line": {
             "colorbar": {
              "outlinewidth": 0,
              "ticks": ""
             }
            },
            "marker": {
             "colorbar": {
              "outlinewidth": 0,
              "ticks": ""
             }
            },
            "type": "scatter3d"
           }
          ],
          "scattercarpet": [
           {
            "marker": {
             "colorbar": {
              "outlinewidth": 0,
              "ticks": ""
             }
            },
            "type": "scattercarpet"
           }
          ],
          "scattergeo": [
           {
            "marker": {
             "colorbar": {
              "outlinewidth": 0,
              "ticks": ""
             }
            },
            "type": "scattergeo"
           }
          ],
          "scattergl": [
           {
            "marker": {
             "colorbar": {
              "outlinewidth": 0,
              "ticks": ""
             }
            },
            "type": "scattergl"
           }
          ],
          "scattermapbox": [
           {
            "marker": {
             "colorbar": {
              "outlinewidth": 0,
              "ticks": ""
             }
            },
            "type": "scattermapbox"
           }
          ],
          "scatterpolar": [
           {
            "marker": {
             "colorbar": {
              "outlinewidth": 0,
              "ticks": ""
             }
            },
            "type": "scatterpolar"
           }
          ],
          "scatterpolargl": [
           {
            "marker": {
             "colorbar": {
              "outlinewidth": 0,
              "ticks": ""
             }
            },
            "type": "scatterpolargl"
           }
          ],
          "scatterternary": [
           {
            "marker": {
             "colorbar": {
              "outlinewidth": 0,
              "ticks": ""
             }
            },
            "type": "scatterternary"
           }
          ],
          "surface": [
           {
            "colorbar": {
             "outlinewidth": 0,
             "ticks": ""
            },
            "colorscale": [
             [
              0,
              "#0d0887"
             ],
             [
              0.1111111111111111,
              "#46039f"
             ],
             [
              0.2222222222222222,
              "#7201a8"
             ],
             [
              0.3333333333333333,
              "#9c179e"
             ],
             [
              0.4444444444444444,
              "#bd3786"
             ],
             [
              0.5555555555555556,
              "#d8576b"
             ],
             [
              0.6666666666666666,
              "#ed7953"
             ],
             [
              0.7777777777777778,
              "#fb9f3a"
             ],
             [
              0.8888888888888888,
              "#fdca26"
             ],
             [
              1,
              "#f0f921"
             ]
            ],
            "type": "surface"
           }
          ],
          "table": [
           {
            "cells": {
             "fill": {
              "color": "#EBF0F8"
             },
             "line": {
              "color": "white"
             }
            },
            "header": {
             "fill": {
              "color": "#C8D4E3"
             },
             "line": {
              "color": "white"
             }
            },
            "type": "table"
           }
          ]
         },
         "layout": {
          "annotationdefaults": {
           "arrowcolor": "#2a3f5f",
           "arrowhead": 0,
           "arrowwidth": 1
          },
          "autotypenumbers": "strict",
          "coloraxis": {
           "colorbar": {
            "outlinewidth": 0,
            "ticks": ""
           }
          },
          "colorscale": {
           "diverging": [
            [
             0,
             "#8e0152"
            ],
            [
             0.1,
             "#c51b7d"
            ],
            [
             0.2,
             "#de77ae"
            ],
            [
             0.3,
             "#f1b6da"
            ],
            [
             0.4,
             "#fde0ef"
            ],
            [
             0.5,
             "#f7f7f7"
            ],
            [
             0.6,
             "#e6f5d0"
            ],
            [
             0.7,
             "#b8e186"
            ],
            [
             0.8,
             "#7fbc41"
            ],
            [
             0.9,
             "#4d9221"
            ],
            [
             1,
             "#276419"
            ]
           ],
           "sequential": [
            [
             0,
             "#0d0887"
            ],
            [
             0.1111111111111111,
             "#46039f"
            ],
            [
             0.2222222222222222,
             "#7201a8"
            ],
            [
             0.3333333333333333,
             "#9c179e"
            ],
            [
             0.4444444444444444,
             "#bd3786"
            ],
            [
             0.5555555555555556,
             "#d8576b"
            ],
            [
             0.6666666666666666,
             "#ed7953"
            ],
            [
             0.7777777777777778,
             "#fb9f3a"
            ],
            [
             0.8888888888888888,
             "#fdca26"
            ],
            [
             1,
             "#f0f921"
            ]
           ],
           "sequentialminus": [
            [
             0,
             "#0d0887"
            ],
            [
             0.1111111111111111,
             "#46039f"
            ],
            [
             0.2222222222222222,
             "#7201a8"
            ],
            [
             0.3333333333333333,
             "#9c179e"
            ],
            [
             0.4444444444444444,
             "#bd3786"
            ],
            [
             0.5555555555555556,
             "#d8576b"
            ],
            [
             0.6666666666666666,
             "#ed7953"
            ],
            [
             0.7777777777777778,
             "#fb9f3a"
            ],
            [
             0.8888888888888888,
             "#fdca26"
            ],
            [
             1,
             "#f0f921"
            ]
           ]
          },
          "colorway": [
           "#636efa",
           "#EF553B",
           "#00cc96",
           "#ab63fa",
           "#FFA15A",
           "#19d3f3",
           "#FF6692",
           "#B6E880",
           "#FF97FF",
           "#FECB52"
          ],
          "font": {
           "color": "#2a3f5f"
          },
          "geo": {
           "bgcolor": "white",
           "lakecolor": "white",
           "landcolor": "#E5ECF6",
           "showlakes": true,
           "showland": true,
           "subunitcolor": "white"
          },
          "hoverlabel": {
           "align": "left"
          },
          "hovermode": "closest",
          "mapbox": {
           "style": "light"
          },
          "paper_bgcolor": "white",
          "plot_bgcolor": "#E5ECF6",
          "polar": {
           "angularaxis": {
            "gridcolor": "white",
            "linecolor": "white",
            "ticks": ""
           },
           "bgcolor": "#E5ECF6",
           "radialaxis": {
            "gridcolor": "white",
            "linecolor": "white",
            "ticks": ""
           }
          },
          "scene": {
           "xaxis": {
            "backgroundcolor": "#E5ECF6",
            "gridcolor": "white",
            "gridwidth": 2,
            "linecolor": "white",
            "showbackground": true,
            "ticks": "",
            "zerolinecolor": "white"
           },
           "yaxis": {
            "backgroundcolor": "#E5ECF6",
            "gridcolor": "white",
            "gridwidth": 2,
            "linecolor": "white",
            "showbackground": true,
            "ticks": "",
            "zerolinecolor": "white"
           },
           "zaxis": {
            "backgroundcolor": "#E5ECF6",
            "gridcolor": "white",
            "gridwidth": 2,
            "linecolor": "white",
            "showbackground": true,
            "ticks": "",
            "zerolinecolor": "white"
           }
          },
          "shapedefaults": {
           "line": {
            "color": "#2a3f5f"
           }
          },
          "ternary": {
           "aaxis": {
            "gridcolor": "white",
            "linecolor": "white",
            "ticks": ""
           },
           "baxis": {
            "gridcolor": "white",
            "linecolor": "white",
            "ticks": ""
           },
           "bgcolor": "#E5ECF6",
           "caxis": {
            "gridcolor": "white",
            "linecolor": "white",
            "ticks": ""
           }
          },
          "title": {
           "x": 0.05
          },
          "xaxis": {
           "automargin": true,
           "gridcolor": "white",
           "linecolor": "white",
           "ticks": "",
           "title": {
            "standoff": 15
           },
           "zerolinecolor": "white",
           "zerolinewidth": 2
          },
          "yaxis": {
           "automargin": true,
           "gridcolor": "white",
           "linecolor": "white",
           "ticks": "",
           "title": {
            "standoff": 15
           },
           "zerolinecolor": "white",
           "zerolinewidth": 2
          }
         }
        },
        "title": {
         "text": "Coût moyen/m2 par DPE et type de bâtiment"
        },
        "xaxis": {
         "anchor": "y",
         "autorange": true,
         "categoryarray": [
          "A",
          "B",
          "C",
          "D",
          "E",
          "F",
          "G"
         ],
         "categoryorder": "array",
         "domain": [
          0,
          1
         ],
         "range": [
          -0.5,
          6.5
         ],
         "title": {
          "text": "Etiquette DPE"
         },
         "type": "category"
        },
        "yaxis": {
         "anchor": "x",
         "autorange": true,
         "domain": [
          0,
          1
         ],
         "range": [
          0,
          34.86394693202581
         ],
         "title": {
          "text": "Coût moyen/m2 en €"
         },
         "type": "linear"
        }
       }
      },
      "image/png": "[encoded data removed]",
      "text/html": [
       "<div>                            <div id=\"a2c3af6f-d7b8-422f-b1e2-d5f13513e8d7\" class=\"plotly-graph-div\" style=\"height:400px; width:100%;\"></div>            <script type=\"text/javascript\">                require([\"plotly\"], function(Plotly) {                    window.PLOTLYENV=window.PLOTLYENV || {};                                    if (document.getElementById(\"a2c3af6f-d7b8-422f-b1e2-d5f13513e8d7\")) {                    Plotly.newPlot(                        \"a2c3af6f-d7b8-422f-b1e2-d5f13513e8d7\",                        [{\"alignmentgroup\":\"True\",\"hovertemplate\":\"Type_b\\u00e2timent=appartement<br>Etiquette DPE=%{x}<br>Co\\u00fbt moyen/m2 en \\u20ac=%{y}<extra></extra>\",\"legendgroup\":\"appartement\",\"marker\":{\"color\":\"#636efa\",\"pattern\":{\"shape\":\"\"}},\"name\":\"appartement\",\"offsetgroup\":\"appartement\",\"orientation\":\"v\",\"showlegend\":true,\"textposition\":\"auto\",\"x\":[\"A\",\"B\",\"C\",\"D\",\"E\",\"F\",\"G\"],\"xaxis\":\"x\",\"y\":[5.380792097536687,6.450198092477499,7.052828876263052,10.341731707813933,16.314925891962005,22.10122101858776,33.12074958542452],\"yaxis\":\"y\",\"type\":\"bar\"},{\"alignmentgroup\":\"True\",\"hovertemplate\":\"Type_b\\u00e2timent=maison<br>Etiquette DPE=%{x}<br>Co\\u00fbt moyen/m2 en \\u20ac=%{y}<extra></extra>\",\"legendgroup\":\"maison\",\"marker\":{\"color\":\"#EF553B\",\"pattern\":{\"shape\":\"\"}},\"name\":\"maison\",\"offsetgroup\":\"maison\",\"orientation\":\"v\",\"showlegend\":true,\"textposition\":\"auto\",\"x\":[\"A\",\"B\",\"C\",\"D\",\"E\",\"F\",\"G\"],\"xaxis\":\"x\",\"y\":[4.457637969426754,6.677535277095024,8.426963455531453,11.007677860886972,13.241651125870806,16.799386518224352,28.158435886745487],\"yaxis\":\"y\",\"type\":\"bar\"}],                        {\"template\":{\"data\":{\"histogram2dcontour\":[{\"type\":\"histogram2dcontour\",\"colorbar\":{\"outlinewidth\":0,\"ticks\":\"\"},\"colorscale\":[[0.0,\"#0d0887\"],[0.1111111111111111,\"#46039f\"],[0.2222222222222222,\"#7201a8\"],[0.3333333333333333,\"#9c179e\"],[0.4444444444444444,\"#bd3786\"],[0.5555555555555556,\"#d8576b\"],[0.6666666666666666,\"#ed7953\"],[0.7777777777777778,\"#fb9f3a\"],[0.8888888888888888,\"#fdca26\"],[1.0,\"#f0f921\"]]}],\"choropleth\":[{\"type\":\"choropleth\",\"colorbar\":{\"outlinewidth\":0,\"ticks\":\"\"}}],\"histogram2d\":[{\"type\":\"histogram2d\",\"colorbar\":{\"outlinewidth\":0,\"ticks\":\"\"},\"colorscale\":[[0.0,\"#0d0887\"],[0.1111111111111111,\"#46039f\"],[0.2222222222222222,\"#7201a8\"],[0.3333333333333333,\"#9c179e\"],[0.4444444444444444,\"#bd3786\"],[0.5555555555555556,\"#d8576b\"],[0.6666666666666666,\"#ed7953\"],[0.7777777777777778,\"#fb9f3a\"],[0.8888888888888888,\"#fdca26\"],[1.0,\"#f0f921\"]]}],\"heatmap\":[{\"type\":\"heatmap\",\"colorbar\":{\"outlinewidth\":0,\"ticks\":\"\"},\"colorscale\":[[0.0,\"#0d0887\"],[0.1111111111111111,\"#46039f\"],[0.2222222222222222,\"#7201a8\"],[0.3333333333333333,\"#9c179e\"],[0.4444444444444444,\"#bd3786\"],[0.5555555555555556,\"#d8576b\"],[0.6666666666666666,\"#ed7953\"],[0.7777777777777778,\"#fb9f3a\"],[0.8888888888888888,\"#fdca26\"],[1.0,\"#f0f921\"]]}],\"heatmapgl\":[{\"type\":\"heatmapgl\",\"colorbar\":{\"outlinewidth\":0,\"ticks\":\"\"},\"colorscale\":[[0.0,\"#0d0887\"],[0.1111111111111111,\"#46039f\"],[0.2222222222222222,\"#7201a8\"],[0.3333333333333333,\"#9c179e\"],[0.4444444444444444,\"#bd3786\"],[0.5555555555555556,\"#d8576b\"],[0.6666666666666666,\"#ed7953\"],[0.7777777777777778,\"#fb9f3a\"],[0.8888888888888888,\"#fdca26\"],[1.0,\"#f0f921\"]]}],\"contourcarpet\":[{\"type\":\"contourcarpet\",\"colorbar\":{\"outlinewidth\":0,\"ticks\":\"\"}}],\"contour\":[{\"type\":\"contour\",\"colorbar\":{\"outlinewidth\":0,\"ticks\":\"\"},\"colorscale\":[[0.0,\"#0d0887\"],[0.1111111111111111,\"#46039f\"],[0.2222222222222222,\"#7201a8\"],[0.3333333333333333,\"#9c179e\"],[0.4444444444444444,\"#bd3786\"],[0.5555555555555556,\"#d8576b\"],[0.6666666666666666,\"#ed7953\"],[0.7777777777777778,\"#fb9f3a\"],[0.8888888888888888,\"#fdca26\"],[1.0,\"#f0f921\"]]}],\"surface\":[{\"type\":\"surface\",\"colorbar\":{\"outlinewidth\":0,\"ticks\":\"\"},\"colorscale\":[[0.0,\"#0d0887\"],[0.1111111111111111,\"#46039f\"],[0.2222222222222222,\"#7201a8\"],[0.3333333333333333,\"#9c179e\"],[0.4444444444444444,\"#bd3786\"],[0.5555555555555556,\"#d8576b\"],[0.6666666666666666,\"#ed7953\"],[0.7777777777777778,\"#fb9f3a\"],[0.8888888888888888,\"#fdca26\"],[1.0,\"#f0f921\"]]}],\"mesh3d\":[{\"type\":\"mesh3d\",\"colorbar\":{\"outlinewidth\":0,\"ticks\":\"\"}}],\"scatter\":[{\"fillpattern\":{\"fillmode\":\"overlay\",\"size\":10,\"solidity\":0.2},\"type\":\"scatter\"}],\"parcoords\":[{\"type\":\"parcoords\",\"line\":{\"colorbar\":{\"outlinewidth\":0,\"ticks\":\"\"}}}],\"scatterpolargl\":[{\"type\":\"scatterpolargl\",\"marker\":{\"colorbar\":{\"outlinewidth\":0,\"ticks\":\"\"}}}],\"bar\":[{\"error_x\":{\"color\":\"#2a3f5f\"},\"error_y\":{\"color\":\"#2a3f5f\"},\"marker\":{\"line\":{\"color\":\"#E5ECF6\",\"width\":0.5},\"pattern\":{\"fillmode\":\"overlay\",\"size\":10,\"solidity\":0.2}},\"type\":\"bar\"}],\"scattergeo\":[{\"type\":\"scattergeo\",\"marker\":{\"colorbar\":{\"outlinewidth\":0,\"ticks\":\"\"}}}],\"scatterpolar\":[{\"type\":\"scatterpolar\",\"marker\":{\"colorbar\":{\"outlinewidth\":0,\"ticks\":\"\"}}}],\"histogram\":[{\"marker\":{\"pattern\":{\"fillmode\":\"overlay\",\"size\":10,\"solidity\":0.2}},\"type\":\"histogram\"}],\"scattergl\":[{\"type\":\"scattergl\",\"marker\":{\"colorbar\":{\"outlinewidth\":0,\"ticks\":\"\"}}}],\"scatter3d\":[{\"type\":\"scatter3d\",\"line\":{\"colorbar\":{\"outlinewidth\":0,\"ticks\":\"\"}},\"marker\":{\"colorbar\":{\"outlinewidth\":0,\"ticks\":\"\"}}}],\"scattermapbox\":[{\"type\":\"scattermapbox\",\"marker\":{\"colorbar\":{\"outlinewidth\":0,\"ticks\":\"\"}}}],\"scatterternary\":[{\"type\":\"scatterternary\",\"marker\":{\"colorbar\":{\"outlinewidth\":0,\"ticks\":\"\"}}}],\"scattercarpet\":[{\"type\":\"scattercarpet\",\"marker\":{\"colorbar\":{\"outlinewidth\":0,\"ticks\":\"\"}}}],\"carpet\":[{\"aaxis\":{\"endlinecolor\":\"#2a3f5f\",\"gridcolor\":\"white\",\"linecolor\":\"white\",\"minorgridcolor\":\"white\",\"startlinecolor\":\"#2a3f5f\"},\"baxis\":{\"endlinecolor\":\"#2a3f5f\",\"gridcolor\":\"white\",\"linecolor\":\"white\",\"minorgridcolor\":\"white\",\"startlinecolor\":\"#2a3f5f\"},\"type\":\"carpet\"}],\"table\":[{\"cells\":{\"fill\":{\"color\":\"#EBF0F8\"},\"line\":{\"color\":\"white\"}},\"header\":{\"fill\":{\"color\":\"#C8D4E3\"},\"line\":{\"color\":\"white\"}},\"type\":\"table\"}],\"barpolar\":[{\"marker\":{\"line\":{\"color\":\"#E5ECF6\",\"width\":0.5},\"pattern\":{\"fillmode\":\"overlay\",\"size\":10,\"solidity\":0.2}},\"type\":\"barpolar\"}],\"pie\":[{\"automargin\":true,\"type\":\"pie\"}]},\"layout\":{\"autotypenumbers\":\"strict\",\"colorway\":[\"#636efa\",\"#EF553B\",\"#00cc96\",\"#ab63fa\",\"#FFA15A\",\"#19d3f3\",\"#FF6692\",\"#B6E880\",\"#FF97FF\",\"#FECB52\"],\"font\":{\"color\":\"#2a3f5f\"},\"hovermode\":\"closest\",\"hoverlabel\":{\"align\":\"left\"},\"paper_bgcolor\":\"white\",\"plot_bgcolor\":\"#E5ECF6\",\"polar\":{\"bgcolor\":\"#E5ECF6\",\"angularaxis\":{\"gridcolor\":\"white\",\"linecolor\":\"white\",\"ticks\":\"\"},\"radialaxis\":{\"gridcolor\":\"white\",\"linecolor\":\"white\",\"ticks\":\"\"}},\"ternary\":{\"bgcolor\":\"#E5ECF6\",\"aaxis\":{\"gridcolor\":\"white\",\"linecolor\":\"white\",\"ticks\":\"\"},\"baxis\":{\"gridcolor\":\"white\",\"linecolor\":\"white\",\"ticks\":\"\"},\"caxis\":{\"gridcolor\":\"white\",\"linecolor\":\"white\",\"ticks\":\"\"}},\"coloraxis\":{\"colorbar\":{\"outlinewidth\":0,\"ticks\":\"\"}},\"colorscale\":{\"sequential\":[[0.0,\"#0d0887\"],[0.1111111111111111,\"#46039f\"],[0.2222222222222222,\"#7201a8\"],[0.3333333333333333,\"#9c179e\"],[0.4444444444444444,\"#bd3786\"],[0.5555555555555556,\"#d8576b\"],[0.6666666666666666,\"#ed7953\"],[0.7777777777777778,\"#fb9f3a\"],[0.8888888888888888,\"#fdca26\"],[1.0,\"#f0f921\"]],\"sequentialminus\":[[0.0,\"#0d0887\"],[0.1111111111111111,\"#46039f\"],[0.2222222222222222,\"#7201a8\"],[0.3333333333333333,\"#9c179e\"],[0.4444444444444444,\"#bd3786\"],[0.5555555555555556,\"#d8576b\"],[0.6666666666666666,\"#ed7953\"],[0.7777777777777778,\"#fb9f3a\"],[0.8888888888888888,\"#fdca26\"],[1.0,\"#f0f921\"]],\"diverging\":[[0,\"#8e0152\"],[0.1,\"#c51b7d\"],[0.2,\"#de77ae\"],[0.3,\"#f1b6da\"],[0.4,\"#fde0ef\"],[0.5,\"#f7f7f7\"],[0.6,\"#e6f5d0\"],[0.7,\"#b8e186\"],[0.8,\"#7fbc41\"],[0.9,\"#4d9221\"],[1,\"#276419\"]]},\"xaxis\":{\"gridcolor\":\"white\",\"linecolor\":\"white\",\"ticks\":\"\",\"title\":{\"standoff\":15},\"zerolinecolor\":\"white\",\"automargin\":true,\"zerolinewidth\":2},\"yaxis\":{\"gridcolor\":\"white\",\"linecolor\":\"white\",\"ticks\":\"\",\"title\":{\"standoff\":15},\"zerolinecolor\":\"white\",\"automargin\":true,\"zerolinewidth\":2},\"scene\":{\"xaxis\":{\"backgroundcolor\":\"#E5ECF6\",\"gridcolor\":\"white\",\"linecolor\":\"white\",\"showbackground\":true,\"ticks\":\"\",\"zerolinecolor\":\"white\",\"gridwidth\":2},\"yaxis\":{\"backgroundcolor\":\"#E5ECF6\",\"gridcolor\":\"white\",\"linecolor\":\"white\",\"showbackground\":true,\"ticks\":\"\",\"zerolinecolor\":\"white\",\"gridwidth\":2},\"zaxis\":{\"backgroundcolor\":\"#E5ECF6\",\"gridcolor\":\"white\",\"linecolor\":\"white\",\"showbackground\":true,\"ticks\":\"\",\"zerolinecolor\":\"white\",\"gridwidth\":2}},\"shapedefaults\":{\"line\":{\"color\":\"#2a3f5f\"}},\"annotationdefaults\":{\"arrowcolor\":\"#2a3f5f\",\"arrowhead\":0,\"arrowwidth\":1},\"geo\":{\"bgcolor\":\"white\",\"landcolor\":\"#E5ECF6\",\"subunitcolor\":\"white\",\"showland\":true,\"showlakes\":true,\"lakecolor\":\"white\"},\"title\":{\"x\":0.05},\"mapbox\":{\"style\":\"light\"}}},\"xaxis\":{\"anchor\":\"y\",\"domain\":[0.0,1.0],\"title\":{\"text\":\"Etiquette DPE\"},\"categoryorder\":\"array\",\"categoryarray\":[\"A\",\"B\",\"C\",\"D\",\"E\",\"F\",\"G\"]},\"yaxis\":{\"anchor\":\"x\",\"domain\":[0.0,1.0],\"title\":{\"text\":\"Co\\u00fbt moyen/m2 en \\u20ac\"}},\"legend\":{\"title\":{\"text\":\"Type_b\\u00e2timent\"},\"tracegroupgap\":0},\"title\":{\"text\":\"Co\\u00fbt moyen/m2 par DPE et type de b\\u00e2timent\"},\"barmode\":\"group\",\"height\":400},                        {\"responsive\": true}                    ).then(function(){\n",
       "                            \n",
       "var gd = document.getElementById('a2c3af6f-d7b8-422f-b1e2-d5f13513e8d7');\n",
       "var x = new MutationObserver(function (mutations, observer) {{\n",
       "        var display = window.getComputedStyle(gd).display;\n",
       "        if (!display || display === 'none') {{\n",
       "            console.log([gd, 'removed!']);\n",
       "            Plotly.purge(gd);\n",
       "            observer.disconnect();\n",
       "        }}\n",
       "}});\n",
       "\n",
       "// Listen for the removal of the full notebook cells\n",
       "var notebookContainer = gd.closest('#notebook-container');\n",
       "if (notebookContainer) {{\n",
       "    x.observe(notebookContainer, {childList: true});\n",
       "}}\n",
       "\n",
       "// Listen for the clearing of the current output cell\n",
       "var outputEl = gd.closest('.output');\n",
       "if (outputEl) {{\n",
       "    x.observe(outputEl, {childList: true});\n",
       "}}\n",
       "\n",
       "                        })                };                });            </script>        </div>"
      ]
     },
     "metadata": {},
     "output_type": "display_data"
    }
   ],
   "source": [
    "fig = px.bar(df_filter_without_im, x='Etiquette_DPE', y='coût_moyen_par_m2_en_euros', color='Type_bâtiment', barmode='group',\n",
    "             title='Coût moyen/m2 par DPE et type de bâtiment',\n",
    "             labels={'Etiquette_DPE': 'Etiquette DPE', 'coût_moyen_par_m2_en_euros': 'Coût moyen/m2 en €'},\n",
    "             category_orders={'Etiquette_DPE': ['A', 'B', 'C', 'D', 'E', 'F', 'G']},\n",
    "             height=400)\n",
    "\n",
    "fig.show()"
   ]
  }
 ],
 "metadata": {
  "kernelspec": {
   "display_name": "Python 3 (ipykernel)",
   "language": "python",
   "name": "python3"
  },
  "language_info": {
   "codemirror_mode": {
    "name": "ipython",
    "version": 3
   },
   "file_extension": ".py",
   "mimetype": "text/x-python",
   "name": "python",
   "nbconvert_exporter": "python",
   "pygments_lexer": "ipython3",
   "version": "3.11.7"
  }
 },
 "nbformat": 4,
 "nbformat_minor": 5
}
